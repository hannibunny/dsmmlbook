{
 "cells": [
  {
   "cell_type": "markdown",
   "metadata": {},
   "source": [
    "# Assignment 2: Regression with Decision Trees and Gradient Boosting\n",
    "\n",
    "In this assignment [demographic data of german counties](../Data/landkreise2017.csv) shall be applied to predict the average living rent per squaremeter. Prediction shall be modelled by *Decision Trees* and *GradientBoosting* for Regression.\n"
   ]
  },
  {
   "cell_type": "markdown",
   "metadata": {},
   "source": [
    "## Task 2: \n",
    "1. Read data from [demographic data of german counties](../Data/landkreise2017.csv) into a pandas dataframe. \n",
    "    * Ignore column `Kreis` for the following modelling tasks\n",
    "    * Use column `Miete` as the target-variable, which shall be predicted\n",
    "    * Use all remaining columns as input-features\n",
    "2. Split the entire dataset into a training-partition (70%) and a test-partition (30%).\n",
    "\n",
    "## Task 3:\n",
    "1. Train a [DecisionTreeRegressor](http://scikit-learn.org/stable/modules/generated/sklearn.tree.DecisionTreeRegressor.html) using the training partition.\n",
    "2. Apply the same methods as in section 3 of [notebook 02RegressionPipe.ipynb](../Lecture/02RegressionPipe.ipynb) in order to\n",
    "    * calculate the predictions on the test-data-partition\n",
    "    * determine the regression metrics (copy the corresponding function `determineRegressionMetrics`) into this notebook).\n",
    "    * determine the feature-importances as calculated by the decision tree\n",
    "    * visualize the prediction error"
   ]
  },
  {
   "cell_type": "markdown",
   "metadata": {},
   "source": [
    "## Task 4: \n",
    "1. Apply 5-fold cross-validation for evaluation of the decision tree regressor. "
   ]
  },
  {
   "cell_type": "markdown",
   "metadata": {},
   "source": [
    "## Task 5:\n",
    "1. Now apply 5-fold cross-validation for GradientBoostingRegressor on the same data."
   ]
  },
  {
   "cell_type": "markdown",
   "metadata": {},
   "source": [
    "## Task 6:\n",
    "Optimize parameters of the GradientBoostingRegressor by applying RandomizedSearchCV. "
   ]
  }
 ],
 "metadata": {
  "kernelspec": {
   "display_name": "Python 3",
   "language": "python",
   "name": "python3"
  },
  "language_info": {
   "codemirror_mode": {
    "name": "ipython",
    "version": 3
   },
   "file_extension": ".py",
   "mimetype": "text/x-python",
   "name": "python",
   "nbconvert_exporter": "python",
   "pygments_lexer": "ipython3",
   "version": "3.7.5"
  },
  "nav_menu": {},
  "toc": {
   "base_numbering": 1,
   "nav_menu": {},
   "number_sections": true,
   "sideBar": true,
   "skip_h1_title": false,
   "title_cell": "Table of Contents",
   "title_sidebar": "Contents",
   "toc_cell": false,
   "toc_position": {},
   "toc_section_display": "block",
   "toc_window_display": false
  }
 },
 "nbformat": 4,
 "nbformat_minor": 4
}
