{
 "cells": [
  {
   "cell_type": "markdown",
   "metadata": {},
   "source": [
    "# Assignment 4: Sentiment Classification with CNNs and LSTMs\n",
    "\n",
    "In this assigment CNNs and LSTMs shall be applied for sentiment classification in tweets. The prepared .csv dataset is available in the [Data folder of this repository](../Data/Sentiment.csv). It originates from [https://www.crowdflower.com/data-for-everyone/](https://www.crowdflower.com/data-for-everyone/) and contains thousands of tweets about the early August 2015 GOP debate in Ohio.\n",
    "\n",
    "## Task 1:\n",
    "> **Note:** Download the current version of the Gitlab repository before you start.\n",
    "\n",
    "Prepare yourself for this assignment by studying:\n",
    "* [notebook 08TextClassification.ipynb](../Lecture/08TextClassification.ipynb). This notebook describes how CNNs and LSTMs can be applied for document classification. In the current assignment similar document classification shall be applied for tweets on a specific topic, which are already labeled with a sentiment value. "
   ]
  },
  {
   "cell_type": "markdown",
   "metadata": {},
   "source": [
    "## Task 2: Access and Preprocess Tweet data\n",
    "1. Load data from [../Data/Sentiment.csv](../Data/Sentiment.csv) into a Pandas dataframe. For this assignment only the columns `text` and `sentiment` are required.\n",
    "2. The `sentiment`-column defines the class. It contains 3 different labels, `positive`, `negative` and `neural`. Remove all rows, which are labeled `neutral`. This rows shall be ignored in this assignment.\n",
    "3. Preprocessing of the strings in column `text`:\n",
    " * map all characters to lower-case, by applying the corresponding Python string-method.\n",
    " * Remove from all texts the `rt` (retweet) at the start of the text.\n",
    " * Remove all non-alphanumeric characters from the texts. "
   ]
  },
  {
   "cell_type": "markdown",
   "metadata": {},
   "source": [
    "## Task 3: Prepare Training and Test data\n",
    "1. Apply the Keras class [`Tokenizer`](https://keras.io/preprocessing/text/#tokenizer) for representing each text (tweet) as a sequence of integer indices. The `num_words`-argument in the `Tokenizer`-class should be set to 2000. Pad all sequences by applying `pad_sequences()`, such that all sequences has the same length.\n",
    "2. Transform the labels in the `sentiment`-column to a one-hot encoded representation. This can easily be done by applying the Pandas-dataframe method `get_dummies()`.\n",
    "3. Split the dataset in a training set (65%) and a validation set (35%)."
   ]
  },
  {
   "cell_type": "markdown",
   "metadata": {},
   "source": [
    "## Task 4: Prepare Word-Embedding Input to the Neural Net\n",
    "1. As in Assignment 3 load the Fasttext-Wordembedding into a `KeyedVector`-object of the `gensim.models`-module.\n",
    "2. The `KeyedVector`-class already provides a method `get_keras_embedding()`, which returns an Embedding-Layer for a Keras Neural Net ([Gensim Documentation](https://radimrehurek.com/gensim/models/keyedvectors.html)).\n",
    "\n",
    "**Alternatively, you can avoid the use of a pre-trained embedding and learn the embedding in this classification task (as described in [notebook 08TextClassification.ipynb](../Lecture/08TextClassification.ipynb)).**"
   ]
  },
  {
   "cell_type": "markdown",
   "metadata": {},
   "source": [
    "## Task 5: CNN and LSTM Sentiment Classifier\n",
    "1. Define, train and evaluate a CNN for sentiment classification, similar as in [notebook 08TextClassification.ipynb](..Lecture/08TextClassification.ipynb). Find good hyperparameters for the network-architecture.\n",
    "\n",
    "2. Define, train and evaluate a LSTM for sentiment classification, similar as in [notebook 08TextClassification.ipynb](../Lecture/08TextClassification.ipynb). Find good hyperparameters for the network-architecture.\n"
   ]
  },
  {
   "cell_type": "code",
   "execution_count": null,
   "metadata": {},
   "outputs": [],
   "source": []
  }
 ],
 "metadata": {
  "kernelspec": {
   "display_name": "Python 3",
   "language": "python",
   "name": "python3"
  },
  "language_info": {
   "codemirror_mode": {
    "name": "ipython",
    "version": 3
   },
   "file_extension": ".py",
   "mimetype": "text/x-python",
   "name": "python",
   "nbconvert_exporter": "python",
   "pygments_lexer": "ipython3",
   "version": "3.7.5"
  },
  "nav_menu": {},
  "toc": {
   "base_numbering": 1,
   "nav_menu": {},
   "number_sections": true,
   "sideBar": true,
   "skip_h1_title": false,
   "title_cell": "Table of Contents",
   "title_sidebar": "Contents",
   "toc_cell": false,
   "toc_position": {},
   "toc_section_display": "block",
   "toc_window_display": false
  }
 },
 "nbformat": 4,
 "nbformat_minor": 4
}
