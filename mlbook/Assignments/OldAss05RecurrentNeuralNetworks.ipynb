{
 "cells": [
  {
   "cell_type": "markdown",
   "metadata": {},
   "source": [
    "# Exercise 5: Recurrent Neural Networks"
   ]
  },
  {
   "cell_type": "markdown",
   "metadata": {},
   "source": [
    "## What you will learn:\n",
    "* Preparing sequential data\n",
    "* Recurrent Neural Networks\n",
    "\n",
    "## Preparation\n",
    "\n",
    "1. Study notebook [Temperature Predition with Recurrent Neural Networks](../LSTMtemperature.ipynb) and answer the following questions:\n",
    "    1. What is a python *generator*? What is the difference to a python *function*?\n",
    "    2. Explain all arguments of the python generator `generator`, defined in notebook [Temperature Prediction with Recurrent Neural Networks](../LSTMtemperature.ipynb). Explain the datastructures, which are *returned* by this generator.\n",
    "    3. Explain how the Baseline-Model predicts future values?\n"
   ]
  },
  {
   "cell_type": "markdown",
   "metadata": {},
   "source": [
    "## Tasks\n",
    "In this exercise all neural network architectures, applied in notebook [Temperature Predition with Recurrent Neural Networks](../LSTMtemperature.ipynb) shall be applied to the [hourly bike-rental prediction dataset](../Data/bikehour.csv) in order to predict the number of bike-rentals 24hours ahead. Each feature-vector consists of the 12 features `season`, `yr`, `mnth`, `hr`, `holiday`, `weekday`, `workingday`, `weathersit`, `temp`, `atemp`, `hum` and `windspeed`. The target variable (number of bike-rentals per hour) is in the last column `cnt`. Each prediction of bike rentals 24 hours ahead shall be based on the current and the `lookback-1` previous feature vectors.\n",
    "\n",
    "### Task 1\n",
    "Visualize the number of hourly bike rentals (column `cnt` over the entire 2 years). Regard the insights of this visualisations for the next task where the training- and test-data must be prepared.\n",
    "\n",
    "### Task 2 (main task)\n",
    "Write a function (not a generator), which returns\n",
    "* a set of training inputs `X_train`,\n",
    "* a set of corresponding training labels `y_train`,\n",
    "* a set of test inputs `X_test`,\n",
    "* a set of corresponding test labels `y_test`\n",
    "\n",
    "This function shall be similar to the `generator` defined in notebook [Temperature Predition with Recurrent Neural Networks](../LSTMtemperature.ipynb), with the following differences:\n",
    "* The `step` argument is not required, because it is fixed to 1.\n",
    "* The `batch_size` argument is not required, because the function returns the entire training- and test-partition, not only mini-batches of both. The batchsize must now be configured in the `fit()`-function of the keras-models, which is applied instead of the `fit_generator()`-function.\n",
    "* The `min_index` and `max_index`-arguments are not required, because the function returns the entire training- and test-partition.\n",
    "* Half of the available data shall go to the training- the other half to the test-partition\n",
    "* In this exercise only a two-fold split into training- and test-data is required (not a three-fold split).\n",
    "\n",
    "As mentioned above, take into account the varying statistics of the dataset over the 2 years in order to come up with a good training- and test-split.\n",
    "\n",
    "### Task 3\n",
    "\n",
    "Similar as in notebook [Temperature Predition with Recurrent Neural Networks](../LSTMtemperature.ipynb) implement a baseline-model and determine the mean absolute error of the baseline-model on the test-data\n",
    "\n",
    "### Task 4\n",
    "\n",
    "Implement the neural network architectures used in notebook [Temperature Predition with Recurrent Neural Networks](../LSTMtemperature.ipynb) for the current dataset. Instead of the `fit_generator()`-function, now the `fit()`-function can be applied for training. Find good hyperparameters for all network architectures and document the best achieved mean absolute error for each architecture. What do you conclude from the obtained results?\n",
    "\n",
    "### Task 5 (optional)\n",
    "Repeat the entire experiments now with a smoothed version of the `cnt`-variable (see chapter Preprocessing in notebook [Temperature Predition with Recurrent Neural Networks](../LSTMtemperature.ipynb)). Compare the results with the results obtained on the raw-data.\n"
   ]
  },
  {
   "cell_type": "code",
   "execution_count": null,
   "metadata": {},
   "outputs": [],
   "source": []
  }
 ],
 "metadata": {
  "kernelspec": {
   "display_name": "Python 3",
   "language": "python",
   "name": "python3"
  },
  "language_info": {
   "codemirror_mode": {
    "name": "ipython",
    "version": 3
   },
   "file_extension": ".py",
   "mimetype": "text/x-python",
   "name": "python",
   "nbconvert_exporter": "python",
   "pygments_lexer": "ipython3",
   "version": "3.7.3"
  },
  "toc": {
   "nav_menu": {},
   "number_sections": true,
   "sideBar": true,
   "skip_h1_title": false,
   "title_cell": "Table of Contents",
   "title_sidebar": "Contents",
   "toc_cell": false,
   "toc_position": {},
   "toc_section_display": true,
   "toc_window_display": false
  }
 },
 "nbformat": 4,
 "nbformat_minor": 4
}
