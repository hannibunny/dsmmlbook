{
 "cells": [
  {
   "cell_type": "markdown",
   "metadata": {
    "slideshow": {
     "slide_type": "slide"
    }
   },
   "source": [
    "# Regression: House Price Prediction\n",
    "* Author: Johannes Maucher\n",
    "* Paper: [E.H. Ahmed, M.N. Moustafa: House Price Estimation from Visual and Textual Features](https://arxiv.org/pdf/1609.08399.pdf)\n",
    "* Data: [https://github.com/emanhamed/Houses-dataset](https://github.com/emanhamed/Houses-dataset)"
   ]
  },
  {
   "cell_type": "markdown",
   "metadata": {
    "slideshow": {
     "slide_type": "slide"
    }
   },
   "source": [
    "## Goal\n",
    "\n",
    "House prices can be predicted based on different types of information. In this notebook we apply **2 different types of data:**\n",
    "\n",
    "**Structured Data:**\n",
    "\n",
    "* number of bedrooms\n",
    "* number of bathrooms\n",
    "* entire living area in square feets\n",
    "* location of the house in terms of zipcode\n",
    "\n",
    "**Images**\n",
    "* 4 images per house from the following views: front, bedroom, bathroom, kitchen\n",
    "\n",
    "In the previous notebook on house price prediction the structured data has been applied as input for the predictor. Now, a model shall be trained, which applies the images as input-data."
   ]
  },
  {
   "cell_type": "markdown",
   "metadata": {
    "slideshow": {
     "slide_type": "skip"
    }
   },
   "source": [
    "## Data Access and Preprocessing (Given)\n",
    "\n",
    "The data applied in this notebook can be downloaded from Data: [https://github.com/emanhamed/Houses-dataset](https://github.com/emanhamed/Houses-dataset)\n",
    "\n",
    "### Remove houses in areas, whose zip-code appears rarely\n",
    "As in the previous notebook, we first access data from `HouseInfo.txt`. In the current notebook data from this file is only required in order to exclude houses, whose zip-code appears less than 20 times. Actually, this would be not required for image-based price-predictions. However, we apply this hear for sake of compatibility. \n"
   ]
  },
  {
   "cell_type": "code",
   "execution_count": 100,
   "metadata": {
    "slideshow": {
     "slide_type": "skip"
    }
   },
   "outputs": [],
   "source": [
    "from tensorflow.keras.optimizers import Adam\n",
    "from sklearn.model_selection import train_test_split\n",
    "import numpy as np\n",
    "import os\n",
    "import pandas as pd\n",
    "import cv2"
   ]
  },
  {
   "cell_type": "code",
   "execution_count": 101,
   "metadata": {
    "slideshow": {
     "slide_type": "slide"
    }
   },
   "outputs": [
    {
     "data": {
      "text/html": [
       "<div>\n",
       "<style scoped>\n",
       "    .dataframe tbody tr th:only-of-type {\n",
       "        vertical-align: middle;\n",
       "    }\n",
       "\n",
       "    .dataframe tbody tr th {\n",
       "        vertical-align: top;\n",
       "    }\n",
       "\n",
       "    .dataframe thead th {\n",
       "        text-align: right;\n",
       "    }\n",
       "</style>\n",
       "<table border=\"1\" class=\"dataframe\">\n",
       "  <thead>\n",
       "    <tr style=\"text-align: right;\">\n",
       "      <th></th>\n",
       "      <th>bedrooms</th>\n",
       "      <th>bathrooms</th>\n",
       "      <th>area</th>\n",
       "      <th>zipcode</th>\n",
       "      <th>price</th>\n",
       "    </tr>\n",
       "  </thead>\n",
       "  <tbody>\n",
       "    <tr>\n",
       "      <th>0</th>\n",
       "      <td>4</td>\n",
       "      <td>4.0</td>\n",
       "      <td>4053</td>\n",
       "      <td>85255</td>\n",
       "      <td>869500.0</td>\n",
       "    </tr>\n",
       "    <tr>\n",
       "      <th>1</th>\n",
       "      <td>4</td>\n",
       "      <td>3.0</td>\n",
       "      <td>3343</td>\n",
       "      <td>36372</td>\n",
       "      <td>865200.0</td>\n",
       "    </tr>\n",
       "    <tr>\n",
       "      <th>2</th>\n",
       "      <td>3</td>\n",
       "      <td>4.0</td>\n",
       "      <td>3923</td>\n",
       "      <td>85266</td>\n",
       "      <td>889000.0</td>\n",
       "    </tr>\n",
       "    <tr>\n",
       "      <th>3</th>\n",
       "      <td>5</td>\n",
       "      <td>5.0</td>\n",
       "      <td>4022</td>\n",
       "      <td>85262</td>\n",
       "      <td>910000.0</td>\n",
       "    </tr>\n",
       "    <tr>\n",
       "      <th>4</th>\n",
       "      <td>3</td>\n",
       "      <td>4.0</td>\n",
       "      <td>4116</td>\n",
       "      <td>85266</td>\n",
       "      <td>971226.0</td>\n",
       "    </tr>\n",
       "  </tbody>\n",
       "</table>\n",
       "</div>"
      ],
      "text/plain": [
       "   bedrooms  bathrooms  area  zipcode     price\n",
       "0         4        4.0  4053    85255  869500.0\n",
       "1         4        3.0  3343    36372  865200.0\n",
       "2         3        4.0  3923    85266  889000.0\n",
       "3         5        5.0  4022    85262  910000.0\n",
       "4         3        4.0  4116    85266  971226.0"
      ]
     },
     "execution_count": 101,
     "metadata": {},
     "output_type": "execute_result"
    }
   ],
   "source": [
    "#path=\"/Users/maucher/ownCloud/Workshops/Data/Houses-dataset/Houses Dataset/\"  #MacBook\n",
    "path=\"/Users/johannes/DataSets/Houses-dataset/Houses Dataset/\"\n",
    "file=\"HousesInfo.txt\"\n",
    "cols = [\"bedrooms\", \"bathrooms\", \"area\", \"zipcode\", \"price\"]\n",
    "df = pd.read_csv(path+file, sep=\" \", header=None, names=cols)\n",
    "df.head()"
   ]
  },
  {
   "cell_type": "code",
   "execution_count": 102,
   "metadata": {
    "slideshow": {
     "slide_type": "fragment"
    }
   },
   "outputs": [],
   "source": [
    "lowZips=df[\"zipcode\"].value_counts()[df[\"zipcode\"].value_counts()<20]\n",
    "for z in lowZips.keys():\n",
    "    idxs = df[df[\"zipcode\"] == z].index\n",
    "    df.drop(idxs, inplace=True)"
   ]
  },
  {
   "cell_type": "markdown",
   "metadata": {},
   "source": [
    "Indexes of houses, which remain after zip-code-cleaning:"
   ]
  },
  {
   "cell_type": "code",
   "execution_count": 103,
   "metadata": {
    "slideshow": {
     "slide_type": "skip"
    }
   },
   "outputs": [
    {
     "name": "stdout",
     "output_type": "stream",
     "text": [
      "[ 30  32  39  80  81  82  83  84  85  86  87  88  89  90  91  92  93  94\n",
      "  95  96  97  98  99 100 101 102 103 104 105 106 107 108 109 110 111 112\n",
      " 113 125 126 127 128 129 130 131 132 133 134 135 136 137 138 139 140 141\n",
      " 142 143 144 145 146 147 148 149 150 173 174 175 176 177 178 179 180 181\n",
      " 182 183 184 185 186 187 188 189 190 191 192 193 194 195 196 197 198 199\n",
      " 200 201 202 203 204 205 206 207 208 209 210 211 212 213 214 227 228 229\n",
      " 230 231 232 233 234 236 237 238 239 240 241 242 243 244 245 246 247 248\n",
      " 249 250 251 258 265 267 269 272 274 275 277 278 279 280 281 283 284 285\n",
      " 286 287 288 289 290 291 292 293 294 295 296 297 298 299 300 301 302 303\n",
      " 304 305 306 307 308 309 310 311 312 313 314 315 316 317 318 319 320 321\n",
      " 322 323 324 325 326 327 328 329 330 331 332 333 334 335 336 337 338 339\n",
      " 340 341 342 343 344 345 346 347 348 349 350 351 352 353 354 355 356 357\n",
      " 358 359 360 361 362 363 364 365 366 367 368 369 370 371 372 373 374 375\n",
      " 376 377 378 379 380 381 382 383 384 385 386 387 388 389 390 391 392 393\n",
      " 394 395 396 397 398 399 400 401 402 403 404 405 406 407 408 409 410 411\n",
      " 412 413 414 415 416 417 418 419 420 421 422 423 424 425 426 427 428 429\n",
      " 430 431 432 433 434 435 436 437 438 439 440 441 442 443 444 445 446 447\n",
      " 448 449 450 451 452 453 454 455 456 457 458 459 460 461 462 463 464 465\n",
      " 466 467 468 469 470 471 472 473 474 475 476 477 478 479 480 481 482 483\n",
      " 484 485 486 487 488 489 490 491 492 493 494 495 496 497 498 499 500 501\n",
      " 502 503 513 514 515 516 517 518 519 520 521 522 523 524 525 526 527 528\n",
      " 529 530 531 532 533 534]\n"
     ]
    }
   ],
   "source": [
    "print(df.index.values)"
   ]
  },
  {
   "cell_type": "markdown",
   "metadata": {
    "slideshow": {
     "slide_type": "slide"
    }
   },
   "source": [
    "### Load Images\n",
    "\n",
    "The names of the house image files are organized such that all 4 images, which belong to a single house, start with the same integer. This integer is the index used in the dataframe `df`.\n",
    "\n",
    "In the code-cell below all 4 images, which belong to a single house are stacked togehter into a new super-image, which is later used as input for the CNN. "
   ]
  },
  {
   "cell_type": "code",
   "execution_count": 104,
   "metadata": {
    "slideshow": {
     "slide_type": "slide"
    }
   },
   "outputs": [],
   "source": [
    "IMGSIZE=32"
   ]
  },
  {
   "cell_type": "code",
   "execution_count": 105,
   "metadata": {
    "scrolled": false,
    "slideshow": {
     "slide_type": "fragment"
    }
   },
   "outputs": [
    {
     "name": "stdout",
     "output_type": "stream",
     "text": [
      "(384, 64, 64, 3)\n"
     ]
    }
   ],
   "source": [
    "# initialize our images array (i.e., the house images themselves)\n",
    "images = []\n",
    "\n",
    "# loop over the indexes of the houses\n",
    "for i in df.index.values:\n",
    "    # find the four images for the house and sort the file paths,\n",
    "    # ensuring the four are always in the *same order*\n",
    "    basePath = os.path.sep.join([path, \"{}_*\".format(i + 1)])\n",
    "    housePaths = sorted(list(glob.glob(basePath)))\n",
    "\n",
    "    # initialize our list of input images along with the output image\n",
    "    # after *combining* the four input images\n",
    "    inputImages = []\n",
    "    outputImage = np.zeros((2*IMGSIZE, 2*IMGSIZE, 3), dtype=\"uint8\")\n",
    "\n",
    "    # loop over the input house paths\n",
    "    for housePath in housePaths:\n",
    "        # load the input image, resize it to be IMGSIZExIMGSIZE, and then\n",
    "        # update the list of input images\n",
    "        image = cv2.imread(housePath)\n",
    "        image = cv2.resize(image, (IMGSIZE,IMGSIZE))\n",
    "        inputImages.append(image)\n",
    "        #print(len(inputImages))\n",
    "\n",
    "    # tile the four input images in the output image such the first\n",
    "    # image goes in the top-right corner, the second image in the\n",
    "    # top-left corner, the third image in the bottom-right corner,\n",
    "    # and the final image in the bottom-left corner\n",
    "    outputImage[0:IMGSIZE, 0:IMGSIZE] = inputImages[0]\n",
    "    outputImage[0:IMGSIZE, IMGSIZE:2*IMGSIZE] = inputImages[1]\n",
    "    outputImage[IMGSIZE:2*IMGSIZE, IMGSIZE:2*IMGSIZE] = inputImages[2]\n",
    "    outputImage[IMGSIZE:2*IMGSIZE, 0:IMGSIZE] = inputImages[3]\n",
    "\n",
    "    # add the tiled image to our set of images the network will be\n",
    "    # trained on\n",
    "    images.append(outputImage)\n",
    "\n",
    "    # return our set of images\n",
    "images=np.array(images)\n",
    "print(images.shape)"
   ]
  },
  {
   "cell_type": "markdown",
   "metadata": {
    "slideshow": {
     "slide_type": "slide"
    }
   },
   "source": [
    "### Visualize single image"
   ]
  },
  {
   "cell_type": "code",
   "execution_count": 106,
   "metadata": {
    "slideshow": {
     "slide_type": "fragment"
    }
   },
   "outputs": [
    {
     "data": {
      "image/png": "[encoded data removed]",
      "text/plain": [
       "<Figure size 432x288 with 1 Axes>"
      ]
     },
     "metadata": {
      "needs_background": "light"
     },
     "output_type": "display_data"
    }
   ],
   "source": [
    "%matplotlib inline\n",
    "from matplotlib import pyplot as plt\n",
    "img=images[1,:,:,:]\n",
    "#plt.figure(figsize=(8,8))\n",
    "plt.imshow(img)\n",
    "plt.show()"
   ]
  },
  {
   "cell_type": "markdown",
   "metadata": {
    "slideshow": {
     "slide_type": "slide"
    }
   },
   "source": [
    "Scale all images, such that their pixel-values are in the range $[0,1]$."
   ]
  },
  {
   "cell_type": "code",
   "execution_count": 8,
   "metadata": {
    "slideshow": {
     "slide_type": "fragment"
    }
   },
   "outputs": [],
   "source": [
    "images = images / 255.0"
   ]
  },
  {
   "cell_type": "markdown",
   "metadata": {
    "slideshow": {
     "slide_type": "slide"
    }
   },
   "source": [
    "Partition the data into training and testing splits using 75% of the data for training and the remaining 25% for testing"
   ]
  },
  {
   "cell_type": "code",
   "execution_count": 9,
   "metadata": {
    "slideshow": {
     "slide_type": "fragment"
    }
   },
   "outputs": [],
   "source": [
    "from sklearn.model_selection import train_test_split"
   ]
  },
  {
   "cell_type": "code",
   "execution_count": 10,
   "metadata": {
    "slideshow": {
     "slide_type": "fragment"
    }
   },
   "outputs": [],
   "source": [
    " split = train_test_split(df, images, test_size=0.25, random_state=42)\n",
    "(trainAttrX, testAttrX, trainImagesX, testImagesX) = split"
   ]
  },
  {
   "cell_type": "markdown",
   "metadata": {
    "slideshow": {
     "slide_type": "slide"
    }
   },
   "source": [
    "**Scale target output:** Find the largest house price in the training set and use it to scale house prices to the range $[0, 1]$. This will lead to better training convergence."
   ]
  },
  {
   "cell_type": "code",
   "execution_count": 11,
   "metadata": {
    "slideshow": {
     "slide_type": "fragment"
    }
   },
   "outputs": [],
   "source": [
    "maxPrice = trainAttrX[\"price\"].max()\n",
    "trainY = trainAttrX[\"price\"] / maxPrice\n",
    "testY = testAttrX[\"price\"] / maxPrice"
   ]
  },
  {
   "cell_type": "code",
   "execution_count": 12,
   "metadata": {
    "slideshow": {
     "slide_type": "skip"
    }
   },
   "outputs": [],
   "source": [
    "# import the necessary packages\n",
    "from tensorflow.keras.models import Sequential\n",
    "from tensorflow.keras.layers import BatchNormalization\n",
    "from tensorflow.keras.layers import Conv2D\n",
    "from tensorflow.keras.layers import MaxPooling2D\n",
    "from tensorflow.keras.layers import Activation\n",
    "from tensorflow.keras.layers import Dropout\n",
    "from tensorflow.keras.layers import Dense\n",
    "from tensorflow.keras.layers import Flatten\n",
    "from tensorflow.keras.layers import Input\n",
    "from tensorflow.keras.models import Model"
   ]
  },
  {
   "cell_type": "markdown",
   "metadata": {
    "slideshow": {
     "slide_type": "slide"
    }
   },
   "source": [
    "## Task: Define, train and evaluate a CNN for image-input\n",
    "\n",
    "The input of to the CNN shall be images as constructed above. I.e. each input image is a composition of 4 different images of a given house.\n",
    "\n",
    "The CNN consists of 3 consecutive cascades of \n",
    "* Convolution Layer with filter-size $3 \\times 3$.\n",
    "* Relu-Activation\n",
    "* Batch-Normalization\n",
    "* Max-Pooling of size $2 \\times 2$.\n",
    "\n",
    "The output of this Feature-Extraction part of the Deep Neural Network is serialized and passed to a Dense-Layer. The Dense layer applies Batch-Normalization and Dropout.\n",
    "\n",
    "With these preconditions, find a good network- and training-configuration."
   ]
  }
 ],
 "metadata": {
  "celltoolbar": "Slideshow",
  "kernelspec": {
   "display_name": "Python 3",
   "language": "python",
   "name": "python3"
  },
  "language_info": {
   "codemirror_mode": {
    "name": "ipython",
    "version": 3
   },
   "file_extension": ".py",
   "mimetype": "text/x-python",
   "name": "python",
   "nbconvert_exporter": "python",
   "pygments_lexer": "ipython3",
   "version": "3.7.5"
  },
  "toc": {
   "base_numbering": 1,
   "nav_menu": {},
   "number_sections": true,
   "sideBar": true,
   "skip_h1_title": false,
   "title_cell": "Table of Contents",
   "title_sidebar": "Contents",
   "toc_cell": false,
   "toc_position": {},
   "toc_section_display": true,
   "toc_window_display": false
  }
 },
 "nbformat": 4,
 "nbformat_minor": 2
}
