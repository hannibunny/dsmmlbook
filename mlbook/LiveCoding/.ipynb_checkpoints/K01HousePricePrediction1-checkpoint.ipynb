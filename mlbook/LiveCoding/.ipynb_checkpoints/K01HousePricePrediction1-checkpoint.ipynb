{
 "cells": [
  {
   "cell_type": "markdown",
   "metadata": {
    "slideshow": {
     "slide_type": "slide"
    }
   },
   "source": [
    "# Regression: House Price Prediction\n",
    "* Author: Johannes Maucher\n",
    "* Paper: [E.H. Ahmed, M.N. Moustafa: House Price Estimation from Visual and Textual Features](https://arxiv.org/pdf/1609.08399.pdf)\n",
    "* Data: [https://github.com/emanhamed/Houses-dataset](https://github.com/emanhamed/Houses-dataset)"
   ]
  },
  {
   "cell_type": "markdown",
   "metadata": {
    "slideshow": {
     "slide_type": "slide"
    }
   },
   "source": [
    "## Goal\n",
    "\n",
    "House prices can be predicted based on different types of information. In this notebook we apply\n",
    "\n",
    "* number of bedrooms\n",
    "* number of bathrooms\n",
    "* entire living area in square feets\n",
    "* location of the house in terms of zipcode\n",
    "\n",
    "as input data. A simple feedforward neural network is trained to estimate the house price from these inputs. In a follow-up notebook house prices are estimated on the basis of house-images. Finally, both types of inputs, images and the 4 parameters listed above, will be applied for house price prediction. "
   ]
  },
  {
   "cell_type": "markdown",
   "metadata": {
    "slideshow": {
     "slide_type": "slide"
    }
   },
   "source": [
    "## Data\n",
    "\n",
    "The data applied in this notebook can be downloaded from Data: [https://github.com/emanhamed/Houses-dataset](https://github.com/emanhamed/Houses-dataset)\n",
    "\n",
    "### Input\n",
    "#### Numerical and Categorical Attributes:\n",
    "* Number of bedrooms\n",
    "* Number of bathrooms\n",
    "* Area (i.e., square footage)\n",
    "* Zip code"
   ]
  },
  {
   "cell_type": "code",
   "execution_count": 17,
   "metadata": {
    "slideshow": {
     "slide_type": "skip"
    }
   },
   "outputs": [],
   "source": [
    "import pandas as pd\n",
    "from sklearn.model_selection import train_test_split\n",
    "from sklearn.preprocessing import LabelBinarizer\n",
    "from sklearn.preprocessing import MinMaxScaler\n",
    "import numpy as np\n",
    "import glob\n",
    "import cv2\n",
    "import os"
   ]
  },
  {
   "cell_type": "code",
   "execution_count": 18,
   "metadata": {
    "slideshow": {
     "slide_type": "slide"
    }
   },
   "outputs": [
    {
     "data": {
      "text/html": [
       "<div>\n",
       "<style scoped>\n",
       "    .dataframe tbody tr th:only-of-type {\n",
       "        vertical-align: middle;\n",
       "    }\n",
       "\n",
       "    .dataframe tbody tr th {\n",
       "        vertical-align: top;\n",
       "    }\n",
       "\n",
       "    .dataframe thead th {\n",
       "        text-align: right;\n",
       "    }\n",
       "</style>\n",
       "<table border=\"1\" class=\"dataframe\">\n",
       "  <thead>\n",
       "    <tr style=\"text-align: right;\">\n",
       "      <th></th>\n",
       "      <th>bedrooms</th>\n",
       "      <th>bathrooms</th>\n",
       "      <th>area</th>\n",
       "      <th>zipcode</th>\n",
       "      <th>price</th>\n",
       "    </tr>\n",
       "  </thead>\n",
       "  <tbody>\n",
       "    <tr>\n",
       "      <th>0</th>\n",
       "      <td>4</td>\n",
       "      <td>4.0</td>\n",
       "      <td>4053</td>\n",
       "      <td>85255</td>\n",
       "      <td>869500.0</td>\n",
       "    </tr>\n",
       "    <tr>\n",
       "      <th>1</th>\n",
       "      <td>4</td>\n",
       "      <td>3.0</td>\n",
       "      <td>3343</td>\n",
       "      <td>36372</td>\n",
       "      <td>865200.0</td>\n",
       "    </tr>\n",
       "    <tr>\n",
       "      <th>2</th>\n",
       "      <td>3</td>\n",
       "      <td>4.0</td>\n",
       "      <td>3923</td>\n",
       "      <td>85266</td>\n",
       "      <td>889000.0</td>\n",
       "    </tr>\n",
       "    <tr>\n",
       "      <th>3</th>\n",
       "      <td>5</td>\n",
       "      <td>5.0</td>\n",
       "      <td>4022</td>\n",
       "      <td>85262</td>\n",
       "      <td>910000.0</td>\n",
       "    </tr>\n",
       "    <tr>\n",
       "      <th>4</th>\n",
       "      <td>3</td>\n",
       "      <td>4.0</td>\n",
       "      <td>4116</td>\n",
       "      <td>85266</td>\n",
       "      <td>971226.0</td>\n",
       "    </tr>\n",
       "  </tbody>\n",
       "</table>\n",
       "</div>"
      ],
      "text/plain": [
       "   bedrooms  bathrooms  area  zipcode     price\n",
       "0         4        4.0  4053    85255  869500.0\n",
       "1         4        3.0  3343    36372  865200.0\n",
       "2         3        4.0  3923    85266  889000.0\n",
       "3         5        5.0  4022    85262  910000.0\n",
       "4         3        4.0  4116    85266  971226.0"
      ]
     },
     "execution_count": 18,
     "metadata": {},
     "output_type": "execute_result"
    }
   ],
   "source": [
    "#path=\"/Users/maucher/ownCloud/Workshops/Data/Houses-dataset/Houses Dataset/\"  #MacBook\n",
    "path=\"/Users/johannes/DataSets/Houses-dataset/Houses Dataset/\"\n",
    "file=\"HousesInfo.txt\"\n",
    "cols = [\"bedrooms\", \"bathrooms\", \"area\", \"zipcode\", \"price\"]\n",
    "df = pd.read_csv(path+file, sep=\" \", header=None, names=cols)\n",
    "df.head()"
   ]
  },
  {
   "cell_type": "code",
   "execution_count": 19,
   "metadata": {
    "slideshow": {
     "slide_type": "slide"
    }
   },
   "outputs": [
    {
     "data": {
      "text/html": [
       "<div>\n",
       "<style scoped>\n",
       "    .dataframe tbody tr th:only-of-type {\n",
       "        vertical-align: middle;\n",
       "    }\n",
       "\n",
       "    .dataframe tbody tr th {\n",
       "        vertical-align: top;\n",
       "    }\n",
       "\n",
       "    .dataframe thead th {\n",
       "        text-align: right;\n",
       "    }\n",
       "</style>\n",
       "<table border=\"1\" class=\"dataframe\">\n",
       "  <thead>\n",
       "    <tr style=\"text-align: right;\">\n",
       "      <th></th>\n",
       "      <th>bedrooms</th>\n",
       "      <th>bathrooms</th>\n",
       "      <th>area</th>\n",
       "      <th>zipcode</th>\n",
       "      <th>price</th>\n",
       "    </tr>\n",
       "  </thead>\n",
       "  <tbody>\n",
       "    <tr>\n",
       "      <th>count</th>\n",
       "      <td>535.000000</td>\n",
       "      <td>535.000000</td>\n",
       "      <td>535.000000</td>\n",
       "      <td>535.000000</td>\n",
       "      <td>5.320000e+02</td>\n",
       "    </tr>\n",
       "    <tr>\n",
       "      <th>mean</th>\n",
       "      <td>3.377570</td>\n",
       "      <td>2.664953</td>\n",
       "      <td>2364.904673</td>\n",
       "      <td>90937.768224</td>\n",
       "      <td>5.916190e+05</td>\n",
       "    </tr>\n",
       "    <tr>\n",
       "      <th>std</th>\n",
       "      <td>1.160952</td>\n",
       "      <td>0.995077</td>\n",
       "      <td>1224.556982</td>\n",
       "      <td>7141.857452</td>\n",
       "      <td>5.095677e+05</td>\n",
       "    </tr>\n",
       "    <tr>\n",
       "      <th>min</th>\n",
       "      <td>1.000000</td>\n",
       "      <td>1.000000</td>\n",
       "      <td>701.000000</td>\n",
       "      <td>36372.000000</td>\n",
       "      <td>2.200000e+04</td>\n",
       "    </tr>\n",
       "    <tr>\n",
       "      <th>25%</th>\n",
       "      <td>3.000000</td>\n",
       "      <td>2.000000</td>\n",
       "      <td>1440.000000</td>\n",
       "      <td>92276.000000</td>\n",
       "      <td>2.499750e+05</td>\n",
       "    </tr>\n",
       "    <tr>\n",
       "      <th>50%</th>\n",
       "      <td>3.000000</td>\n",
       "      <td>2.500000</td>\n",
       "      <td>2078.000000</td>\n",
       "      <td>92880.000000</td>\n",
       "      <td>5.290000e+05</td>\n",
       "    </tr>\n",
       "    <tr>\n",
       "      <th>75%</th>\n",
       "      <td>4.000000</td>\n",
       "      <td>3.000000</td>\n",
       "      <td>3067.500000</td>\n",
       "      <td>93510.000000</td>\n",
       "      <td>7.312500e+05</td>\n",
       "    </tr>\n",
       "    <tr>\n",
       "      <th>max</th>\n",
       "      <td>10.000000</td>\n",
       "      <td>7.000000</td>\n",
       "      <td>9583.000000</td>\n",
       "      <td>98021.000000</td>\n",
       "      <td>5.858000e+06</td>\n",
       "    </tr>\n",
       "  </tbody>\n",
       "</table>\n",
       "</div>"
      ],
      "text/plain": [
       "         bedrooms   bathrooms         area       zipcode         price\n",
       "count  535.000000  535.000000   535.000000    535.000000  5.320000e+02\n",
       "mean     3.377570    2.664953  2364.904673  90937.768224  5.916190e+05\n",
       "std      1.160952    0.995077  1224.556982   7141.857452  5.095677e+05\n",
       "min      1.000000    1.000000   701.000000  36372.000000  2.200000e+04\n",
       "25%      3.000000    2.000000  1440.000000  92276.000000  2.499750e+05\n",
       "50%      3.000000    2.500000  2078.000000  92880.000000  5.290000e+05\n",
       "75%      4.000000    3.000000  3067.500000  93510.000000  7.312500e+05\n",
       "max     10.000000    7.000000  9583.000000  98021.000000  5.858000e+06"
      ]
     },
     "execution_count": 19,
     "metadata": {},
     "output_type": "execute_result"
    }
   ],
   "source": [
    "df.describe()"
   ]
  },
  {
   "cell_type": "markdown",
   "metadata": {
    "slideshow": {
     "slide_type": "slide"
    }
   },
   "source": [
    "### Exclude all houses in areas with less than 20 houses in the dataset\n",
    "In order to create well generalising (robust) models, training data shall reflect the true statistics of the data as good as possible. In the case of categorical attributes this means that each value shall occur sufficiently often in the training dataset. Therefore, all houses in areas, whose zip-code appears only rarely (less than 20 times) in the given dataset, are dropped."
   ]
  },
  {
   "cell_type": "code",
   "execution_count": 20,
   "metadata": {
    "scrolled": true,
    "slideshow": {
     "slide_type": "fragment"
    }
   },
   "outputs": [],
   "source": [
    "lowZips=df[\"zipcode\"].value_counts()[df[\"zipcode\"].value_counts()<20]"
   ]
  },
  {
   "cell_type": "code",
   "execution_count": 21,
   "metadata": {
    "slideshow": {
     "slide_type": "fragment"
    }
   },
   "outputs": [],
   "source": [
    "for z in lowZips.keys():\n",
    "    idxs = df[df[\"zipcode\"] == z].index\n",
    "    df.drop(idxs, inplace=True)"
   ]
  },
  {
   "cell_type": "code",
   "execution_count": 22,
   "metadata": {
    "slideshow": {
     "slide_type": "slide"
    }
   },
   "outputs": [
    {
     "data": {
      "text/html": [
       "<div>\n",
       "<style scoped>\n",
       "    .dataframe tbody tr th:only-of-type {\n",
       "        vertical-align: middle;\n",
       "    }\n",
       "\n",
       "    .dataframe tbody tr th {\n",
       "        vertical-align: top;\n",
       "    }\n",
       "\n",
       "    .dataframe thead th {\n",
       "        text-align: right;\n",
       "    }\n",
       "</style>\n",
       "<table border=\"1\" class=\"dataframe\">\n",
       "  <thead>\n",
       "    <tr style=\"text-align: right;\">\n",
       "      <th></th>\n",
       "      <th>bedrooms</th>\n",
       "      <th>bathrooms</th>\n",
       "      <th>area</th>\n",
       "      <th>zipcode</th>\n",
       "      <th>price</th>\n",
       "    </tr>\n",
       "  </thead>\n",
       "  <tbody>\n",
       "    <tr>\n",
       "      <th>count</th>\n",
       "      <td>384.000000</td>\n",
       "      <td>384.000000</td>\n",
       "      <td>384.00000</td>\n",
       "      <td>384.000000</td>\n",
       "      <td>3.840000e+02</td>\n",
       "    </tr>\n",
       "    <tr>\n",
       "      <th>mean</th>\n",
       "      <td>3.270833</td>\n",
       "      <td>2.539714</td>\n",
       "      <td>2176.03125</td>\n",
       "      <td>93073.075521</td>\n",
       "      <td>5.279561e+05</td>\n",
       "    </tr>\n",
       "    <tr>\n",
       "      <th>std</th>\n",
       "      <td>1.243084</td>\n",
       "      <td>0.945937</td>\n",
       "      <td>1074.45721</td>\n",
       "      <td>828.226677</td>\n",
       "      <td>4.799798e+05</td>\n",
       "    </tr>\n",
       "    <tr>\n",
       "      <th>min</th>\n",
       "      <td>1.000000</td>\n",
       "      <td>1.000000</td>\n",
       "      <td>701.00000</td>\n",
       "      <td>91901.000000</td>\n",
       "      <td>3.600000e+04</td>\n",
       "    </tr>\n",
       "    <tr>\n",
       "      <th>25%</th>\n",
       "      <td>2.000000</td>\n",
       "      <td>2.000000</td>\n",
       "      <td>1359.00000</td>\n",
       "      <td>92276.000000</td>\n",
       "      <td>1.950000e+05</td>\n",
       "    </tr>\n",
       "    <tr>\n",
       "      <th>50%</th>\n",
       "      <td>3.000000</td>\n",
       "      <td>2.000000</td>\n",
       "      <td>1910.50000</td>\n",
       "      <td>92880.000000</td>\n",
       "      <td>5.174500e+05</td>\n",
       "    </tr>\n",
       "    <tr>\n",
       "      <th>75%</th>\n",
       "      <td>4.000000</td>\n",
       "      <td>3.000000</td>\n",
       "      <td>2870.00000</td>\n",
       "      <td>93510.000000</td>\n",
       "      <td>6.499225e+05</td>\n",
       "    </tr>\n",
       "    <tr>\n",
       "      <th>max</th>\n",
       "      <td>10.000000</td>\n",
       "      <td>7.000000</td>\n",
       "      <td>9536.00000</td>\n",
       "      <td>94531.000000</td>\n",
       "      <td>5.858000e+06</td>\n",
       "    </tr>\n",
       "  </tbody>\n",
       "</table>\n",
       "</div>"
      ],
      "text/plain": [
       "         bedrooms   bathrooms        area       zipcode         price\n",
       "count  384.000000  384.000000   384.00000    384.000000  3.840000e+02\n",
       "mean     3.270833    2.539714  2176.03125  93073.075521  5.279561e+05\n",
       "std      1.243084    0.945937  1074.45721    828.226677  4.799798e+05\n",
       "min      1.000000    1.000000   701.00000  91901.000000  3.600000e+04\n",
       "25%      2.000000    2.000000  1359.00000  92276.000000  1.950000e+05\n",
       "50%      3.000000    2.000000  1910.50000  92880.000000  5.174500e+05\n",
       "75%      4.000000    3.000000  2870.00000  93510.000000  6.499225e+05\n",
       "max     10.000000    7.000000  9536.00000  94531.000000  5.858000e+06"
      ]
     },
     "execution_count": 22,
     "metadata": {},
     "output_type": "execute_result"
    }
   ],
   "source": [
    "df.describe()"
   ]
  },
  {
   "cell_type": "markdown",
   "metadata": {
    "slideshow": {
     "slide_type": "slide"
    }
   },
   "source": [
    "Only 8 different zip-codes remain:"
   ]
  },
  {
   "cell_type": "code",
   "execution_count": 23,
   "metadata": {
    "slideshow": {
     "slide_type": "fragment"
    }
   },
   "outputs": [
    {
     "data": {
      "text/plain": [
       "92276    100\n",
       "93510     60\n",
       "93446     54\n",
       "92880     49\n",
       "94501     41\n",
       "91901     32\n",
       "92677     26\n",
       "94531     22\n",
       "Name: zipcode, dtype: int64"
      ]
     },
     "execution_count": 23,
     "metadata": {},
     "output_type": "execute_result"
    }
   ],
   "source": [
    "df[\"zipcode\"].value_counts()"
   ]
  },
  {
   "cell_type": "markdown",
   "metadata": {
    "slideshow": {
     "slide_type": "slide"
    }
   },
   "source": [
    "### Split data into training- and test-partition"
   ]
  },
  {
   "cell_type": "code",
   "execution_count": 24,
   "metadata": {
    "slideshow": {
     "slide_type": "fragment"
    }
   },
   "outputs": [],
   "source": [
    "(train, test) = train_test_split(df, test_size=0.25, random_state=42)"
   ]
  },
  {
   "cell_type": "markdown",
   "metadata": {
    "slideshow": {
     "slide_type": "slide"
    }
   },
   "source": [
    "### Min-Max Scaling of Continuous Variables\n",
    "Gradient Descent training of neural networks requires that all variables have a similar value-range. Below all numerical variables are transformed into a value range between 0 and 1, by *MinMax-Scaling*. "
   ]
  },
  {
   "cell_type": "code",
   "execution_count": 25,
   "metadata": {
    "slideshow": {
     "slide_type": "fragment"
    }
   },
   "outputs": [],
   "source": [
    "# columns with continuous variables\n",
    "continuous = [\"bedrooms\", \"bathrooms\", \"area\"]\n",
    "\n",
    "# performin min-max scaling each continuous feature column to the range [0, 1]\n",
    "cs = MinMaxScaler()\n",
    "trainContinuous = cs.fit_transform(train[continuous])\n",
    "testContinuous = cs.transform(test[continuous])"
   ]
  },
  {
   "cell_type": "markdown",
   "metadata": {
    "slideshow": {
     "slide_type": "slide"
    }
   },
   "source": [
    "### One-Hot Encoding of Categorical Variables\n",
    "Categorical data must be One-Hot encoded before passing it to the input of a neural network. This is implemented in the following code cell."
   ]
  },
  {
   "cell_type": "code",
   "execution_count": 26,
   "metadata": {
    "slideshow": {
     "slide_type": "fragment"
    }
   },
   "outputs": [],
   "source": [
    "zipBinarizer = LabelBinarizer().fit(df[\"zipcode\"])\n",
    "trainCategorical = zipBinarizer.transform(train[\"zipcode\"])\n",
    "testCategorical = zipBinarizer.transform(test[\"zipcode\"])"
   ]
  },
  {
   "cell_type": "markdown",
   "metadata": {
    "slideshow": {
     "slide_type": "slide"
    }
   },
   "source": [
    "### Concatenate Continous and Categorical Variables"
   ]
  },
  {
   "cell_type": "code",
   "execution_count": 27,
   "metadata": {
    "slideshow": {
     "slide_type": "fragment"
    }
   },
   "outputs": [],
   "source": [
    "trainX = np.hstack([trainCategorical, trainContinuous])\n",
    "testX = np.hstack([testCategorical, testContinuous])"
   ]
  },
  {
   "cell_type": "markdown",
   "metadata": {
    "slideshow": {
     "slide_type": "slide"
    }
   },
   "source": [
    "### Scale Output\n",
    "Training of regression models converges better, if the output variable is normalized to values between 0 and 1. For this all house-prices are normalized. Since we usually know only the values of training data, we normalize by dividing each house-prize by the maximum house-price of the training data."
   ]
  },
  {
   "cell_type": "code",
   "execution_count": 28,
   "metadata": {
    "slideshow": {
     "slide_type": "fragment"
    }
   },
   "outputs": [],
   "source": [
    "maxPrice = train[\"price\"].max()\n",
    "trainY = train[\"price\"] / maxPrice\n",
    "testY = test[\"price\"] / maxPrice"
   ]
  },
  {
   "cell_type": "code",
   "execution_count": 29,
   "metadata": {
    "slideshow": {
     "slide_type": "fragment"
    }
   },
   "outputs": [
    {
     "name": "stdout",
     "output_type": "stream",
     "text": [
      "[[0.         0.         0.         1.         0.         0.\n",
      "  0.         0.         0.44444444 0.36363636 0.44657882]\n",
      " [0.         0.         0.         0.         1.         0.\n",
      "  0.         0.         0.22222222 0.18181818 0.23765677]]\n"
     ]
    }
   ],
   "source": [
    "print(trainX[:2,:])"
   ]
  },
  {
   "cell_type": "markdown",
   "metadata": {
    "slideshow": {
     "slide_type": "slide"
    }
   },
   "source": [
    "## Define MLP Architecture"
   ]
  },
  {
   "cell_type": "code",
   "execution_count": 31,
   "metadata": {
    "slideshow": {
     "slide_type": "skip"
    }
   },
   "outputs": [],
   "source": [
    "from tensorflow.keras.models import Sequential\n",
    "from tensorflow.keras.layers import BatchNormalization\n",
    "from tensorflow.keras.layers import Conv2D\n",
    "from tensorflow.keras.layers import MaxPooling2D\n",
    "from tensorflow.keras.layers import Activation\n",
    "from tensorflow.keras.layers import Dropout\n",
    "from tensorflow.keras.layers import Dense\n",
    "from tensorflow.keras.layers import Flatten\n",
    "from tensorflow.keras.layers import Input\n",
    "from tensorflow.keras.models import Model\n",
    "from tensorflow.keras.optimizers import Adam"
   ]
  },
  {
   "cell_type": "markdown",
   "metadata": {
    "slideshow": {
     "slide_type": "fragment"
    }
   },
   "source": [
    "A simple Multilayer-Perceptron with 2 hidden layers is configured. The number of neurons in the hidden layers is 8 and 4, respectively. Both hidden layers apply a *relu*-activation function. As usual for regression neural networks the output-layer consists of only a singel neuron with a *linear*-activation (identity-function)."
   ]
  },
  {
   "cell_type": "code",
   "execution_count": 32,
   "metadata": {
    "slideshow": {
     "slide_type": "slide"
    }
   },
   "outputs": [],
   "source": [
    " def create_mlp(dim, regress=False):\n",
    "    model = Sequential()\n",
    "    model.add(Dense(8, input_dim=dim, activation=\"relu\"))\n",
    "    model.add(Dense(4, activation=\"relu\"))\n",
    "    # check to see if the regression node should be added\n",
    "    if regress:\n",
    "        model.add(Dense(1, activation=\"linear\"))\n",
    "    return model"
   ]
  },
  {
   "cell_type": "code",
   "execution_count": 33,
   "metadata": {
    "slideshow": {
     "slide_type": "fragment"
    }
   },
   "outputs": [
    {
     "name": "stdout",
     "output_type": "stream",
     "text": [
      "Model: \"sequential\"\n",
      "_________________________________________________________________\n",
      "Layer (type)                 Output Shape              Param #   \n",
      "=================================================================\n",
      "dense (Dense)                (None, 8)                 96        \n",
      "_________________________________________________________________\n",
      "dense_1 (Dense)              (None, 4)                 36        \n",
      "_________________________________________________________________\n",
      "dense_2 (Dense)              (None, 1)                 5         \n",
      "=================================================================\n",
      "Total params: 137\n",
      "Trainable params: 137\n",
      "Non-trainable params: 0\n",
      "_________________________________________________________________\n"
     ]
    }
   ],
   "source": [
    "model = create_mlp(trainX.shape[1], regress=True)\n",
    "model.summary()"
   ]
  },
  {
   "cell_type": "markdown",
   "metadata": {
    "slideshow": {
     "slide_type": "slide"
    }
   },
   "source": [
    "Define training algorithm and corresponding hyperparameters. Here, Adam is applied."
   ]
  },
  {
   "cell_type": "code",
   "execution_count": 34,
   "metadata": {
    "slideshow": {
     "slide_type": "fragment"
    }
   },
   "outputs": [],
   "source": [
    "opt = Adam(lr=1e-3, decay=1e-3 / 200)\n",
    "model.compile(loss=\"mean_absolute_percentage_error\", optimizer=opt)"
   ]
  },
  {
   "cell_type": "markdown",
   "metadata": {
    "slideshow": {
     "slide_type": "slide"
    }
   },
   "source": [
    "Perform training:"
   ]
  },
  {
   "cell_type": "code",
   "execution_count": 35,
   "metadata": {
    "scrolled": false,
    "slideshow": {
     "slide_type": "fragment"
    }
   },
   "outputs": [
    {
     "name": "stdout",
     "output_type": "stream",
     "text": [
      "[INFO] training model...\n",
      "Epoch 1/200\n",
      "36/36 [==============================] - 0s 3ms/step - loss: 70.8770 - val_loss: 58.7541\n",
      "Epoch 2/200\n",
      "36/36 [==============================] - 0s 804us/step - loss: 47.5166 - val_loss: 49.3158\n",
      "Epoch 3/200\n",
      "36/36 [==============================] - 0s 806us/step - loss: 40.7481 - val_loss: 44.5034\n",
      "Epoch 4/200\n",
      "36/36 [==============================] - 0s 816us/step - loss: 36.2226 - val_loss: 39.0432\n",
      "Epoch 5/200\n",
      "36/36 [==============================] - 0s 838us/step - loss: 32.7085 - val_loss: 33.6931\n",
      "Epoch 6/200\n",
      "36/36 [==============================] - 0s 791us/step - loss: 29.4702 - val_loss: 30.4921\n",
      "Epoch 7/200\n",
      "36/36 [==============================] - 0s 811us/step - loss: 27.9733 - val_loss: 29.1687\n",
      "Epoch 8/200\n",
      "36/36 [==============================] - 0s 798us/step - loss: 26.8962 - val_loss: 28.1299\n",
      "Epoch 9/200\n",
      "36/36 [==============================] - 0s 804us/step - loss: 26.1585 - val_loss: 27.6263\n",
      "Epoch 10/200\n",
      "36/36 [==============================] - 0s 836us/step - loss: 24.8404 - val_loss: 29.8598\n",
      "Epoch 11/200\n",
      "36/36 [==============================] - 0s 828us/step - loss: 26.3240 - val_loss: 27.8196\n",
      "Epoch 12/200\n",
      "36/36 [==============================] - 0s 804us/step - loss: 24.8090 - val_loss: 27.6511\n",
      "Epoch 13/200\n",
      "36/36 [==============================] - 0s 824us/step - loss: 24.0595 - val_loss: 26.9099\n",
      "Epoch 14/200\n",
      "36/36 [==============================] - 0s 789us/step - loss: 24.2661 - val_loss: 27.4573\n",
      "Epoch 15/200\n",
      "36/36 [==============================] - 0s 797us/step - loss: 24.4541 - val_loss: 27.9600\n",
      "Epoch 16/200\n",
      "36/36 [==============================] - 0s 816us/step - loss: 23.3474 - val_loss: 26.5426\n",
      "Epoch 17/200\n",
      "36/36 [==============================] - 0s 851us/step - loss: 23.8475 - val_loss: 28.6835\n",
      "Epoch 18/200\n",
      "36/36 [==============================] - 0s 819us/step - loss: 23.4400 - val_loss: 26.3774\n",
      "Epoch 19/200\n",
      "36/36 [==============================] - 0s 835us/step - loss: 22.9726 - val_loss: 26.0866\n",
      "Epoch 20/200\n",
      "36/36 [==============================] - 0s 811us/step - loss: 23.2912 - val_loss: 26.1866\n",
      "Epoch 21/200\n",
      "36/36 [==============================] - 0s 784us/step - loss: 22.5336 - val_loss: 27.0767\n",
      "Epoch 22/200\n",
      "36/36 [==============================] - 0s 780us/step - loss: 22.7400 - val_loss: 28.6506\n",
      "Epoch 23/200\n",
      "36/36 [==============================] - 0s 806us/step - loss: 22.4105 - val_loss: 27.2431\n",
      "Epoch 24/200\n",
      "36/36 [==============================] - 0s 822us/step - loss: 24.2534 - val_loss: 26.4513\n",
      "Epoch 25/200\n",
      "36/36 [==============================] - 0s 803us/step - loss: 22.2049 - val_loss: 27.1526\n",
      "Epoch 26/200\n",
      "36/36 [==============================] - 0s 796us/step - loss: 22.6253 - val_loss: 26.5532\n",
      "Epoch 27/200\n",
      "36/36 [==============================] - 0s 789us/step - loss: 22.3020 - val_loss: 25.7017\n",
      "Epoch 28/200\n",
      "36/36 [==============================] - 0s 803us/step - loss: 21.6856 - val_loss: 26.0160\n",
      "Epoch 29/200\n",
      "36/36 [==============================] - 0s 820us/step - loss: 22.1255 - val_loss: 26.2492\n",
      "Epoch 30/200\n",
      "36/36 [==============================] - 0s 819us/step - loss: 22.1865 - val_loss: 26.1961\n",
      "Epoch 31/200\n",
      "36/36 [==============================] - 0s 789us/step - loss: 21.7611 - val_loss: 25.8013\n",
      "Epoch 32/200\n",
      "36/36 [==============================] - 0s 790us/step - loss: 21.5578 - val_loss: 25.8246\n",
      "Epoch 33/200\n",
      "36/36 [==============================] - 0s 762us/step - loss: 20.8484 - val_loss: 27.1896\n",
      "Epoch 34/200\n",
      "36/36 [==============================] - 0s 779us/step - loss: 21.3788 - val_loss: 27.5541\n",
      "Epoch 35/200\n",
      "36/36 [==============================] - 0s 785us/step - loss: 20.9842 - val_loss: 25.7916\n",
      "Epoch 36/200\n",
      "36/36 [==============================] - 0s 774us/step - loss: 20.9130 - val_loss: 25.8887\n",
      "Epoch 37/200\n",
      "36/36 [==============================] - 0s 775us/step - loss: 20.7782 - val_loss: 25.9046\n",
      "Epoch 38/200\n",
      "36/36 [==============================] - 0s 776us/step - loss: 20.9419 - val_loss: 26.2133\n",
      "Epoch 39/200\n",
      "36/36 [==============================] - 0s 794us/step - loss: 20.2198 - val_loss: 25.1941\n",
      "Epoch 40/200\n",
      "36/36 [==============================] - 0s 781us/step - loss: 21.6364 - val_loss: 25.2446\n",
      "Epoch 41/200\n",
      "36/36 [==============================] - 0s 771us/step - loss: 20.3690 - val_loss: 25.5045\n",
      "Epoch 42/200\n",
      "36/36 [==============================] - 0s 767us/step - loss: 20.1829 - val_loss: 25.1269\n",
      "Epoch 43/200\n",
      "36/36 [==============================] - 0s 797us/step - loss: 20.5173 - val_loss: 25.6275\n",
      "Epoch 44/200\n",
      "36/36 [==============================] - 0s 777us/step - loss: 19.7402 - val_loss: 25.2143\n",
      "Epoch 45/200\n",
      "36/36 [==============================] - 0s 774us/step - loss: 19.8384 - val_loss: 25.0854\n",
      "Epoch 46/200\n",
      "36/36 [==============================] - 0s 782us/step - loss: 19.9664 - val_loss: 24.9362\n",
      "Epoch 47/200\n",
      "36/36 [==============================] - 0s 827us/step - loss: 20.6614 - val_loss: 25.8630\n",
      "Epoch 48/200\n",
      "36/36 [==============================] - 0s 811us/step - loss: 19.5196 - val_loss: 27.4217\n",
      "Epoch 49/200\n",
      "36/36 [==============================] - 0s 821us/step - loss: 20.1725 - val_loss: 24.8035\n",
      "Epoch 50/200\n",
      "36/36 [==============================] - 0s 786us/step - loss: 19.6667 - val_loss: 24.5581\n",
      "Epoch 51/200\n",
      "36/36 [==============================] - 0s 790us/step - loss: 20.4404 - val_loss: 25.3592\n",
      "Epoch 52/200\n",
      "36/36 [==============================] - 0s 785us/step - loss: 19.7660 - val_loss: 27.7921\n",
      "Epoch 53/200\n",
      "36/36 [==============================] - 0s 814us/step - loss: 20.0423 - val_loss: 25.2670\n",
      "Epoch 54/200\n",
      "36/36 [==============================] - 0s 831us/step - loss: 19.9859 - val_loss: 24.3546\n",
      "Epoch 55/200\n",
      "36/36 [==============================] - 0s 829us/step - loss: 19.4341 - val_loss: 24.5384\n",
      "Epoch 56/200\n",
      "36/36 [==============================] - 0s 798us/step - loss: 21.0037 - val_loss: 24.8035\n",
      "Epoch 57/200\n",
      "36/36 [==============================] - 0s 788us/step - loss: 19.8143 - val_loss: 25.5280\n",
      "Epoch 58/200\n",
      "36/36 [==============================] - 0s 871us/step - loss: 19.2150 - val_loss: 24.9735\n",
      "Epoch 59/200\n",
      "36/36 [==============================] - 0s 850us/step - loss: 19.1654 - val_loss: 25.5513\n",
      "Epoch 60/200\n",
      "36/36 [==============================] - 0s 897us/step - loss: 20.6058 - val_loss: 24.3410\n",
      "Epoch 61/200\n",
      "36/36 [==============================] - 0s 820us/step - loss: 19.3251 - val_loss: 24.6331\n",
      "Epoch 62/200\n",
      "36/36 [==============================] - 0s 822us/step - loss: 20.9350 - val_loss: 24.9174\n",
      "Epoch 63/200\n",
      "36/36 [==============================] - 0s 813us/step - loss: 19.2542 - val_loss: 25.3178\n",
      "Epoch 64/200\n",
      "36/36 [==============================] - 0s 816us/step - loss: 19.3411 - val_loss: 24.7921\n",
      "Epoch 65/200\n",
      "36/36 [==============================] - 0s 809us/step - loss: 18.5218 - val_loss: 24.3272\n",
      "Epoch 66/200\n",
      "36/36 [==============================] - 0s 807us/step - loss: 18.9288 - val_loss: 24.5017\n",
      "Epoch 67/200\n",
      "36/36 [==============================] - 0s 822us/step - loss: 19.1649 - val_loss: 24.3811\n",
      "Epoch 68/200\n",
      "36/36 [==============================] - 0s 777us/step - loss: 18.5894 - val_loss: 23.8116\n",
      "Epoch 69/200\n",
      "36/36 [==============================] - 0s 805us/step - loss: 19.6364 - val_loss: 24.8398\n",
      "Epoch 70/200\n",
      "36/36 [==============================] - 0s 824us/step - loss: 18.4571 - val_loss: 24.3834\n",
      "Epoch 71/200\n",
      "36/36 [==============================] - 0s 787us/step - loss: 18.7603 - val_loss: 24.3361\n",
      "Epoch 72/200\n",
      "36/36 [==============================] - 0s 777us/step - loss: 20.0231 - val_loss: 24.4382\n",
      "Epoch 73/200\n",
      "36/36 [==============================] - 0s 778us/step - loss: 18.8642 - val_loss: 24.8093\n",
      "Epoch 74/200\n",
      "36/36 [==============================] - 0s 814us/step - loss: 20.0579 - val_loss: 23.9646\n",
      "Epoch 75/200\n",
      "36/36 [==============================] - 0s 809us/step - loss: 20.2771 - val_loss: 24.4899\n",
      "Epoch 76/200\n",
      "36/36 [==============================] - 0s 793us/step - loss: 19.2677 - val_loss: 25.2231\n",
      "Epoch 77/200\n",
      "36/36 [==============================] - 0s 853us/step - loss: 18.9780 - val_loss: 25.2295\n",
      "Epoch 78/200\n",
      "36/36 [==============================] - 0s 794us/step - loss: 18.5283 - val_loss: 24.4412\n",
      "Epoch 79/200\n",
      "36/36 [==============================] - 0s 769us/step - loss: 18.4089 - val_loss: 24.1683\n",
      "Epoch 80/200\n",
      "36/36 [==============================] - 0s 805us/step - loss: 19.0518 - val_loss: 24.8518\n",
      "Epoch 81/200\n",
      "36/36 [==============================] - 0s 825us/step - loss: 19.5733 - val_loss: 24.7095\n",
      "Epoch 82/200\n",
      "36/36 [==============================] - 0s 804us/step - loss: 18.2439 - val_loss: 24.5172\n",
      "Epoch 83/200\n",
      "36/36 [==============================] - 0s 798us/step - loss: 19.8052 - val_loss: 24.8993\n",
      "Epoch 84/200\n",
      "36/36 [==============================] - 0s 789us/step - loss: 18.7981 - val_loss: 24.3872\n",
      "Epoch 85/200\n",
      "36/36 [==============================] - 0s 824us/step - loss: 18.1931 - val_loss: 24.4698\n",
      "Epoch 86/200\n",
      "36/36 [==============================] - 0s 869us/step - loss: 18.4355 - val_loss: 25.3620\n",
      "Epoch 87/200\n",
      "36/36 [==============================] - 0s 857us/step - loss: 18.3995 - val_loss: 24.3363\n",
      "Epoch 88/200\n",
      "36/36 [==============================] - 0s 1ms/step - loss: 18.7577 - val_loss: 24.1988\n",
      "Epoch 89/200\n",
      "36/36 [==============================] - 0s 860us/step - loss: 18.2268 - val_loss: 26.5252\n",
      "Epoch 90/200\n",
      "36/36 [==============================] - 0s 797us/step - loss: 18.9013 - val_loss: 24.1380\n",
      "Epoch 91/200\n",
      "36/36 [==============================] - 0s 773us/step - loss: 18.0356 - val_loss: 24.1603\n",
      "Epoch 92/200\n",
      "36/36 [==============================] - 0s 866us/step - loss: 18.8110 - val_loss: 23.8207\n",
      "Epoch 93/200\n",
      "36/36 [==============================] - 0s 906us/step - loss: 18.3854 - val_loss: 24.3213\n",
      "Epoch 94/200\n",
      "36/36 [==============================] - 0s 926us/step - loss: 19.2437 - val_loss: 23.8573\n",
      "Epoch 95/200\n",
      "36/36 [==============================] - 0s 884us/step - loss: 18.5271 - val_loss: 24.0725\n",
      "Epoch 96/200\n",
      "36/36 [==============================] - 0s 865us/step - loss: 18.2574 - val_loss: 24.5993\n",
      "Epoch 97/200\n",
      "36/36 [==============================] - 0s 761us/step - loss: 18.5476 - val_loss: 24.3046\n",
      "Epoch 98/200\n",
      "36/36 [==============================] - 0s 742us/step - loss: 17.8716 - val_loss: 24.5690\n",
      "Epoch 99/200\n",
      "36/36 [==============================] - 0s 755us/step - loss: 18.0973 - val_loss: 24.0467\n",
      "Epoch 100/200\n",
      "36/36 [==============================] - 0s 877us/step - loss: 18.1851 - val_loss: 24.3542\n",
      "Epoch 101/200\n",
      "36/36 [==============================] - 0s 797us/step - loss: 18.6774 - val_loss: 24.5318\n",
      "Epoch 102/200\n",
      "36/36 [==============================] - 0s 890us/step - loss: 19.0819 - val_loss: 24.9348\n",
      "Epoch 103/200\n",
      "36/36 [==============================] - 0s 873us/step - loss: 17.9443 - val_loss: 23.9501\n",
      "Epoch 104/200\n",
      "36/36 [==============================] - 0s 824us/step - loss: 17.8698 - val_loss: 25.2992\n",
      "Epoch 105/200\n",
      "36/36 [==============================] - 0s 777us/step - loss: 18.1337 - val_loss: 24.3892\n",
      "Epoch 106/200\n",
      "36/36 [==============================] - 0s 769us/step - loss: 18.0482 - val_loss: 24.5295\n",
      "Epoch 107/200\n",
      "36/36 [==============================] - 0s 769us/step - loss: 17.9298 - val_loss: 24.5443\n",
      "Epoch 108/200\n",
      "36/36 [==============================] - 0s 793us/step - loss: 18.2179 - val_loss: 24.3318\n",
      "Epoch 109/200\n",
      "36/36 [==============================] - 0s 795us/step - loss: 17.9663 - val_loss: 24.3649\n",
      "Epoch 110/200\n",
      "36/36 [==============================] - 0s 771us/step - loss: 18.0314 - val_loss: 24.9078\n",
      "Epoch 111/200\n",
      "36/36 [==============================] - 0s 763us/step - loss: 18.4521 - val_loss: 24.6854\n",
      "Epoch 112/200\n",
      "36/36 [==============================] - 0s 775us/step - loss: 18.0716 - val_loss: 24.8193\n",
      "Epoch 113/200\n",
      "36/36 [==============================] - 0s 791us/step - loss: 17.9417 - val_loss: 24.7749\n",
      "Epoch 114/200\n",
      "36/36 [==============================] - 0s 774us/step - loss: 17.7337 - val_loss: 24.5936\n",
      "Epoch 115/200\n",
      "36/36 [==============================] - 0s 774us/step - loss: 17.5232 - val_loss: 24.3822\n",
      "Epoch 116/200\n",
      "36/36 [==============================] - 0s 775us/step - loss: 18.1412 - val_loss: 23.9573\n",
      "Epoch 117/200\n",
      "36/36 [==============================] - 0s 786us/step - loss: 17.7309 - val_loss: 25.0025\n",
      "Epoch 118/200\n",
      "36/36 [==============================] - 0s 797us/step - loss: 18.7280 - val_loss: 23.9845\n",
      "Epoch 119/200\n",
      "36/36 [==============================] - 0s 757us/step - loss: 17.9138 - val_loss: 24.1981\n",
      "Epoch 120/200\n",
      "36/36 [==============================] - 0s 776us/step - loss: 17.8650 - val_loss: 24.5539\n",
      "Epoch 121/200\n",
      "36/36 [==============================] - 0s 771us/step - loss: 18.0682 - val_loss: 24.3267\n",
      "Epoch 122/200\n",
      "36/36 [==============================] - 0s 782us/step - loss: 17.6889 - val_loss: 24.2239\n",
      "Epoch 123/200\n",
      "36/36 [==============================] - 0s 776us/step - loss: 17.5105 - val_loss: 26.1136\n",
      "Epoch 124/200\n",
      "36/36 [==============================] - 0s 768us/step - loss: 19.0703 - val_loss: 24.9749\n",
      "Epoch 125/200\n",
      "36/36 [==============================] - 0s 784us/step - loss: 18.1693 - val_loss: 24.4601\n",
      "Epoch 126/200\n",
      "36/36 [==============================] - 0s 763us/step - loss: 18.0075 - val_loss: 24.5506\n",
      "Epoch 127/200\n",
      "36/36 [==============================] - 0s 773us/step - loss: 17.2167 - val_loss: 24.0162\n",
      "Epoch 128/200\n",
      "36/36 [==============================] - 0s 767us/step - loss: 18.5399 - val_loss: 23.9573\n",
      "Epoch 129/200\n",
      "36/36 [==============================] - 0s 768us/step - loss: 18.2209 - val_loss: 24.4994\n",
      "Epoch 130/200\n",
      "36/36 [==============================] - 0s 793us/step - loss: 18.7386 - val_loss: 24.4714\n",
      "Epoch 131/200\n",
      "36/36 [==============================] - 0s 777us/step - loss: 18.6417 - val_loss: 24.3421\n",
      "Epoch 132/200\n",
      "36/36 [==============================] - 0s 758us/step - loss: 17.8287 - val_loss: 23.9520\n",
      "Epoch 133/200\n",
      "36/36 [==============================] - 0s 768us/step - loss: 18.1190 - val_loss: 23.6882\n",
      "Epoch 134/200\n",
      "36/36 [==============================] - 0s 799us/step - loss: 18.2129 - val_loss: 23.8366\n",
      "Epoch 135/200\n",
      "36/36 [==============================] - 0s 776us/step - loss: 17.6341 - val_loss: 25.2885\n",
      "Epoch 136/200\n",
      "36/36 [==============================] - 0s 776us/step - loss: 17.9811 - val_loss: 24.2077\n",
      "Epoch 137/200\n",
      "36/36 [==============================] - 0s 787us/step - loss: 17.6479 - val_loss: 26.4496\n",
      "Epoch 138/200\n",
      "36/36 [==============================] - 0s 769us/step - loss: 20.0766 - val_loss: 24.8302\n",
      "Epoch 139/200\n",
      "36/36 [==============================] - 0s 792us/step - loss: 19.2413 - val_loss: 24.5863\n",
      "Epoch 140/200\n",
      "36/36 [==============================] - 0s 783us/step - loss: 20.2925 - val_loss: 24.4119\n",
      "Epoch 141/200\n",
      "36/36 [==============================] - 0s 760us/step - loss: 18.3473 - val_loss: 24.0366\n",
      "Epoch 142/200\n",
      "36/36 [==============================] - 0s 782us/step - loss: 18.7495 - val_loss: 24.8878\n",
      "Epoch 143/200\n",
      "36/36 [==============================] - 0s 793us/step - loss: 17.8924 - val_loss: 23.7003\n",
      "Epoch 144/200\n",
      "36/36 [==============================] - 0s 802us/step - loss: 18.4575 - val_loss: 24.1446\n",
      "Epoch 145/200\n",
      "36/36 [==============================] - 0s 786us/step - loss: 17.5520 - val_loss: 24.0194\n",
      "Epoch 146/200\n",
      "36/36 [==============================] - 0s 816us/step - loss: 17.7368 - val_loss: 24.8093\n",
      "Epoch 147/200\n",
      "36/36 [==============================] - 0s 784us/step - loss: 17.9552 - val_loss: 25.2192\n",
      "Epoch 148/200\n",
      "36/36 [==============================] - 0s 811us/step - loss: 17.4771 - val_loss: 23.7702\n",
      "Epoch 149/200\n",
      "36/36 [==============================] - 0s 825us/step - loss: 17.8282 - val_loss: 23.6709\n",
      "Epoch 150/200\n",
      "36/36 [==============================] - 0s 820us/step - loss: 17.4514 - val_loss: 24.7927\n",
      "Epoch 151/200\n",
      "36/36 [==============================] - 0s 802us/step - loss: 17.7736 - val_loss: 25.0291\n",
      "Epoch 152/200\n",
      "36/36 [==============================] - 0s 811us/step - loss: 17.3743 - val_loss: 23.8366\n",
      "Epoch 153/200\n",
      "36/36 [==============================] - 0s 807us/step - loss: 18.6188 - val_loss: 23.7786\n",
      "Epoch 154/200\n",
      "36/36 [==============================] - 0s 817us/step - loss: 18.0972 - val_loss: 23.9028\n",
      "Epoch 155/200\n",
      "36/36 [==============================] - 0s 792us/step - loss: 17.4678 - val_loss: 24.5491\n",
      "Epoch 156/200\n",
      "36/36 [==============================] - 0s 797us/step - loss: 17.7287 - val_loss: 24.1266\n",
      "Epoch 157/200\n"
     ]
    },
    {
     "name": "stdout",
     "output_type": "stream",
     "text": [
      "36/36 [==============================] - 0s 798us/step - loss: 17.2807 - val_loss: 24.1882\n",
      "Epoch 158/200\n",
      "36/36 [==============================] - 0s 793us/step - loss: 17.3700 - val_loss: 23.8197\n",
      "Epoch 159/200\n",
      "36/36 [==============================] - 0s 845us/step - loss: 17.6945 - val_loss: 24.0792\n",
      "Epoch 160/200\n",
      "36/36 [==============================] - 0s 838us/step - loss: 17.2504 - val_loss: 24.5790\n",
      "Epoch 161/200\n",
      "36/36 [==============================] - 0s 804us/step - loss: 17.6253 - val_loss: 23.8460\n",
      "Epoch 162/200\n",
      "36/36 [==============================] - 0s 781us/step - loss: 18.2734 - val_loss: 23.6828\n",
      "Epoch 163/200\n",
      "36/36 [==============================] - 0s 801us/step - loss: 17.1975 - val_loss: 24.7940\n",
      "Epoch 164/200\n",
      "36/36 [==============================] - 0s 814us/step - loss: 18.3545 - val_loss: 24.2759\n",
      "Epoch 165/200\n",
      "36/36 [==============================] - 0s 817us/step - loss: 17.4842 - val_loss: 23.7177\n",
      "Epoch 166/200\n",
      "36/36 [==============================] - 0s 826us/step - loss: 17.4027 - val_loss: 24.6506\n",
      "Epoch 167/200\n",
      "36/36 [==============================] - 0s 803us/step - loss: 17.4252 - val_loss: 24.9445\n",
      "Epoch 168/200\n",
      "36/36 [==============================] - 0s 803us/step - loss: 17.4190 - val_loss: 24.4069\n",
      "Epoch 169/200\n",
      "36/36 [==============================] - 0s 806us/step - loss: 17.4997 - val_loss: 24.8307\n",
      "Epoch 170/200\n",
      "36/36 [==============================] - 0s 808us/step - loss: 18.6631 - val_loss: 23.5644\n",
      "Epoch 171/200\n",
      "36/36 [==============================] - 0s 845us/step - loss: 17.1850 - val_loss: 24.0105\n",
      "Epoch 172/200\n",
      "36/36 [==============================] - 0s 825us/step - loss: 17.8269 - val_loss: 23.9578\n",
      "Epoch 173/200\n",
      "36/36 [==============================] - 0s 793us/step - loss: 17.4817 - val_loss: 23.4907\n",
      "Epoch 174/200\n",
      "36/36 [==============================] - 0s 810us/step - loss: 17.7001 - val_loss: 24.3861\n",
      "Epoch 175/200\n",
      "36/36 [==============================] - 0s 799us/step - loss: 17.5436 - val_loss: 23.8646\n",
      "Epoch 176/200\n",
      "36/36 [==============================] - 0s 826us/step - loss: 17.8793 - val_loss: 24.4162\n",
      "Epoch 177/200\n",
      "36/36 [==============================] - 0s 817us/step - loss: 17.1998 - val_loss: 24.0035\n",
      "Epoch 178/200\n",
      "36/36 [==============================] - 0s 811us/step - loss: 17.7460 - val_loss: 23.6411\n",
      "Epoch 179/200\n",
      "36/36 [==============================] - 0s 815us/step - loss: 17.3911 - val_loss: 23.5512\n",
      "Epoch 180/200\n",
      "36/36 [==============================] - 0s 787us/step - loss: 17.7375 - val_loss: 23.4099\n",
      "Epoch 181/200\n",
      "36/36 [==============================] - 0s 772us/step - loss: 17.7256 - val_loss: 24.0537\n",
      "Epoch 182/200\n",
      "36/36 [==============================] - 0s 796us/step - loss: 17.8912 - val_loss: 23.4530\n",
      "Epoch 183/200\n",
      "36/36 [==============================] - 0s 776us/step - loss: 17.3558 - val_loss: 24.3670\n",
      "Epoch 184/200\n",
      "36/36 [==============================] - 0s 773us/step - loss: 17.8662 - val_loss: 23.8302\n",
      "Epoch 185/200\n",
      "36/36 [==============================] - 0s 787us/step - loss: 17.5431 - val_loss: 23.4132\n",
      "Epoch 186/200\n",
      "36/36 [==============================] - 0s 798us/step - loss: 17.1935 - val_loss: 23.9709\n",
      "Epoch 187/200\n",
      "36/36 [==============================] - 0s 829us/step - loss: 17.7604 - val_loss: 24.8605\n",
      "Epoch 188/200\n",
      "36/36 [==============================] - 0s 821us/step - loss: 18.5662 - val_loss: 24.3962\n",
      "Epoch 189/200\n",
      "36/36 [==============================] - 0s 808us/step - loss: 17.8941 - val_loss: 23.6068\n",
      "Epoch 190/200\n",
      "36/36 [==============================] - 0s 873us/step - loss: 18.5102 - val_loss: 23.3246\n",
      "Epoch 191/200\n",
      "36/36 [==============================] - 0s 822us/step - loss: 17.9156 - val_loss: 24.7088\n",
      "Epoch 192/200\n",
      "36/36 [==============================] - 0s 788us/step - loss: 17.4250 - val_loss: 23.8771\n",
      "Epoch 193/200\n",
      "36/36 [==============================] - 0s 805us/step - loss: 18.2048 - val_loss: 23.8583\n",
      "Epoch 194/200\n",
      "36/36 [==============================] - 0s 791us/step - loss: 17.6985 - val_loss: 23.7804\n",
      "Epoch 195/200\n",
      "36/36 [==============================] - 0s 812us/step - loss: 18.7968 - val_loss: 24.7332\n",
      "Epoch 196/200\n",
      "36/36 [==============================] - 0s 787us/step - loss: 18.0657 - val_loss: 24.2077\n",
      "Epoch 197/200\n",
      "36/36 [==============================] - 0s 801us/step - loss: 17.0412 - val_loss: 23.3503\n",
      "Epoch 198/200\n",
      "36/36 [==============================] - 0s 800us/step - loss: 17.8038 - val_loss: 23.6292\n",
      "Epoch 199/200\n",
      "36/36 [==============================] - 0s 848us/step - loss: 17.4035 - val_loss: 23.6142\n",
      "Epoch 200/200\n",
      "36/36 [==============================] - 0s 767us/step - loss: 17.3887 - val_loss: 24.0195\n"
     ]
    }
   ],
   "source": [
    " \n",
    "# train the model\n",
    "print(\"[INFO] training model...\")\n",
    "history=model.fit(trainX, trainY, validation_data=(testX, testY),\n",
    "    epochs=200, batch_size=8)"
   ]
  },
  {
   "cell_type": "code",
   "execution_count": 36,
   "metadata": {
    "slideshow": {
     "slide_type": "slide"
    }
   },
   "outputs": [],
   "source": [
    "%matplotlib inline\n",
    "from matplotlib import pyplot as plt"
   ]
  },
  {
   "cell_type": "code",
   "execution_count": 37,
   "metadata": {
    "slideshow": {
     "slide_type": "fragment"
    }
   },
   "outputs": [
    {
     "data": {
      "image/png": "[encoded data removed]",
      "text/plain": [
       "<Figure size 1008x720 with 1 Axes>"
      ]
     },
     "metadata": {
      "needs_background": "light"
     },
     "output_type": "display_data"
    }
   ],
   "source": [
    "FIRSTEPOCH=25\n",
    "loss = history.history['loss']\n",
    "val_loss = history.history['val_loss']\n",
    "max_val_loss=np.max(val_loss)\n",
    "\n",
    "epochs = range(FIRSTEPOCH, len(loss))\n",
    "\n",
    "plt.figure(figsize=(14,10))\n",
    "\n",
    "plt.plot(epochs, loss[FIRSTEPOCH:], 'ro-', label='Training loss')\n",
    "plt.plot(epochs, val_loss[FIRSTEPOCH:], 'bs-', label='Validation loss')\n",
    "plt.grid(True)\n",
    "plt.title('Training and validation loss')\n",
    "plt.xlabel(\"epoch\")\n",
    "plt.ylabel(\"mean absolute error percentage\")\n",
    "plt.legend()\n",
    "plt.show()"
   ]
  },
  {
   "cell_type": "code",
   "execution_count": 38,
   "metadata": {
    "slideshow": {
     "slide_type": "slide"
    }
   },
   "outputs": [
    {
     "name": "stdout",
     "output_type": "stream",
     "text": [
      "[INFO] predicting house prices...\n"
     ]
    }
   ],
   "source": [
    "# make predictions on the testing data\n",
    "print(\"[INFO] predicting house prices...\")\n",
    "preds = model.predict(testX)"
   ]
  },
  {
   "cell_type": "code",
   "execution_count": 39,
   "metadata": {
    "scrolled": true,
    "slideshow": {
     "slide_type": "fragment"
    }
   },
   "outputs": [
    {
     "data": {
      "text/plain": [
       "array([[0.01672885],\n",
       "       [0.0300935 ],\n",
       "       [0.08946726],\n",
       "       [0.07022841],\n",
       "       [0.14665136],\n",
       "       [0.06759675],\n",
       "       [0.13950093],\n",
       "       [0.09281548],\n",
       "       [0.06275407],\n",
       "       [0.00478935],\n",
       "       [0.01699348],\n",
       "       [0.08519194],\n",
       "       [0.01599059],\n",
       "       [0.01646421],\n",
       "       [0.08564425],\n",
       "       [0.1104028 ],\n",
       "       [0.04681248],\n",
       "       [0.05281433],\n",
       "       [0.06406979],\n",
       "       [0.01672885],\n",
       "       [0.20141561],\n",
       "       [0.07439049],\n",
       "       [0.19330968],\n",
       "       [0.15012312],\n",
       "       [0.11848441],\n",
       "       [0.17870533],\n",
       "       [0.02543933],\n",
       "       [0.05894631],\n",
       "       [0.08793856],\n",
       "       [0.11187919],\n",
       "       [0.09460396],\n",
       "       [0.00561186],\n",
       "       [0.09770256],\n",
       "       [0.15460637],\n",
       "       [0.08429398],\n",
       "       [0.07878426],\n",
       "       [0.11999574],\n",
       "       [0.04685055],\n",
       "       [0.06322954],\n",
       "       [0.10104007],\n",
       "       [0.12170395],\n",
       "       [0.08664884],\n",
       "       [0.08882672],\n",
       "       [0.09531515],\n",
       "       [0.08601065],\n",
       "       [0.14230216],\n",
       "       [0.15040547],\n",
       "       [0.14598918],\n",
       "       [0.09204485],\n",
       "       [0.11581363],\n",
       "       [0.06374567],\n",
       "       [0.11812061],\n",
       "       [0.07096696],\n",
       "       [0.01550915],\n",
       "       [0.08546338],\n",
       "       [0.07366577],\n",
       "       [0.01550915],\n",
       "       [0.08667094],\n",
       "       [0.00758527],\n",
       "       [0.06510728],\n",
       "       [0.21337053],\n",
       "       [0.02937955],\n",
       "       [0.1952532 ],\n",
       "       [0.01466053],\n",
       "       [0.0171699 ],\n",
       "       [0.01619959],\n",
       "       [0.06828703],\n",
       "       [0.08814088],\n",
       "       [0.28534672],\n",
       "       [0.11982182],\n",
       "       [0.11527649],\n",
       "       [0.08551878],\n",
       "       [0.14048456],\n",
       "       [0.08257557],\n",
       "       [0.11525117],\n",
       "       [0.0102962 ],\n",
       "       [0.08798853],\n",
       "       [0.09368146],\n",
       "       [0.09858485],\n",
       "       [0.01672885],\n",
       "       [0.0982927 ],\n",
       "       [0.02517733],\n",
       "       [0.04693749],\n",
       "       [0.00832526],\n",
       "       [0.04458811],\n",
       "       [0.08616541],\n",
       "       [0.04081374],\n",
       "       [0.02858227],\n",
       "       [0.22990672],\n",
       "       [0.09850063],\n",
       "       [0.0810784 ],\n",
       "       [0.04880199],\n",
       "       [0.09630387],\n",
       "       [0.1113771 ],\n",
       "       [0.11586632],\n",
       "       [0.16224071]], dtype=float32)"
      ]
     },
     "execution_count": 39,
     "metadata": {},
     "output_type": "execute_result"
    }
   ],
   "source": [
    "preds"
   ]
  },
  {
   "cell_type": "code",
   "execution_count": 40,
   "metadata": {
    "slideshow": {
     "slide_type": "slide"
    }
   },
   "outputs": [],
   "source": [
    "# compute the difference between the *predicted* house prices and the\n",
    "# *actual* house prices, then compute the percentage difference and\n",
    "# the absolute percentage difference\n",
    "diff = preds.flatten() - testY\n",
    "percentDiff = (diff / testY) * 100\n",
    "absPercentDiff = np.abs(percentDiff)"
   ]
  },
  {
   "cell_type": "code",
   "execution_count": 41,
   "metadata": {
    "slideshow": {
     "slide_type": "fragment"
    }
   },
   "outputs": [
    {
     "data": {
      "text/plain": [
       "410    56.796149\n",
       "392    36.657160\n",
       "497   -10.410387\n",
       "474   -34.176313\n",
       "144    14.544487\n",
       "         ...    \n",
       "93    -46.960659\n",
       "176   -24.780261\n",
       "443     2.104388\n",
       "84     -1.488405\n",
       "96      2.746606\n",
       "Name: price, Length: 96, dtype: float64"
      ]
     },
     "execution_count": 41,
     "metadata": {},
     "output_type": "execute_result"
    }
   ],
   "source": [
    "percentDiff"
   ]
  },
  {
   "cell_type": "code",
   "execution_count": 42,
   "metadata": {
    "slideshow": {
     "slide_type": "slide"
    }
   },
   "outputs": [],
   "source": [
    "# compute the mean and standard deviation of the absolute percentage\n",
    "# difference\n",
    "mean = np.mean(absPercentDiff)\n",
    "std = np.std(absPercentDiff)"
   ]
  },
  {
   "cell_type": "code",
   "execution_count": 43,
   "metadata": {
    "slideshow": {
     "slide_type": "fragment"
    }
   },
   "outputs": [
    {
     "name": "stdout",
     "output_type": "stream",
     "text": [
      "Mean absolute difference percentage on test data: 24.02\n",
      "Standard deviation of absolute difference percentage on test data: 31.35\n"
     ]
    }
   ],
   "source": [
    "print(\"Mean absolute difference percentage on test data: {:.2f}\".format(mean))\n",
    "print(\"Standard deviation of absolute difference percentage on test data: {:.2f}\".format(std))"
   ]
  },
  {
   "cell_type": "code",
   "execution_count": 44,
   "metadata": {
    "slideshow": {
     "slide_type": "slide"
    }
   },
   "outputs": [],
   "source": [
    "def baselineModel(train,test):\n",
    "    meanTrain=train.mean()\n",
    "    absPercentage=100*((test-meanTrain)/test).abs()\n",
    "    return absPercentage.mean(),absPercentage.std()  "
   ]
  },
  {
   "cell_type": "code",
   "execution_count": 45,
   "metadata": {
    "slideshow": {
     "slide_type": "fragment"
    }
   },
   "outputs": [],
   "source": [
    "meanBase,stdBase=baselineModel(trainY,testY)"
   ]
  },
  {
   "cell_type": "code",
   "execution_count": 46,
   "metadata": {
    "slideshow": {
     "slide_type": "slide"
    }
   },
   "outputs": [
    {
     "name": "stdout",
     "output_type": "stream",
     "text": [
      "BASELINE: Mean absolute difference percentage on test data: 110.92%\n",
      "BASELINE: Standard deviation of absolute difference percentage on test data: 182.84%\n"
     ]
    }
   ],
   "source": [
    "print(\"BASELINE: Mean absolute difference percentage on test data: {:.2f}%\".format(meanBase))\n",
    "print(\"BASELINE: Standard deviation of absolute difference percentage on test data: {:.2f}%\".format(stdBase))"
   ]
  },
  {
   "cell_type": "code",
   "execution_count": null,
   "metadata": {},
   "outputs": [],
   "source": []
  }
 ],
 "metadata": {
  "celltoolbar": "Slideshow",
  "kernelspec": {
   "display_name": "Python 3",
   "language": "python",
   "name": "python3"
  },
  "language_info": {
   "codemirror_mode": {
    "name": "ipython",
    "version": 3
   },
   "file_extension": ".py",
   "mimetype": "text/x-python",
   "name": "python",
   "nbconvert_exporter": "python",
   "pygments_lexer": "ipython3",
   "version": "3.7.5"
  },
  "toc": {
   "base_numbering": 1,
   "nav_menu": {},
   "number_sections": true,
   "sideBar": true,
   "skip_h1_title": false,
   "title_cell": "Table of Contents",
   "title_sidebar": "Contents",
   "toc_cell": false,
   "toc_position": {},
   "toc_section_display": true,
   "toc_window_display": false
  }
 },
 "nbformat": 4,
 "nbformat_minor": 2
}
