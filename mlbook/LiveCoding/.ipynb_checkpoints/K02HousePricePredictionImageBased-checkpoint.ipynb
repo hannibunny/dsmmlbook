{
 "cells": [
  {
   "cell_type": "markdown",
   "metadata": {
    "slideshow": {
     "slide_type": "slide"
    }
   },
   "source": [
    "# Regression: House Price Prediction\n",
    "* Author: Johannes Maucher\n",
    "* Paper: [E.H. Ahmed, M.N. Moustafa: House Price Estimation from Visual and Textual Features](https://arxiv.org/pdf/1609.08399.pdf)\n",
    "* Data: [https://github.com/emanhamed/Houses-dataset](https://github.com/emanhamed/Houses-dataset)"
   ]
  },
  {
   "cell_type": "markdown",
   "metadata": {
    "slideshow": {
     "slide_type": "slide"
    }
   },
   "source": [
    "## Goal\n",
    "\n",
    "House prices can be predicted based on different types of information. In this notebook we apply **2 different types of data:**\n",
    "\n",
    "**Structured Data:**\n",
    "\n",
    "* number of bedrooms\n",
    "* number of bathrooms\n",
    "* entire living area in square feets\n",
    "* location of the house in terms of zipcode\n",
    "\n",
    "**Images**\n",
    "* 4 images per house from the following views: front, bedroom, bathroom, kitchen"
   ]
  },
  {
   "cell_type": "markdown",
   "metadata": {
    "slideshow": {
     "slide_type": "skip"
    }
   },
   "source": [
    "In the previous 2 notebooks on house price prediction either the structured data or the images have been applied as input for the predictor. Now, a model is trained, which applies both types of input-data. The structured data partition is fed to a simple MLP, the images are processed by a CNN. The outputs of both neural network models are then combined and passed to a simple dense layer for regression. "
   ]
  },
  {
   "cell_type": "markdown",
   "metadata": {
    "slideshow": {
     "slide_type": "skip"
    }
   },
   "source": [
    "## Data\n",
    "\n",
    "The data applied in this notebook can be downloaded from Data: [https://github.com/emanhamed/Houses-dataset](https://github.com/emanhamed/Houses-dataset)"
   ]
  },
  {
   "cell_type": "code",
   "execution_count": 2,
   "metadata": {
    "slideshow": {
     "slide_type": "skip"
    }
   },
   "outputs": [],
   "source": [
    "from tensorflow.keras.optimizers import Adam\n",
    "from sklearn.model_selection import train_test_split\n",
    "import numpy as np\n",
    "import locale\n",
    "import os\n",
    "import pandas as pd\n",
    "import glob\n",
    "import cv2"
   ]
  },
  {
   "cell_type": "code",
   "execution_count": 3,
   "metadata": {
    "slideshow": {
     "slide_type": "slide"
    }
   },
   "outputs": [
    {
     "ename": "FileNotFoundError",
     "evalue": "[Errno 2] File ../Data/Houses-dataset/Houses Dataset/HousesInfo.txt does not exist: '../Data/Houses-dataset/Houses Dataset/HousesInfo.txt'",
     "output_type": "error",
     "traceback": [
      "\u001b[0;31m---------------------------------------------------------------------------\u001b[0m",
      "\u001b[0;31mFileNotFoundError\u001b[0m                         Traceback (most recent call last)",
      "\u001b[0;32m<ipython-input-3-ac726286ffac>\u001b[0m in \u001b[0;36m<module>\u001b[0;34m\u001b[0m\n\u001b[1;32m      3\u001b[0m \u001b[0mfile\u001b[0m\u001b[0;34m=\u001b[0m\u001b[0;34m\"HousesInfo.txt\"\u001b[0m\u001b[0;34m\u001b[0m\u001b[0;34m\u001b[0m\u001b[0m\n\u001b[1;32m      4\u001b[0m \u001b[0mcols\u001b[0m \u001b[0;34m=\u001b[0m \u001b[0;34m[\u001b[0m\u001b[0;34m\"bedrooms\"\u001b[0m\u001b[0;34m,\u001b[0m \u001b[0;34m\"bathrooms\"\u001b[0m\u001b[0;34m,\u001b[0m \u001b[0;34m\"area\"\u001b[0m\u001b[0;34m,\u001b[0m \u001b[0;34m\"zipcode\"\u001b[0m\u001b[0;34m,\u001b[0m \u001b[0;34m\"price\"\u001b[0m\u001b[0;34m]\u001b[0m\u001b[0;34m\u001b[0m\u001b[0;34m\u001b[0m\u001b[0m\n\u001b[0;32m----> 5\u001b[0;31m \u001b[0mdf\u001b[0m \u001b[0;34m=\u001b[0m \u001b[0mpd\u001b[0m\u001b[0;34m.\u001b[0m\u001b[0mread_csv\u001b[0m\u001b[0;34m(\u001b[0m\u001b[0mpath\u001b[0m\u001b[0;34m+\u001b[0m\u001b[0mfile\u001b[0m\u001b[0;34m,\u001b[0m \u001b[0msep\u001b[0m\u001b[0;34m=\u001b[0m\u001b[0;34m\" \"\u001b[0m\u001b[0;34m,\u001b[0m \u001b[0mheader\u001b[0m\u001b[0;34m=\u001b[0m\u001b[0;32mNone\u001b[0m\u001b[0;34m,\u001b[0m \u001b[0mnames\u001b[0m\u001b[0;34m=\u001b[0m\u001b[0mcols\u001b[0m\u001b[0;34m)\u001b[0m\u001b[0;34m\u001b[0m\u001b[0;34m\u001b[0m\u001b[0m\n\u001b[0m\u001b[1;32m      6\u001b[0m \u001b[0mdf\u001b[0m\u001b[0;34m.\u001b[0m\u001b[0mhead\u001b[0m\u001b[0;34m(\u001b[0m\u001b[0;34m)\u001b[0m\u001b[0;34m\u001b[0m\u001b[0;34m\u001b[0m\u001b[0m\n",
      "\u001b[0;32m~/opt/anaconda3/envs/tf2/lib/python3.7/site-packages/pandas/io/parsers.py\u001b[0m in \u001b[0;36mparser_f\u001b[0;34m(filepath_or_buffer, sep, delimiter, header, names, index_col, usecols, squeeze, prefix, mangle_dupe_cols, dtype, engine, converters, true_values, false_values, skipinitialspace, skiprows, skipfooter, nrows, na_values, keep_default_na, na_filter, verbose, skip_blank_lines, parse_dates, infer_datetime_format, keep_date_col, date_parser, dayfirst, cache_dates, iterator, chunksize, compression, thousands, decimal, lineterminator, quotechar, quoting, doublequote, escapechar, comment, encoding, dialect, error_bad_lines, warn_bad_lines, delim_whitespace, low_memory, memory_map, float_precision)\u001b[0m\n\u001b[1;32m    674\u001b[0m         )\n\u001b[1;32m    675\u001b[0m \u001b[0;34m\u001b[0m\u001b[0m\n\u001b[0;32m--> 676\u001b[0;31m         \u001b[0;32mreturn\u001b[0m \u001b[0m_read\u001b[0m\u001b[0;34m(\u001b[0m\u001b[0mfilepath_or_buffer\u001b[0m\u001b[0;34m,\u001b[0m \u001b[0mkwds\u001b[0m\u001b[0;34m)\u001b[0m\u001b[0;34m\u001b[0m\u001b[0;34m\u001b[0m\u001b[0m\n\u001b[0m\u001b[1;32m    677\u001b[0m \u001b[0;34m\u001b[0m\u001b[0m\n\u001b[1;32m    678\u001b[0m     \u001b[0mparser_f\u001b[0m\u001b[0;34m.\u001b[0m\u001b[0m__name__\u001b[0m \u001b[0;34m=\u001b[0m \u001b[0mname\u001b[0m\u001b[0;34m\u001b[0m\u001b[0;34m\u001b[0m\u001b[0m\n",
      "\u001b[0;32m~/opt/anaconda3/envs/tf2/lib/python3.7/site-packages/pandas/io/parsers.py\u001b[0m in \u001b[0;36m_read\u001b[0;34m(filepath_or_buffer, kwds)\u001b[0m\n\u001b[1;32m    446\u001b[0m \u001b[0;34m\u001b[0m\u001b[0m\n\u001b[1;32m    447\u001b[0m     \u001b[0;31m# Create the parser.\u001b[0m\u001b[0;34m\u001b[0m\u001b[0;34m\u001b[0m\u001b[0;34m\u001b[0m\u001b[0m\n\u001b[0;32m--> 448\u001b[0;31m     \u001b[0mparser\u001b[0m \u001b[0;34m=\u001b[0m \u001b[0mTextFileReader\u001b[0m\u001b[0;34m(\u001b[0m\u001b[0mfp_or_buf\u001b[0m\u001b[0;34m,\u001b[0m \u001b[0;34m**\u001b[0m\u001b[0mkwds\u001b[0m\u001b[0;34m)\u001b[0m\u001b[0;34m\u001b[0m\u001b[0;34m\u001b[0m\u001b[0m\n\u001b[0m\u001b[1;32m    449\u001b[0m \u001b[0;34m\u001b[0m\u001b[0m\n\u001b[1;32m    450\u001b[0m     \u001b[0;32mif\u001b[0m \u001b[0mchunksize\u001b[0m \u001b[0;32mor\u001b[0m \u001b[0miterator\u001b[0m\u001b[0;34m:\u001b[0m\u001b[0;34m\u001b[0m\u001b[0;34m\u001b[0m\u001b[0m\n",
      "\u001b[0;32m~/opt/anaconda3/envs/tf2/lib/python3.7/site-packages/pandas/io/parsers.py\u001b[0m in \u001b[0;36m__init__\u001b[0;34m(self, f, engine, **kwds)\u001b[0m\n\u001b[1;32m    878\u001b[0m             \u001b[0mself\u001b[0m\u001b[0;34m.\u001b[0m\u001b[0moptions\u001b[0m\u001b[0;34m[\u001b[0m\u001b[0;34m\"has_index_names\"\u001b[0m\u001b[0;34m]\u001b[0m \u001b[0;34m=\u001b[0m \u001b[0mkwds\u001b[0m\u001b[0;34m[\u001b[0m\u001b[0;34m\"has_index_names\"\u001b[0m\u001b[0;34m]\u001b[0m\u001b[0;34m\u001b[0m\u001b[0;34m\u001b[0m\u001b[0m\n\u001b[1;32m    879\u001b[0m \u001b[0;34m\u001b[0m\u001b[0m\n\u001b[0;32m--> 880\u001b[0;31m         \u001b[0mself\u001b[0m\u001b[0;34m.\u001b[0m\u001b[0m_make_engine\u001b[0m\u001b[0;34m(\u001b[0m\u001b[0mself\u001b[0m\u001b[0;34m.\u001b[0m\u001b[0mengine\u001b[0m\u001b[0;34m)\u001b[0m\u001b[0;34m\u001b[0m\u001b[0;34m\u001b[0m\u001b[0m\n\u001b[0m\u001b[1;32m    881\u001b[0m \u001b[0;34m\u001b[0m\u001b[0m\n\u001b[1;32m    882\u001b[0m     \u001b[0;32mdef\u001b[0m \u001b[0mclose\u001b[0m\u001b[0;34m(\u001b[0m\u001b[0mself\u001b[0m\u001b[0;34m)\u001b[0m\u001b[0;34m:\u001b[0m\u001b[0;34m\u001b[0m\u001b[0;34m\u001b[0m\u001b[0m\n",
      "\u001b[0;32m~/opt/anaconda3/envs/tf2/lib/python3.7/site-packages/pandas/io/parsers.py\u001b[0m in \u001b[0;36m_make_engine\u001b[0;34m(self, engine)\u001b[0m\n\u001b[1;32m   1112\u001b[0m     \u001b[0;32mdef\u001b[0m \u001b[0m_make_engine\u001b[0m\u001b[0;34m(\u001b[0m\u001b[0mself\u001b[0m\u001b[0;34m,\u001b[0m \u001b[0mengine\u001b[0m\u001b[0;34m=\u001b[0m\u001b[0;34m\"c\"\u001b[0m\u001b[0;34m)\u001b[0m\u001b[0;34m:\u001b[0m\u001b[0;34m\u001b[0m\u001b[0;34m\u001b[0m\u001b[0m\n\u001b[1;32m   1113\u001b[0m         \u001b[0;32mif\u001b[0m \u001b[0mengine\u001b[0m \u001b[0;34m==\u001b[0m \u001b[0;34m\"c\"\u001b[0m\u001b[0;34m:\u001b[0m\u001b[0;34m\u001b[0m\u001b[0;34m\u001b[0m\u001b[0m\n\u001b[0;32m-> 1114\u001b[0;31m             \u001b[0mself\u001b[0m\u001b[0;34m.\u001b[0m\u001b[0m_engine\u001b[0m \u001b[0;34m=\u001b[0m \u001b[0mCParserWrapper\u001b[0m\u001b[0;34m(\u001b[0m\u001b[0mself\u001b[0m\u001b[0;34m.\u001b[0m\u001b[0mf\u001b[0m\u001b[0;34m,\u001b[0m \u001b[0;34m**\u001b[0m\u001b[0mself\u001b[0m\u001b[0;34m.\u001b[0m\u001b[0moptions\u001b[0m\u001b[0;34m)\u001b[0m\u001b[0;34m\u001b[0m\u001b[0;34m\u001b[0m\u001b[0m\n\u001b[0m\u001b[1;32m   1115\u001b[0m         \u001b[0;32melse\u001b[0m\u001b[0;34m:\u001b[0m\u001b[0;34m\u001b[0m\u001b[0;34m\u001b[0m\u001b[0m\n\u001b[1;32m   1116\u001b[0m             \u001b[0;32mif\u001b[0m \u001b[0mengine\u001b[0m \u001b[0;34m==\u001b[0m \u001b[0;34m\"python\"\u001b[0m\u001b[0;34m:\u001b[0m\u001b[0;34m\u001b[0m\u001b[0;34m\u001b[0m\u001b[0m\n",
      "\u001b[0;32m~/opt/anaconda3/envs/tf2/lib/python3.7/site-packages/pandas/io/parsers.py\u001b[0m in \u001b[0;36m__init__\u001b[0;34m(self, src, **kwds)\u001b[0m\n\u001b[1;32m   1889\u001b[0m         \u001b[0mkwds\u001b[0m\u001b[0;34m[\u001b[0m\u001b[0;34m\"usecols\"\u001b[0m\u001b[0;34m]\u001b[0m \u001b[0;34m=\u001b[0m \u001b[0mself\u001b[0m\u001b[0;34m.\u001b[0m\u001b[0musecols\u001b[0m\u001b[0;34m\u001b[0m\u001b[0;34m\u001b[0m\u001b[0m\n\u001b[1;32m   1890\u001b[0m \u001b[0;34m\u001b[0m\u001b[0m\n\u001b[0;32m-> 1891\u001b[0;31m         \u001b[0mself\u001b[0m\u001b[0;34m.\u001b[0m\u001b[0m_reader\u001b[0m \u001b[0;34m=\u001b[0m \u001b[0mparsers\u001b[0m\u001b[0;34m.\u001b[0m\u001b[0mTextReader\u001b[0m\u001b[0;34m(\u001b[0m\u001b[0msrc\u001b[0m\u001b[0;34m,\u001b[0m \u001b[0;34m**\u001b[0m\u001b[0mkwds\u001b[0m\u001b[0;34m)\u001b[0m\u001b[0;34m\u001b[0m\u001b[0;34m\u001b[0m\u001b[0m\n\u001b[0m\u001b[1;32m   1892\u001b[0m         \u001b[0mself\u001b[0m\u001b[0;34m.\u001b[0m\u001b[0munnamed_cols\u001b[0m \u001b[0;34m=\u001b[0m \u001b[0mself\u001b[0m\u001b[0;34m.\u001b[0m\u001b[0m_reader\u001b[0m\u001b[0;34m.\u001b[0m\u001b[0munnamed_cols\u001b[0m\u001b[0;34m\u001b[0m\u001b[0;34m\u001b[0m\u001b[0m\n\u001b[1;32m   1893\u001b[0m \u001b[0;34m\u001b[0m\u001b[0m\n",
      "\u001b[0;32mpandas/_libs/parsers.pyx\u001b[0m in \u001b[0;36mpandas._libs.parsers.TextReader.__cinit__\u001b[0;34m()\u001b[0m\n",
      "\u001b[0;32mpandas/_libs/parsers.pyx\u001b[0m in \u001b[0;36mpandas._libs.parsers.TextReader._setup_parser_source\u001b[0;34m()\u001b[0m\n",
      "\u001b[0;31mFileNotFoundError\u001b[0m: [Errno 2] File ../Data/Houses-dataset/Houses Dataset/HousesInfo.txt does not exist: '../Data/Houses-dataset/Houses Dataset/HousesInfo.txt'"
     ]
    }
   ],
   "source": [
    "#path=\"/Users/maucher/ownCloud/Workshops/Data/Houses-dataset/Houses Dataset/\"  #MacBook\n",
    "path=\"../Data/Houses-dataset/Houses Dataset/\"\n",
    "file=\"HousesInfo.txt\"\n",
    "cols = [\"bedrooms\", \"bathrooms\", \"area\", \"zipcode\", \"price\"]\n",
    "df = pd.read_csv(path+file, sep=\" \", header=None, names=cols)\n",
    "df.head()"
   ]
  },
  {
   "cell_type": "markdown",
   "metadata": {
    "slideshow": {
     "slide_type": "slide"
    }
   },
   "source": [
    "### Exclude all houses in areas with less than 20 houses in the dataset\n",
    "In order to create well generalising (robust) models, training data shall reflect the true statistics of the data as good as possible. In the case of categorical attributes this means that each value shall occur sufficiently often in the training dataset. Therefore, all houses in areas, whose zip-code appears only rarely (less than 20 times) in the given dataset, are dropped."
   ]
  },
  {
   "cell_type": "code",
   "execution_count": 3,
   "metadata": {
    "slideshow": {
     "slide_type": "fragment"
    }
   },
   "outputs": [],
   "source": [
    "lowZips=df[\"zipcode\"].value_counts()[df[\"zipcode\"].value_counts()<20]\n",
    "for z in lowZips.keys():\n",
    "    idxs = df[df[\"zipcode\"] == z].index\n",
    "    df.drop(idxs, inplace=True)"
   ]
  },
  {
   "cell_type": "code",
   "execution_count": 4,
   "metadata": {
    "slideshow": {
     "slide_type": "skip"
    }
   },
   "outputs": [
    {
     "name": "stdout",
     "output_type": "stream",
     "text": [
      "[ 30  32  39  80  81  82  83  84  85  86  87  88  89  90  91  92  93  94\n",
      "  95  96  97  98  99 100 101 102 103 104 105 106 107 108 109 110 111 112\n",
      " 113 125 126 127 128 129 130 131 132 133 134 135 136 137 138 139 140 141\n",
      " 142 143 144 145 146 147 148 149 150 173 174 175 176 177 178 179 180 181\n",
      " 182 183 184 185 186 187 188 189 190 191 192 193 194 195 196 197 198 199\n",
      " 200 201 202 203 204 205 206 207 208 209 210 211 212 213 214 227 228 229\n",
      " 230 231 232 233 234 236 237 238 239 240 241 242 243 244 245 246 247 248\n",
      " 249 250 251 258 265 267 269 272 274 275 277 278 279 280 281 283 284 285\n",
      " 286 287 288 289 290 291 292 293 294 295 296 297 298 299 300 301 302 303\n",
      " 304 305 306 307 308 309 310 311 312 313 314 315 316 317 318 319 320 321\n",
      " 322 323 324 325 326 327 328 329 330 331 332 333 334 335 336 337 338 339\n",
      " 340 341 342 343 344 345 346 347 348 349 350 351 352 353 354 355 356 357\n",
      " 358 359 360 361 362 363 364 365 366 367 368 369 370 371 372 373 374 375\n",
      " 376 377 378 379 380 381 382 383 384 385 386 387 388 389 390 391 392 393\n",
      " 394 395 396 397 398 399 400 401 402 403 404 405 406 407 408 409 410 411\n",
      " 412 413 414 415 416 417 418 419 420 421 422 423 424 425 426 427 428 429\n",
      " 430 431 432 433 434 435 436 437 438 439 440 441 442 443 444 445 446 447\n",
      " 448 449 450 451 452 453 454 455 456 457 458 459 460 461 462 463 464 465\n",
      " 466 467 468 469 470 471 472 473 474 475 476 477 478 479 480 481 482 483\n",
      " 484 485 486 487 488 489 490 491 492 493 494 495 496 497 498 499 500 501\n",
      " 502 503 513 514 515 516 517 518 519 520 521 522 523 524 525 526 527 528\n",
      " 529 530 531 532 533 534]\n"
     ]
    }
   ],
   "source": [
    "print(df.index.values)"
   ]
  },
  {
   "cell_type": "markdown",
   "metadata": {
    "slideshow": {
     "slide_type": "slide"
    }
   },
   "source": [
    "## Load Images\n",
    "\n",
    "The names of the house image files are organized such that all 4 images, which belong to a single house, start with the same integer. This integer is the index used in the dataframe `df`.\n",
    "\n",
    "In the code-cell below all 4 images, which belong to a single house are stacked togehter into a new super-image, which is later on used as input for the CNN. "
   ]
  },
  {
   "cell_type": "code",
   "execution_count": 5,
   "metadata": {
    "slideshow": {
     "slide_type": "slide"
    }
   },
   "outputs": [],
   "source": [
    "IMGSIZE=32"
   ]
  },
  {
   "cell_type": "code",
   "execution_count": 6,
   "metadata": {
    "scrolled": false,
    "slideshow": {
     "slide_type": "fragment"
    }
   },
   "outputs": [
    {
     "name": "stdout",
     "output_type": "stream",
     "text": [
      "(384, 64, 64, 3)\n"
     ]
    }
   ],
   "source": [
    "# initialize our images array (i.e., the house images themselves)\n",
    "images = []\n",
    "\n",
    "# loop over the indexes of the houses\n",
    "for i in df.index.values:\n",
    "    # find the four images for the house and sort the file paths,\n",
    "    # ensuring the four are always in the *same order*\n",
    "    basePath = os.path.sep.join([path, \"{}_*\".format(i + 1)])\n",
    "    housePaths = sorted(list(glob.glob(basePath)))\n",
    "\n",
    "    # initialize our list of input images along with the output image\n",
    "    # after *combining* the four input images\n",
    "    inputImages = []\n",
    "    outputImage = np.zeros((2*IMGSIZE, 2*IMGSIZE, 3), dtype=\"uint8\")\n",
    "\n",
    "    # loop over the input house paths\n",
    "    for housePath in housePaths:\n",
    "        # load the input image, resize it to be IMGSIZExIMGSIZE, and then\n",
    "        # update the list of input images\n",
    "        image = cv2.imread(housePath)\n",
    "        image = cv2.resize(image, (IMGSIZE,IMGSIZE))\n",
    "        inputImages.append(image)\n",
    "        #print(len(inputImages))\n",
    "\n",
    "    # tile the four input images in the output image such the first\n",
    "    # image goes in the top-right corner, the second image in the\n",
    "    # top-left corner, the third image in the bottom-right corner,\n",
    "    # and the final image in the bottom-left corner\n",
    "    outputImage[0:IMGSIZE, 0:IMGSIZE] = inputImages[0]\n",
    "    outputImage[0:IMGSIZE, IMGSIZE:2*IMGSIZE] = inputImages[1]\n",
    "    outputImage[IMGSIZE:2*IMGSIZE, IMGSIZE:2*IMGSIZE] = inputImages[2]\n",
    "    outputImage[IMGSIZE:2*IMGSIZE, 0:IMGSIZE] = inputImages[3]\n",
    "\n",
    "    # add the tiled image to our set of images the network will be\n",
    "    # trained on\n",
    "    images.append(outputImage)\n",
    "\n",
    "    # return our set of images\n",
    "images=np.array(images)\n",
    "print(images.shape)"
   ]
  },
  {
   "cell_type": "markdown",
   "metadata": {
    "slideshow": {
     "slide_type": "slide"
    }
   },
   "source": [
    "### Visualize single image"
   ]
  },
  {
   "cell_type": "code",
   "execution_count": 7,
   "metadata": {
    "slideshow": {
     "slide_type": "fragment"
    }
   },
   "outputs": [
    {
     "data": {
      "image/png": "[encoded data removed]",
      "text/plain": [
       "<Figure size 432x288 with 1 Axes>"
      ]
     },
     "metadata": {
      "needs_background": "light"
     },
     "output_type": "display_data"
    }
   ],
   "source": [
    "%matplotlib inline\n",
    "from matplotlib import pyplot as plt\n",
    "img=images[1,:,:,:]\n",
    "#plt.figure(figsize=(8,8))\n",
    "plt.imshow(img)\n",
    "plt.show()"
   ]
  },
  {
   "cell_type": "markdown",
   "metadata": {
    "slideshow": {
     "slide_type": "slide"
    }
   },
   "source": [
    "Scale all images, such that their pixel-values are in the range $[0,1]$."
   ]
  },
  {
   "cell_type": "code",
   "execution_count": 8,
   "metadata": {
    "slideshow": {
     "slide_type": "fragment"
    }
   },
   "outputs": [],
   "source": [
    "images = images / 255.0"
   ]
  },
  {
   "cell_type": "markdown",
   "metadata": {
    "slideshow": {
     "slide_type": "slide"
    }
   },
   "source": [
    "Partition the data into training and testing splits using 75% of the data for training and the remaining 25% for testing"
   ]
  },
  {
   "cell_type": "code",
   "execution_count": 9,
   "metadata": {
    "slideshow": {
     "slide_type": "fragment"
    }
   },
   "outputs": [],
   "source": [
    "from sklearn.model_selection import train_test_split"
   ]
  },
  {
   "cell_type": "code",
   "execution_count": 10,
   "metadata": {
    "slideshow": {
     "slide_type": "fragment"
    }
   },
   "outputs": [],
   "source": [
    " split = train_test_split(df, images, test_size=0.25, random_state=42)\n",
    "(trainAttrX, testAttrX, trainImagesX, testImagesX) = split"
   ]
  },
  {
   "cell_type": "markdown",
   "metadata": {
    "slideshow": {
     "slide_type": "slide"
    }
   },
   "source": [
    "**Scale target output:** Find the largest house price in the training set and use it to scale house prices to the range $[0, 1]$. This will lead to better training convergence."
   ]
  },
  {
   "cell_type": "code",
   "execution_count": 11,
   "metadata": {
    "slideshow": {
     "slide_type": "fragment"
    }
   },
   "outputs": [],
   "source": [
    "maxPrice = trainAttrX[\"price\"].max()\n",
    "trainY = trainAttrX[\"price\"] / maxPrice\n",
    "testY = testAttrX[\"price\"] / maxPrice"
   ]
  },
  {
   "cell_type": "code",
   "execution_count": 12,
   "metadata": {
    "slideshow": {
     "slide_type": "skip"
    }
   },
   "outputs": [],
   "source": [
    "# import the necessary packages\n",
    "from keras.models import Sequential\n",
    "from keras.layers.normalization import BatchNormalization\n",
    "from keras.layers.convolutional import Conv2D\n",
    "from keras.layers.convolutional import MaxPooling2D\n",
    "from keras.layers.core import Activation\n",
    "from keras.layers.core import Dropout\n",
    "from keras.layers.core import Dense\n",
    "from keras.layers import Flatten\n",
    "from keras.layers import Input\n",
    "from keras.models import Model"
   ]
  },
  {
   "cell_type": "markdown",
   "metadata": {
    "slideshow": {
     "slide_type": "slide"
    }
   },
   "source": [
    "### Define CNN for image-input\n",
    "The CNN consists of 3 consecutive cascades of \n",
    "* Convolution Layer with filter-size $3 \\times 3$.\n",
    "* Relu-Activation\n",
    "* Batch-Normalization\n",
    "* Max-Pooling of size $2 \\times 2$.\n",
    "\n",
    "The output of this Feature-Extraction part of the Deep Neural Network is serialized and passed to a Dense-Layer with 16 neurons. The Dense layer applies Batch-Normalization and Dropout."
   ]
  },
  {
   "cell_type": "code",
   "execution_count": 13,
   "metadata": {
    "slideshow": {
     "slide_type": "slide"
    }
   },
   "outputs": [],
   "source": [
    "def create_cnn(width, height, depth, filters=(16, 32, 64), regress=False):\n",
    "    # initialize the input shape and channel dimension, assuming\n",
    "    # TensorFlow/channels-last ordering\n",
    "    inputShape = (height, width, depth)\n",
    "    chanDim = -1\n",
    "\n",
    "    # define the model input\n",
    "    inputs = Input(shape=inputShape)\n",
    "\n",
    "    # loop over the number of filters\n",
    "    for (i, f) in enumerate(filters):\n",
    "        # if this is the first CONV layer then set the input\n",
    "        # appropriately\n",
    "        if i == 0:\n",
    "            x = inputs\n",
    "\n",
    "        # CONV => RELU => BN => POOL\n",
    "        x = Conv2D(f, (3, 3), padding=\"same\")(x)\n",
    "        x = Activation(\"relu\")(x)\n",
    "        x = BatchNormalization(axis=chanDim)(x)\n",
    "        x = MaxPooling2D(pool_size=(2, 2))(x)\n",
    "\n",
    "    # flatten the volume, then FC => RELU => BN => DROPOUT\n",
    "    x = Flatten()(x)\n",
    "    x = Dense(16)(x)\n",
    "    x = Activation(\"relu\")(x)\n",
    "    x = BatchNormalization(axis=chanDim)(x)\n",
    "    x = Dropout(0.5)(x)\n",
    "\n",
    "    # apply another FC layer, this one to match the number of nodes\n",
    "    # coming out of the MLP\n",
    "    x = Dense(4)(x)\n",
    "    x = Activation(\"relu\")(x)\n",
    "\n",
    "    # check to see if the regression node should be added\n",
    "    if regress:\n",
    "        x = Dense(1, activation=\"linear\")(x)\n",
    "\n",
    "    # construct the CNN\n",
    "    model = Model(inputs, x)\n",
    "\n",
    "    # return the CNN\n",
    "    return model"
   ]
  },
  {
   "cell_type": "markdown",
   "metadata": {
    "slideshow": {
     "slide_type": "slide"
    }
   },
   "source": [
    "### Define training hyperparameters, compile and train network\n",
    "Define training algorithm and corresponding hyperparameters. Here, Adam is applied."
   ]
  },
  {
   "cell_type": "code",
   "execution_count": 14,
   "metadata": {
    "slideshow": {
     "slide_type": "fragment"
    }
   },
   "outputs": [
    {
     "name": "stdout",
     "output_type": "stream",
     "text": [
      "_________________________________________________________________\n",
      "Layer (type)                 Output Shape              Param #   \n",
      "=================================================================\n",
      "input_1 (InputLayer)         (None, 64, 64, 3)         0         \n",
      "_________________________________________________________________\n",
      "conv2d_1 (Conv2D)            (None, 64, 64, 16)        448       \n",
      "_________________________________________________________________\n",
      "activation_1 (Activation)    (None, 64, 64, 16)        0         \n",
      "_________________________________________________________________\n",
      "batch_normalization_1 (Batch (None, 64, 64, 16)        64        \n",
      "_________________________________________________________________\n",
      "max_pooling2d_1 (MaxPooling2 (None, 32, 32, 16)        0         \n",
      "_________________________________________________________________\n",
      "conv2d_2 (Conv2D)            (None, 32, 32, 32)        4640      \n",
      "_________________________________________________________________\n",
      "activation_2 (Activation)    (None, 32, 32, 32)        0         \n",
      "_________________________________________________________________\n",
      "batch_normalization_2 (Batch (None, 32, 32, 32)        128       \n",
      "_________________________________________________________________\n",
      "max_pooling2d_2 (MaxPooling2 (None, 16, 16, 32)        0         \n",
      "_________________________________________________________________\n",
      "conv2d_3 (Conv2D)            (None, 16, 16, 64)        18496     \n",
      "_________________________________________________________________\n",
      "activation_3 (Activation)    (None, 16, 16, 64)        0         \n",
      "_________________________________________________________________\n",
      "batch_normalization_3 (Batch (None, 16, 16, 64)        256       \n",
      "_________________________________________________________________\n",
      "max_pooling2d_3 (MaxPooling2 (None, 8, 8, 64)          0         \n",
      "_________________________________________________________________\n",
      "flatten_1 (Flatten)          (None, 4096)              0         \n",
      "_________________________________________________________________\n",
      "dense_1 (Dense)              (None, 16)                65552     \n",
      "_________________________________________________________________\n",
      "activation_4 (Activation)    (None, 16)                0         \n",
      "_________________________________________________________________\n",
      "batch_normalization_4 (Batch (None, 16)                64        \n",
      "_________________________________________________________________\n",
      "dropout_1 (Dropout)          (None, 16)                0         \n",
      "_________________________________________________________________\n",
      "dense_2 (Dense)              (None, 4)                 68        \n",
      "_________________________________________________________________\n",
      "activation_5 (Activation)    (None, 4)                 0         \n",
      "_________________________________________________________________\n",
      "dense_3 (Dense)              (None, 1)                 5         \n",
      "=================================================================\n",
      "Total params: 89,721\n",
      "Trainable params: 89,465\n",
      "Non-trainable params: 256\n",
      "_________________________________________________________________\n"
     ]
    }
   ],
   "source": [
    "# seek to minimize the absolute percentage difference between our\n",
    "# price *predictions* and the *actual prices*\n",
    "model = create_cnn(2*IMGSIZE, 2*IMGSIZE, 3, regress=True)\n",
    "opt = Adam(lr=1e-3, decay=1e-3 / 200)\n",
    "model.compile(loss=\"mean_absolute_percentage_error\", optimizer=opt)\n",
    "model.summary()"
   ]
  },
  {
   "cell_type": "markdown",
   "metadata": {
    "slideshow": {
     "slide_type": "slide"
    }
   },
   "source": [
    "Perform training:"
   ]
  },
  {
   "cell_type": "code",
   "execution_count": 15,
   "metadata": {
    "slideshow": {
     "slide_type": "fragment"
    }
   },
   "outputs": [
    {
     "name": "stdout",
     "output_type": "stream",
     "text": [
      "[INFO] training model...\n",
      "Train on 288 samples, validate on 96 samples\n",
      "Epoch 1/200\n",
      "288/288 [==============================] - 3s 12ms/step - loss: 1692.1448 - val_loss: 1563.4293\n",
      "Epoch 2/200\n",
      "288/288 [==============================] - 3s 11ms/step - loss: 1148.1131 - val_loss: 698.4427\n",
      "Epoch 3/200\n",
      "288/288 [==============================] - 3s 11ms/step - loss: 925.8906 - val_loss: 844.1107\n",
      "Epoch 4/200\n",
      "288/288 [==============================] - 2s 8ms/step - loss: 737.6560 - val_loss: 555.7801\n",
      "Epoch 5/200\n",
      "288/288 [==============================] - 2s 8ms/step - loss: 609.0932 - val_loss: 323.3787\n",
      "Epoch 6/200\n",
      "288/288 [==============================] - 2s 8ms/step - loss: 451.7463 - val_loss: 149.5886\n",
      "Epoch 7/200\n",
      "288/288 [==============================] - 2s 8ms/step - loss: 465.4236 - val_loss: 116.7950\n",
      "Epoch 8/200\n",
      "288/288 [==============================] - 2s 9ms/step - loss: 388.6938 - val_loss: 133.2785\n",
      "Epoch 9/200\n",
      "288/288 [==============================] - 2s 8ms/step - loss: 300.8565 - val_loss: 275.5183\n",
      "Epoch 10/200\n",
      "288/288 [==============================] - 2s 7ms/step - loss: 305.5512 - val_loss: 514.3675\n",
      "Epoch 11/200\n",
      "288/288 [==============================] - 2s 7ms/step - loss: 243.6871 - val_loss: 229.8031\n",
      "Epoch 12/200\n",
      "288/288 [==============================] - 2s 8ms/step - loss: 325.3930 - val_loss: 73.1325\n",
      "Epoch 13/200\n",
      "288/288 [==============================] - 2s 7ms/step - loss: 231.5259 - val_loss: 75.5918\n",
      "Epoch 14/200\n",
      "288/288 [==============================] - 2s 7ms/step - loss: 140.4746 - val_loss: 80.4809\n",
      "Epoch 15/200\n",
      "288/288 [==============================] - 2s 7ms/step - loss: 138.9793 - val_loss: 74.1516\n",
      "Epoch 16/200\n",
      "288/288 [==============================] - 2s 7ms/step - loss: 169.7714 - val_loss: 64.1180\n",
      "Epoch 17/200\n",
      "288/288 [==============================] - 2s 7ms/step - loss: 138.6986 - val_loss: 63.0050\n",
      "Epoch 18/200\n",
      "288/288 [==============================] - 2s 7ms/step - loss: 149.8859 - val_loss: 61.6772\n",
      "Epoch 19/200\n",
      "288/288 [==============================] - 2s 7ms/step - loss: 134.3150 - val_loss: 62.0036\n",
      "Epoch 20/200\n",
      "288/288 [==============================] - 2s 7ms/step - loss: 125.1082 - val_loss: 61.1011\n",
      "Epoch 21/200\n",
      "288/288 [==============================] - 2s 7ms/step - loss: 105.7458 - val_loss: 59.4760\n",
      "Epoch 22/200\n",
      "288/288 [==============================] - 2s 7ms/step - loss: 110.2738 - val_loss: 59.0674\n",
      "Epoch 23/200\n",
      "288/288 [==============================] - 2s 8ms/step - loss: 88.6421 - val_loss: 60.6256\n",
      "Epoch 24/200\n",
      "288/288 [==============================] - 2s 7ms/step - loss: 81.9711 - val_loss: 59.1267\n",
      "Epoch 25/200\n",
      "288/288 [==============================] - 2s 8ms/step - loss: 91.0246 - val_loss: 58.2908\n",
      "Epoch 26/200\n",
      "288/288 [==============================] - 2s 7ms/step - loss: 69.9681 - val_loss: 59.4420\n",
      "Epoch 27/200\n",
      "288/288 [==============================] - 2s 7ms/step - loss: 77.8434 - val_loss: 61.8191\n",
      "Epoch 28/200\n",
      "288/288 [==============================] - 2s 7ms/step - loss: 74.3425 - val_loss: 58.2549\n",
      "Epoch 29/200\n",
      "288/288 [==============================] - 2s 7ms/step - loss: 73.6828 - val_loss: 58.6795\n",
      "Epoch 30/200\n",
      "288/288 [==============================] - 2s 8ms/step - loss: 78.7543 - val_loss: 57.2314\n",
      "Epoch 31/200\n",
      "288/288 [==============================] - 2s 7ms/step - loss: 66.4005 - val_loss: 55.2942\n",
      "Epoch 32/200\n",
      "288/288 [==============================] - 2s 7ms/step - loss: 71.2045 - val_loss: 55.4244\n",
      "Epoch 33/200\n",
      "288/288 [==============================] - 2s 7ms/step - loss: 66.8089 - val_loss: 55.9107\n",
      "Epoch 34/200\n",
      "288/288 [==============================] - 2s 7ms/step - loss: 69.3983 - val_loss: 58.4792\n",
      "Epoch 35/200\n",
      "288/288 [==============================] - 2s 9ms/step - loss: 69.0891 - val_loss: 55.2691\n",
      "Epoch 36/200\n",
      "288/288 [==============================] - 2s 8ms/step - loss: 63.6035 - val_loss: 65.8654\n",
      "Epoch 37/200\n",
      "288/288 [==============================] - 3s 9ms/step - loss: 63.2131 - val_loss: 69.8761\n",
      "Epoch 38/200\n",
      "288/288 [==============================] - 2s 8ms/step - loss: 85.8604 - val_loss: 63.7445\n",
      "Epoch 39/200\n",
      "288/288 [==============================] - 2s 8ms/step - loss: 59.6456 - val_loss: 63.2029\n",
      "Epoch 40/200\n",
      "288/288 [==============================] - 2s 8ms/step - loss: 62.4227 - val_loss: 54.9176\n",
      "Epoch 41/200\n",
      "288/288 [==============================] - 2s 8ms/step - loss: 65.5607 - val_loss: 54.7249\n",
      "Epoch 42/200\n",
      "288/288 [==============================] - 2s 8ms/step - loss: 63.1266 - val_loss: 54.7369\n",
      "Epoch 43/200\n",
      "288/288 [==============================] - 2s 7ms/step - loss: 62.7860 - val_loss: 54.2051\n",
      "Epoch 44/200\n",
      "288/288 [==============================] - 2s 7ms/step - loss: 59.9074 - val_loss: 52.3292\n",
      "Epoch 45/200\n",
      "288/288 [==============================] - 2s 7ms/step - loss: 60.5578 - val_loss: 48.1298\n",
      "Epoch 46/200\n",
      "288/288 [==============================] - 2s 8ms/step - loss: 62.2185 - val_loss: 52.1055\n",
      "Epoch 47/200\n",
      "288/288 [==============================] - 2s 7ms/step - loss: 62.2001 - val_loss: 53.0771\n",
      "Epoch 48/200\n",
      "288/288 [==============================] - 2s 7ms/step - loss: 59.6170 - val_loss: 58.2002\n",
      "Epoch 49/200\n",
      "288/288 [==============================] - 2s 7ms/step - loss: 61.5214 - val_loss: 55.0292\n",
      "Epoch 50/200\n",
      "288/288 [==============================] - 2s 7ms/step - loss: 55.8321 - val_loss: 51.2968\n",
      "Epoch 51/200\n",
      "288/288 [==============================] - 2s 7ms/step - loss: 54.4732 - val_loss: 48.9725\n",
      "Epoch 52/200\n",
      "288/288 [==============================] - 2s 7ms/step - loss: 59.6801 - val_loss: 49.8114\n",
      "Epoch 53/200\n",
      "288/288 [==============================] - 2s 8ms/step - loss: 57.7971 - val_loss: 49.2348\n",
      "Epoch 54/200\n",
      "288/288 [==============================] - 2s 7ms/step - loss: 53.4512 - val_loss: 50.3637\n",
      "Epoch 55/200\n",
      "288/288 [==============================] - 2s 7ms/step - loss: 55.5408 - val_loss: 50.7403\n",
      "Epoch 56/200\n",
      "288/288 [==============================] - 2s 8ms/step - loss: 56.6847 - val_loss: 48.7248\n",
      "Epoch 57/200\n",
      "288/288 [==============================] - 2s 8ms/step - loss: 56.1293 - val_loss: 48.5833\n",
      "Epoch 58/200\n",
      "288/288 [==============================] - 2s 8ms/step - loss: 55.0043 - val_loss: 49.6237\n",
      "Epoch 59/200\n",
      "288/288 [==============================] - 2s 7ms/step - loss: 55.3278 - val_loss: 48.2901\n",
      "Epoch 60/200\n",
      "288/288 [==============================] - 2s 8ms/step - loss: 51.5649 - val_loss: 53.8129\n",
      "Epoch 61/200\n",
      "288/288 [==============================] - 3s 9ms/step - loss: 52.6458 - val_loss: 52.2289\n",
      "Epoch 62/200\n",
      "288/288 [==============================] - 2s 8ms/step - loss: 57.2425 - val_loss: 50.4390\n",
      "Epoch 63/200\n",
      "288/288 [==============================] - 2s 8ms/step - loss: 51.5158 - val_loss: 53.9235\n",
      "Epoch 64/200\n",
      "288/288 [==============================] - 2s 8ms/step - loss: 52.5763 - val_loss: 47.8259\n",
      "Epoch 65/200\n",
      "288/288 [==============================] - 3s 9ms/step - loss: 56.2870 - val_loss: 48.5702\n",
      "Epoch 66/200\n",
      "288/288 [==============================] - 2s 8ms/step - loss: 52.1568 - val_loss: 47.8185\n",
      "Epoch 67/200\n",
      "288/288 [==============================] - 2s 8ms/step - loss: 51.6972 - val_loss: 50.7979\n",
      "Epoch 68/200\n",
      "288/288 [==============================] - 3s 9ms/step - loss: 53.4815 - val_loss: 54.8740\n",
      "Epoch 69/200\n",
      "288/288 [==============================] - 2s 9ms/step - loss: 53.5390 - val_loss: 50.2659\n",
      "Epoch 70/200\n",
      "288/288 [==============================] - 2s 8ms/step - loss: 50.5404 - val_loss: 50.1376\n",
      "Epoch 71/200\n",
      "288/288 [==============================] - 3s 9ms/step - loss: 53.8981 - val_loss: 50.1960\n",
      "Epoch 72/200\n",
      "288/288 [==============================] - 2s 8ms/step - loss: 49.1154 - val_loss: 50.5960\n",
      "Epoch 73/200\n",
      "288/288 [==============================] - 2s 7ms/step - loss: 47.7132 - val_loss: 54.1316\n",
      "Epoch 74/200\n",
      "288/288 [==============================] - 2s 7ms/step - loss: 48.8920 - val_loss: 51.7362\n",
      "Epoch 75/200\n",
      "288/288 [==============================] - 2s 7ms/step - loss: 46.2462 - val_loss: 51.7585\n",
      "Epoch 76/200\n",
      "288/288 [==============================] - 2s 7ms/step - loss: 45.7304 - val_loss: 48.1018\n",
      "Epoch 77/200\n",
      "288/288 [==============================] - 2s 7ms/step - loss: 45.0632 - val_loss: 50.0516\n",
      "Epoch 78/200\n",
      "288/288 [==============================] - 2s 8ms/step - loss: 52.2498 - val_loss: 49.2431\n"
     ]
    },
    {
     "name": "stdout",
     "output_type": "stream",
     "text": [
      "Epoch 79/200\n",
      "288/288 [==============================] - 2s 7ms/step - loss: 45.8516 - val_loss: 48.7420\n",
      "Epoch 80/200\n",
      "288/288 [==============================] - 3s 9ms/step - loss: 47.0671 - val_loss: 47.1671\n",
      "Epoch 81/200\n",
      "288/288 [==============================] - 2s 8ms/step - loss: 46.1449 - val_loss: 46.8864\n",
      "Epoch 82/200\n",
      "288/288 [==============================] - 2s 9ms/step - loss: 52.7005 - val_loss: 51.3040\n",
      "Epoch 83/200\n",
      "288/288 [==============================] - 2s 7ms/step - loss: 46.4351 - val_loss: 47.8454\n",
      "Epoch 84/200\n",
      "288/288 [==============================] - 2s 7ms/step - loss: 42.7026 - val_loss: 48.8078\n",
      "Epoch 85/200\n",
      "288/288 [==============================] - 2s 7ms/step - loss: 47.4078 - val_loss: 47.2113\n",
      "Epoch 86/200\n",
      "288/288 [==============================] - 2s 7ms/step - loss: 42.9403 - val_loss: 47.0383\n",
      "Epoch 87/200\n",
      "288/288 [==============================] - 2s 7ms/step - loss: 43.3012 - val_loss: 46.7499\n",
      "Epoch 88/200\n",
      "288/288 [==============================] - 2s 7ms/step - loss: 43.3233 - val_loss: 48.5270\n",
      "Epoch 89/200\n",
      "288/288 [==============================] - 2s 8ms/step - loss: 44.2002 - val_loss: 50.1899\n",
      "Epoch 90/200\n",
      "288/288 [==============================] - 2s 8ms/step - loss: 42.3015 - val_loss: 48.8592\n",
      "Epoch 91/200\n",
      "288/288 [==============================] - 2s 7ms/step - loss: 49.8278 - val_loss: 51.2609\n",
      "Epoch 92/200\n",
      "288/288 [==============================] - 2s 8ms/step - loss: 41.9552 - val_loss: 47.9154\n",
      "Epoch 93/200\n",
      "288/288 [==============================] - 2s 7ms/step - loss: 42.5849 - val_loss: 47.3251\n",
      "Epoch 94/200\n",
      "288/288 [==============================] - 2s 8ms/step - loss: 45.4268 - val_loss: 50.0853\n",
      "Epoch 95/200\n",
      "288/288 [==============================] - 2s 8ms/step - loss: 46.5176 - val_loss: 49.9594\n",
      "Epoch 96/200\n",
      "288/288 [==============================] - 2s 8ms/step - loss: 42.0685 - val_loss: 46.6172\n",
      "Epoch 97/200\n",
      "288/288 [==============================] - 2s 8ms/step - loss: 41.3755 - val_loss: 44.7421\n",
      "Epoch 98/200\n",
      "288/288 [==============================] - 2s 7ms/step - loss: 43.3432 - val_loss: 47.1598\n",
      "Epoch 99/200\n",
      "288/288 [==============================] - 2s 7ms/step - loss: 38.5269 - val_loss: 43.8730\n",
      "Epoch 100/200\n",
      "288/288 [==============================] - 2s 8ms/step - loss: 42.4265 - val_loss: 44.0461\n",
      "Epoch 101/200\n",
      "288/288 [==============================] - 2s 7ms/step - loss: 43.3780 - val_loss: 43.2773\n",
      "Epoch 102/200\n",
      "288/288 [==============================] - 2s 7ms/step - loss: 43.5091 - val_loss: 46.2048\n",
      "Epoch 103/200\n",
      "288/288 [==============================] - 2s 7ms/step - loss: 41.6000 - val_loss: 47.9016\n",
      "Epoch 104/200\n",
      "288/288 [==============================] - 2s 7ms/step - loss: 41.5620 - val_loss: 47.0401\n",
      "Epoch 105/200\n",
      "288/288 [==============================] - 2s 7ms/step - loss: 41.8553 - val_loss: 46.4632\n",
      "Epoch 106/200\n",
      "288/288 [==============================] - 2s 7ms/step - loss: 39.5875 - val_loss: 45.2376\n",
      "Epoch 107/200\n",
      "288/288 [==============================] - 2s 7ms/step - loss: 40.9574 - val_loss: 46.1329\n",
      "Epoch 108/200\n",
      "288/288 [==============================] - 2s 7ms/step - loss: 41.8979 - val_loss: 47.2825\n",
      "Epoch 109/200\n",
      "288/288 [==============================] - 2s 7ms/step - loss: 38.3794 - val_loss: 45.0123\n",
      "Epoch 110/200\n",
      "288/288 [==============================] - 2s 7ms/step - loss: 40.8156 - val_loss: 46.4604\n",
      "Epoch 111/200\n",
      "288/288 [==============================] - 2s 7ms/step - loss: 40.0612 - val_loss: 45.8190\n",
      "Epoch 112/200\n",
      "288/288 [==============================] - 2s 7ms/step - loss: 41.0802 - val_loss: 50.1122\n",
      "Epoch 113/200\n",
      "288/288 [==============================] - 2s 7ms/step - loss: 40.7553 - val_loss: 46.0360\n",
      "Epoch 114/200\n",
      "288/288 [==============================] - 2s 7ms/step - loss: 41.4584 - val_loss: 47.7981\n",
      "Epoch 115/200\n",
      "288/288 [==============================] - 2s 8ms/step - loss: 40.3351 - val_loss: 48.0711\n",
      "Epoch 116/200\n",
      "288/288 [==============================] - 2s 8ms/step - loss: 40.2901 - val_loss: 46.3544\n",
      "Epoch 117/200\n",
      "288/288 [==============================] - 2s 7ms/step - loss: 38.6526 - val_loss: 47.2617\n",
      "Epoch 118/200\n",
      "288/288 [==============================] - 2s 7ms/step - loss: 39.3717 - val_loss: 47.0927\n",
      "Epoch 119/200\n",
      "288/288 [==============================] - 2s 7ms/step - loss: 37.1112 - val_loss: 49.8075\n",
      "Epoch 120/200\n",
      "288/288 [==============================] - 2s 7ms/step - loss: 38.4860 - val_loss: 44.7380\n",
      "Epoch 121/200\n",
      "288/288 [==============================] - 2s 7ms/step - loss: 41.2494 - val_loss: 51.2363\n",
      "Epoch 122/200\n",
      "288/288 [==============================] - 2s 7ms/step - loss: 42.3891 - val_loss: 58.4659\n",
      "Epoch 123/200\n",
      "288/288 [==============================] - 2s 7ms/step - loss: 36.6486 - val_loss: 46.2839\n",
      "Epoch 124/200\n",
      "288/288 [==============================] - 2s 7ms/step - loss: 39.3364 - val_loss: 46.8985\n",
      "Epoch 125/200\n",
      "288/288 [==============================] - 2s 7ms/step - loss: 39.2386 - val_loss: 46.5709\n",
      "Epoch 126/200\n",
      "288/288 [==============================] - 2s 7ms/step - loss: 39.6648 - val_loss: 51.1836\n",
      "Epoch 127/200\n",
      "288/288 [==============================] - 2s 7ms/step - loss: 42.1133 - val_loss: 47.4491\n",
      "Epoch 128/200\n",
      "288/288 [==============================] - 2s 7ms/step - loss: 39.1906 - val_loss: 48.6216\n",
      "Epoch 129/200\n",
      "288/288 [==============================] - 2s 7ms/step - loss: 41.9485 - val_loss: 50.6380\n",
      "Epoch 130/200\n",
      "288/288 [==============================] - 2s 7ms/step - loss: 36.2712 - val_loss: 46.9406\n",
      "Epoch 131/200\n",
      "288/288 [==============================] - 2s 7ms/step - loss: 37.9866 - val_loss: 46.6802\n",
      "Epoch 132/200\n",
      "288/288 [==============================] - 2s 7ms/step - loss: 32.6387 - val_loss: 46.9704\n",
      "Epoch 133/200\n",
      "288/288 [==============================] - 2s 7ms/step - loss: 36.5026 - val_loss: 46.6116\n",
      "Epoch 134/200\n",
      "288/288 [==============================] - 2s 7ms/step - loss: 43.5314 - val_loss: 47.0663\n",
      "Epoch 135/200\n",
      "288/288 [==============================] - 2s 8ms/step - loss: 39.3997 - val_loss: 45.4458\n",
      "Epoch 136/200\n",
      "288/288 [==============================] - 2s 7ms/step - loss: 38.6796 - val_loss: 52.4366\n",
      "Epoch 137/200\n",
      "288/288 [==============================] - 2s 7ms/step - loss: 38.6328 - val_loss: 51.6042\n",
      "Epoch 138/200\n",
      "288/288 [==============================] - 2s 7ms/step - loss: 38.8758 - val_loss: 45.4958\n",
      "Epoch 139/200\n",
      "288/288 [==============================] - 2s 7ms/step - loss: 38.7279 - val_loss: 45.5050\n",
      "Epoch 140/200\n",
      "288/288 [==============================] - 2s 7ms/step - loss: 40.6809 - val_loss: 48.6585\n",
      "Epoch 141/200\n",
      "288/288 [==============================] - 2s 7ms/step - loss: 38.5531 - val_loss: 46.0191\n",
      "Epoch 142/200\n",
      "288/288 [==============================] - 2s 7ms/step - loss: 39.7750 - val_loss: 48.7858\n",
      "Epoch 143/200\n",
      "288/288 [==============================] - 2s 8ms/step - loss: 35.1941 - val_loss: 54.0412\n",
      "Epoch 144/200\n",
      "288/288 [==============================] - 2s 8ms/step - loss: 38.5377 - val_loss: 45.7176\n",
      "Epoch 145/200\n",
      "288/288 [==============================] - 2s 8ms/step - loss: 36.1534 - val_loss: 47.1143\n",
      "Epoch 146/200\n",
      "288/288 [==============================] - 2s 8ms/step - loss: 37.8379 - val_loss: 44.9153\n",
      "Epoch 147/200\n",
      "288/288 [==============================] - 3s 9ms/step - loss: 34.1156 - val_loss: 51.0738\n",
      "Epoch 148/200\n",
      "288/288 [==============================] - 2s 8ms/step - loss: 37.3013 - val_loss: 45.2423\n",
      "Epoch 149/200\n",
      "288/288 [==============================] - 2s 8ms/step - loss: 38.1350 - val_loss: 44.9888\n",
      "Epoch 150/200\n",
      "288/288 [==============================] - 2s 8ms/step - loss: 35.9688 - val_loss: 47.6198\n",
      "Epoch 151/200\n",
      "288/288 [==============================] - 2s 7ms/step - loss: 36.1574 - val_loss: 47.2648\n",
      "Epoch 152/200\n",
      "288/288 [==============================] - 2s 7ms/step - loss: 34.7847 - val_loss: 49.7208\n",
      "Epoch 153/200\n",
      "288/288 [==============================] - 2s 7ms/step - loss: 36.5094 - val_loss: 45.2587\n",
      "Epoch 154/200\n",
      "288/288 [==============================] - 2s 8ms/step - loss: 34.6592 - val_loss: 44.9864\n",
      "Epoch 155/200\n",
      "288/288 [==============================] - 2s 7ms/step - loss: 34.5280 - val_loss: 45.4839\n",
      "Epoch 156/200\n",
      "288/288 [==============================] - 2s 8ms/step - loss: 34.5428 - val_loss: 49.9939\n",
      "Epoch 157/200\n",
      "288/288 [==============================] - 2s 8ms/step - loss: 35.9821 - val_loss: 46.4266\n",
      "Epoch 158/200\n",
      "288/288 [==============================] - 3s 9ms/step - loss: 38.3145 - val_loss: 47.2857\n",
      "Epoch 159/200\n",
      "288/288 [==============================] - 2s 8ms/step - loss: 34.6859 - val_loss: 43.0253\n",
      "Epoch 160/200\n",
      "288/288 [==============================] - 2s 7ms/step - loss: 39.3285 - val_loss: 43.5909\n",
      "Epoch 161/200\n",
      "288/288 [==============================] - 2s 8ms/step - loss: 33.0553 - val_loss: 45.3572\n",
      "Epoch 162/200\n",
      "288/288 [==============================] - 2s 8ms/step - loss: 40.3109 - val_loss: 46.9625\n",
      "Epoch 163/200\n",
      "288/288 [==============================] - 2s 8ms/step - loss: 39.3453 - val_loss: 45.5343\n",
      "Epoch 164/200\n",
      "288/288 [==============================] - 2s 7ms/step - loss: 40.8538 - val_loss: 51.2719\n",
      "Epoch 165/200\n",
      "288/288 [==============================] - 2s 7ms/step - loss: 37.1844 - val_loss: 46.2177\n",
      "Epoch 166/200\n",
      "288/288 [==============================] - 2s 7ms/step - loss: 41.0543 - val_loss: 47.7792\n",
      "Epoch 167/200\n",
      "288/288 [==============================] - 2s 7ms/step - loss: 40.6492 - val_loss: 48.4292\n",
      "Epoch 168/200\n",
      "288/288 [==============================] - 2s 7ms/step - loss: 35.6065 - val_loss: 48.9794\n",
      "Epoch 169/200\n",
      "288/288 [==============================] - 2s 7ms/step - loss: 39.1681 - val_loss: 47.4026\n",
      "Epoch 170/200\n",
      "288/288 [==============================] - 2s 7ms/step - loss: 38.4326 - val_loss: 48.6836\n",
      "Epoch 171/200\n",
      "288/288 [==============================] - 2s 8ms/step - loss: 37.1836 - val_loss: 44.7642\n",
      "Epoch 172/200\n",
      "288/288 [==============================] - 2s 8ms/step - loss: 34.2065 - val_loss: 47.2843\n",
      "Epoch 173/200\n",
      "288/288 [==============================] - 2s 7ms/step - loss: 39.7904 - val_loss: 46.4480\n",
      "Epoch 174/200\n",
      "288/288 [==============================] - 2s 8ms/step - loss: 33.6838 - val_loss: 47.7551\n",
      "Epoch 175/200\n",
      "288/288 [==============================] - 2s 7ms/step - loss: 35.9764 - val_loss: 45.9536\n",
      "Epoch 176/200\n",
      "288/288 [==============================] - 2s 7ms/step - loss: 37.8506 - val_loss: 53.5660\n",
      "Epoch 177/200\n",
      "288/288 [==============================] - 2s 7ms/step - loss: 35.9153 - val_loss: 43.7358\n",
      "Epoch 178/200\n",
      "288/288 [==============================] - 2s 8ms/step - loss: 39.0818 - val_loss: 45.5835\n",
      "Epoch 179/200\n",
      "288/288 [==============================] - 2s 7ms/step - loss: 38.0294 - val_loss: 49.7365\n",
      "Epoch 180/200\n",
      "288/288 [==============================] - 2s 7ms/step - loss: 33.9010 - val_loss: 49.3608\n",
      "Epoch 181/200\n",
      "288/288 [==============================] - 2s 8ms/step - loss: 40.6407 - val_loss: 44.5972\n",
      "Epoch 182/200\n",
      "288/288 [==============================] - 2s 7ms/step - loss: 38.7248 - val_loss: 44.7854\n",
      "Epoch 183/200\n",
      "288/288 [==============================] - 2s 7ms/step - loss: 36.8165 - val_loss: 51.7926\n",
      "Epoch 184/200\n",
      "288/288 [==============================] - 2s 7ms/step - loss: 36.3020 - val_loss: 47.7484\n",
      "Epoch 185/200\n",
      "288/288 [==============================] - 2s 7ms/step - loss: 37.1484 - val_loss: 52.2902\n",
      "Epoch 186/200\n",
      "288/288 [==============================] - 2s 7ms/step - loss: 32.8615 - val_loss: 49.2915\n",
      "Epoch 187/200\n",
      "288/288 [==============================] - 2s 7ms/step - loss: 36.4759 - val_loss: 52.2345\n",
      "Epoch 188/200\n",
      "288/288 [==============================] - 2s 7ms/step - loss: 32.9828 - val_loss: 65.8716\n",
      "Epoch 189/200\n",
      "288/288 [==============================] - 2s 7ms/step - loss: 39.2104 - val_loss: 52.9804\n",
      "Epoch 190/200\n",
      "288/288 [==============================] - 2s 7ms/step - loss: 37.8750 - val_loss: 48.3951\n",
      "Epoch 191/200\n",
      "288/288 [==============================] - 2s 7ms/step - loss: 36.0384 - val_loss: 51.1146\n",
      "Epoch 192/200\n",
      "288/288 [==============================] - 2s 7ms/step - loss: 33.1215 - val_loss: 49.8108\n",
      "Epoch 193/200\n",
      "288/288 [==============================] - 2s 7ms/step - loss: 34.9878 - val_loss: 54.8484\n",
      "Epoch 194/200\n",
      "288/288 [==============================] - 2s 7ms/step - loss: 34.0878 - val_loss: 49.2460\n",
      "Epoch 195/200\n",
      "288/288 [==============================] - 2s 7ms/step - loss: 34.5543 - val_loss: 52.5209\n",
      "Epoch 196/200\n",
      "288/288 [==============================] - 2s 8ms/step - loss: 35.4522 - val_loss: 54.8117\n",
      "Epoch 197/200\n",
      "288/288 [==============================] - 2s 8ms/step - loss: 36.8436 - val_loss: 51.0679\n",
      "Epoch 198/200\n",
      "288/288 [==============================] - 2s 7ms/step - loss: 34.3583 - val_loss: 50.4832\n",
      "Epoch 199/200\n",
      "288/288 [==============================] - 2s 7ms/step - loss: 32.0977 - val_loss: 49.2059\n",
      "Epoch 200/200\n",
      "288/288 [==============================] - 2s 8ms/step - loss: 36.0991 - val_loss: 48.6322\n"
     ]
    }
   ],
   "source": [
    "# train the model\n",
    "print(\"[INFO] training model...\")\n",
    "history=model.fit(trainImagesX, trainY, validation_data=(testImagesX, testY),epochs=200, batch_size=8)"
   ]
  },
  {
   "cell_type": "code",
   "execution_count": 16,
   "metadata": {
    "slideshow": {
     "slide_type": "slide"
    }
   },
   "outputs": [
    {
     "data": {
      "image/png": "[encoded data removed]",
      "text/plain": [
       "<Figure size 1008x720 with 1 Axes>"
      ]
     },
     "metadata": {
      "needs_background": "light"
     },
     "output_type": "display_data"
    }
   ],
   "source": [
    "FIRSTEPOCH=25\n",
    "loss = history.history['loss']\n",
    "val_loss = history.history['val_loss']\n",
    "max_val_loss=np.max(val_loss)\n",
    "\n",
    "epochs = range(FIRSTEPOCH, len(loss))\n",
    "\n",
    "plt.figure(figsize=(14,10))\n",
    "\n",
    "plt.plot(epochs, loss[FIRSTEPOCH:], 'ro-', label='Training loss')\n",
    "plt.plot(epochs, val_loss[FIRSTEPOCH:], 'bs-', label='Validation loss')\n",
    "plt.grid(True)\n",
    "plt.title('Training and validation loss')\n",
    "plt.xlabel(\"epoch\")\n",
    "plt.ylabel(\"mean absolute error percentage\")\n",
    "plt.legend()\n",
    "plt.show()"
   ]
  },
  {
   "cell_type": "code",
   "execution_count": 17,
   "metadata": {
    "slideshow": {
     "slide_type": "slide"
    }
   },
   "outputs": [
    {
     "name": "stdout",
     "output_type": "stream",
     "text": [
      "[INFO] predicting house prices...\n"
     ]
    }
   ],
   "source": [
    "# make predictions on the testing data\n",
    "print(\"[INFO] predicting house prices...\")\n",
    "preds = model.predict(testImagesX)"
   ]
  },
  {
   "cell_type": "code",
   "execution_count": 18,
   "metadata": {
    "slideshow": {
     "slide_type": "fragment"
    }
   },
   "outputs": [
    {
     "data": {
      "text/plain": [
       "array([[0.01634752],\n",
       "       [0.01634752],\n",
       "       [0.08168867],\n",
       "       [0.07389226],\n",
       "       [0.07506661],\n",
       "       [0.08302644],\n",
       "       [0.11921517],\n",
       "       [0.0997241 ],\n",
       "       [0.04260826],\n",
       "       [0.05149153],\n",
       "       [0.01634752],\n",
       "       [0.07465994],\n",
       "       [0.03897114],\n",
       "       [0.01634752],\n",
       "       [0.08448674],\n",
       "       [0.04521912],\n",
       "       [0.0558054 ],\n",
       "       [0.068729  ],\n",
       "       [0.06840029],\n",
       "       [0.01634752],\n",
       "       [0.10525306],\n",
       "       [0.07628474],\n",
       "       [0.09858474],\n",
       "       [0.08453614],\n",
       "       [0.04702038],\n",
       "       [0.10571408],\n",
       "       [0.01634752],\n",
       "       [0.05679524],\n",
       "       [0.04956946],\n",
       "       [0.07456463],\n",
       "       [0.09323196],\n",
       "       [0.10198921],\n",
       "       [0.08858268],\n",
       "       [0.08986492],\n",
       "       [0.06106242],\n",
       "       [0.0271713 ],\n",
       "       [0.03929653],\n",
       "       [0.07516466],\n",
       "       [0.04387026],\n",
       "       [0.08257921],\n",
       "       [0.07871626],\n",
       "       [0.10862256],\n",
       "       [0.05468237],\n",
       "       [0.08154772],\n",
       "       [0.03041674],\n",
       "       [0.07220592],\n",
       "       [0.05993268],\n",
       "       [0.09011047],\n",
       "       [0.04935902],\n",
       "       [0.06668086],\n",
       "       [0.08485124],\n",
       "       [0.04684245],\n",
       "       [0.06333511],\n",
       "       [0.01634752],\n",
       "       [0.09481651],\n",
       "       [0.09173521],\n",
       "       [0.01634752],\n",
       "       [0.07587474],\n",
       "       [0.03978198],\n",
       "       [0.08149242],\n",
       "       [0.02485187],\n",
       "       [0.01634752],\n",
       "       [0.09829313],\n",
       "       [0.03066191],\n",
       "       [0.01634752],\n",
       "       [0.01634752],\n",
       "       [0.03359229],\n",
       "       [0.01634752],\n",
       "       [0.01634752],\n",
       "       [0.08709755],\n",
       "       [0.03310466],\n",
       "       [0.05524638],\n",
       "       [0.076395  ],\n",
       "       [0.05079713],\n",
       "       [0.09326717],\n",
       "       [0.01634752],\n",
       "       [0.06361865],\n",
       "       [0.05262002],\n",
       "       [0.06095012],\n",
       "       [0.03492442],\n",
       "       [0.06962563],\n",
       "       [0.05592882],\n",
       "       [0.01634752],\n",
       "       [0.01634752],\n",
       "       [0.02774386],\n",
       "       [0.06618322],\n",
       "       [0.06144869],\n",
       "       [0.01634752],\n",
       "       [0.07939459],\n",
       "       [0.09560531],\n",
       "       [0.05954849],\n",
       "       [0.07647517],\n",
       "       [0.08170719],\n",
       "       [0.06086818],\n",
       "       [0.09418365],\n",
       "       [0.06688984]], dtype=float32)"
      ]
     },
     "execution_count": 18,
     "metadata": {},
     "output_type": "execute_result"
    }
   ],
   "source": [
    "preds"
   ]
  },
  {
   "cell_type": "markdown",
   "metadata": {
    "slideshow": {
     "slide_type": "slide"
    }
   },
   "source": [
    "### Evaluate house-price prediction on test-data "
   ]
  },
  {
   "cell_type": "code",
   "execution_count": 19,
   "metadata": {
    "slideshow": {
     "slide_type": "fragment"
    }
   },
   "outputs": [],
   "source": [
    "diff = preds.flatten() - testY\n",
    "percentDiff = (diff / testY) * 100\n",
    "absPercentDiff = np.abs(percentDiff)"
   ]
  },
  {
   "cell_type": "code",
   "execution_count": 20,
   "metadata": {
    "slideshow": {
     "slide_type": "fragment"
    }
   },
   "outputs": [
    {
     "name": "stdout",
     "output_type": "stream",
     "text": [
      "410     53.222053\n",
      "392    -25.764509\n",
      "497    -18.199617\n",
      "474    -30.742264\n",
      "144    -41.367972\n",
      "523      6.894494\n",
      "110      4.389007\n",
      "237      2.488381\n",
      "526    -34.316002\n",
      "380    244.728429\n",
      "387     37.001121\n",
      "241    -20.480236\n",
      "337     69.105884\n",
      "403      6.998641\n",
      "232    -22.169632\n",
      "317    -61.885816\n",
      "294    -15.088823\n",
      "502     29.877731\n",
      "518      3.004864\n",
      "389    -38.016969\n",
      "130    -58.895143\n",
      "127     28.782717\n",
      "86     -59.614726\n",
      "203    -56.938024\n",
      "92     -71.864621\n",
      "143    -40.739417\n",
      "287    -45.277838\n",
      "498      4.296712\n",
      "30     -63.196719\n",
      "442    -37.510788\n",
      "          ...    \n",
      "496    -54.225717\n",
      "247    -82.096479\n",
      "531    -79.181786\n",
      "80     -14.821797\n",
      "95     -62.813598\n",
      "283    -38.355560\n",
      "214    -52.842793\n",
      "309    -27.404339\n",
      "173    -26.067781\n",
      "375     41.036500\n",
      "194    -40.371509\n",
      "307    -54.333622\n",
      "464    -53.570115\n",
      "362    165.697713\n",
      "204    -37.154554\n",
      "374     52.457432\n",
      "484    -63.862723\n",
      "360     50.809108\n",
      "371    -57.174307\n",
      "500    -35.372348\n",
      "487    187.973156\n",
      "366    -61.463266\n",
      "185    -68.890065\n",
      "431     -1.571893\n",
      "453    -32.265038\n",
      "93     -16.884682\n",
      "176    -36.181240\n",
      "443    -44.199404\n",
      "84     -19.923390\n",
      "96     -57.638842\n",
      "Name: price, Length: 96, dtype: float64\n"
     ]
    }
   ],
   "source": [
    "print(percentDiff)"
   ]
  },
  {
   "cell_type": "code",
   "execution_count": 21,
   "metadata": {
    "slideshow": {
     "slide_type": "slide"
    }
   },
   "outputs": [],
   "source": [
    "# compute the mean and standard deviation of the absolute percentage\n",
    "# difference\n",
    "mean = np.mean(absPercentDiff)\n",
    "std = np.std(absPercentDiff)"
   ]
  },
  {
   "cell_type": "code",
   "execution_count": 22,
   "metadata": {
    "slideshow": {
     "slide_type": "fragment"
    }
   },
   "outputs": [
    {
     "name": "stdout",
     "output_type": "stream",
     "text": [
      "Mean absolute difference percentage on test data: 48.63%\n",
      "Standard deviation of absolute difference percentage on test data: 38.65%\n"
     ]
    }
   ],
   "source": [
    "print(\"Mean absolute difference percentage on test data: {:.2f}%\".format(mean))\n",
    "print(\"Standard deviation of absolute difference percentage on test data: {:.2f}%\".format(std))"
   ]
  },
  {
   "cell_type": "code",
   "execution_count": 23,
   "metadata": {
    "slideshow": {
     "slide_type": "slide"
    }
   },
   "outputs": [],
   "source": [
    "def baselineModel(train,test):\n",
    "    meanTrain=train.mean()\n",
    "    absPercentage=100*((test-meanTrain)/test).abs()\n",
    "    return absPercentage.mean(),absPercentage.std()  "
   ]
  },
  {
   "cell_type": "code",
   "execution_count": 24,
   "metadata": {
    "slideshow": {
     "slide_type": "fragment"
    }
   },
   "outputs": [],
   "source": [
    "meanBase,stdBase=baselineModel(trainY,testY)"
   ]
  },
  {
   "cell_type": "code",
   "execution_count": 25,
   "metadata": {
    "slideshow": {
     "slide_type": "fragment"
    }
   },
   "outputs": [
    {
     "name": "stdout",
     "output_type": "stream",
     "text": [
      "BASELINE: Mean absolute difference percentage on test data: 110.92%\n",
      "BASELINE: Standard deviation of absolute difference percentage on test data: 182.84%\n"
     ]
    }
   ],
   "source": [
    "print(\"BASELINE: Mean absolute difference percentage on test data: {:.2f}%\".format(meanBase))\n",
    "print(\"BASELINE: Standard deviation of absolute difference percentage on test data: {:.2f}%\".format(stdBase))"
   ]
  },
  {
   "cell_type": "code",
   "execution_count": null,
   "metadata": {},
   "outputs": [],
   "source": []
  }
 ],
 "metadata": {
  "celltoolbar": "Slideshow",
  "kernelspec": {
   "display_name": "Python 3",
   "language": "python",
   "name": "python3"
  },
  "language_info": {
   "codemirror_mode": {
    "name": "ipython",
    "version": 3
   },
   "file_extension": ".py",
   "mimetype": "text/x-python",
   "name": "python",
   "nbconvert_exporter": "python",
   "pygments_lexer": "ipython3",
   "version": "3.7.5"
  },
  "toc": {
   "base_numbering": 1,
   "nav_menu": {},
   "number_sections": true,
   "sideBar": true,
   "skip_h1_title": false,
   "title_cell": "Table of Contents",
   "title_sidebar": "Contents",
   "toc_cell": false,
   "toc_position": {},
   "toc_section_display": true,
   "toc_window_display": false
  }
 },
 "nbformat": 4,
 "nbformat_minor": 2
}
