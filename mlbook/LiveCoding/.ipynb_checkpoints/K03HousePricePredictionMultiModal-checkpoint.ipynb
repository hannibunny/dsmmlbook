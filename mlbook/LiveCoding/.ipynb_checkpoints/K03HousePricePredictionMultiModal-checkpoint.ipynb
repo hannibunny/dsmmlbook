{
 "cells": [
  {
   "cell_type": "markdown",
   "metadata": {
    "slideshow": {
     "slide_type": "slide"
    }
   },
   "source": [
    "# Regression: House Price Prediction\n",
    "* Author: Johannes Maucher\n",
    "* Paper: [E.H. Ahmed, M.N. Moustafa: House Price Estimation from Visual and Textual Features](https://arxiv.org/pdf/1609.08399.pdf)\n",
    "* Data: [https://github.com/emanhamed/Houses-dataset](https://github.com/emanhamed/Houses-dataset)"
   ]
  },
  {
   "cell_type": "markdown",
   "metadata": {
    "slideshow": {
     "slide_type": "slide"
    }
   },
   "source": [
    "## Goal\n",
    "\n",
    "House prices can be predicted based on different types of information. In this notebook we apply **2 different types of data:**\n",
    "\n",
    "**Structured Data:**\n",
    "\n",
    "* number of bedrooms\n",
    "* number of bathrooms\n",
    "* entire living area in square feets\n",
    "* location of the house in terms of zipcode\n",
    "\n",
    "**Images**\n",
    "* 4 images per house from the following views: front, bedroom, bathroom, kitchen\n",
    "\n",
    "In the previous 2 notebooks on house price prediction either the structured data or the images have been applied as input for the predictor. Now, a model is trained, which applies both types of input-data. The structured data partition is fed to a simple MLP, the images are processed by a CNN. The outputs of both neural network models are then combined and passed to a simple dense layer for regression. "
   ]
  },
  {
   "cell_type": "markdown",
   "metadata": {
    "slideshow": {
     "slide_type": "skip"
    }
   },
   "source": [
    "## Data\n",
    "\n",
    "The data applied in this notebook can be downloaded from Data: [https://github.com/emanhamed/Houses-dataset](https://github.com/emanhamed/Houses-dataset)"
   ]
  },
  {
   "cell_type": "code",
   "execution_count": 1,
   "metadata": {
    "slideshow": {
     "slide_type": "skip"
    }
   },
   "outputs": [],
   "source": [
    "#!pip install opencv-python\n",
    "#!python3 -m pip install --upgrade https://storage.googleapis.com/tensorflow/mac/cpu/tensorflow-1.12.0-py3-none-any.whl\n",
    "#!pip install keras"
   ]
  },
  {
   "cell_type": "code",
   "execution_count": 2,
   "metadata": {
    "slideshow": {
     "slide_type": "skip"
    }
   },
   "outputs": [],
   "source": [
    "import pandas as pd\n",
    "from sklearn.model_selection import train_test_split\n",
    "from sklearn.preprocessing import LabelBinarizer\n",
    "from sklearn.preprocessing import MinMaxScaler\n",
    "import numpy as np\n",
    "import glob\n",
    "import cv2\n",
    "import os"
   ]
  },
  {
   "cell_type": "code",
   "execution_count": 3,
   "metadata": {
    "slideshow": {
     "slide_type": "slide"
    }
   },
   "outputs": [
    {
     "data": {
      "text/html": [
       "<div>\n",
       "<style scoped>\n",
       "    .dataframe tbody tr th:only-of-type {\n",
       "        vertical-align: middle;\n",
       "    }\n",
       "\n",
       "    .dataframe tbody tr th {\n",
       "        vertical-align: top;\n",
       "    }\n",
       "\n",
       "    .dataframe thead th {\n",
       "        text-align: right;\n",
       "    }\n",
       "</style>\n",
       "<table border=\"1\" class=\"dataframe\">\n",
       "  <thead>\n",
       "    <tr style=\"text-align: right;\">\n",
       "      <th></th>\n",
       "      <th>bedrooms</th>\n",
       "      <th>bathrooms</th>\n",
       "      <th>area</th>\n",
       "      <th>zipcode</th>\n",
       "      <th>price</th>\n",
       "    </tr>\n",
       "  </thead>\n",
       "  <tbody>\n",
       "    <tr>\n",
       "      <th>0</th>\n",
       "      <td>4</td>\n",
       "      <td>4.0</td>\n",
       "      <td>4053</td>\n",
       "      <td>85255</td>\n",
       "      <td>869500.0</td>\n",
       "    </tr>\n",
       "    <tr>\n",
       "      <th>1</th>\n",
       "      <td>4</td>\n",
       "      <td>3.0</td>\n",
       "      <td>3343</td>\n",
       "      <td>36372</td>\n",
       "      <td>865200.0</td>\n",
       "    </tr>\n",
       "    <tr>\n",
       "      <th>2</th>\n",
       "      <td>3</td>\n",
       "      <td>4.0</td>\n",
       "      <td>3923</td>\n",
       "      <td>85266</td>\n",
       "      <td>889000.0</td>\n",
       "    </tr>\n",
       "    <tr>\n",
       "      <th>3</th>\n",
       "      <td>5</td>\n",
       "      <td>5.0</td>\n",
       "      <td>4022</td>\n",
       "      <td>85262</td>\n",
       "      <td>910000.0</td>\n",
       "    </tr>\n",
       "    <tr>\n",
       "      <th>4</th>\n",
       "      <td>3</td>\n",
       "      <td>4.0</td>\n",
       "      <td>4116</td>\n",
       "      <td>85266</td>\n",
       "      <td>971226.0</td>\n",
       "    </tr>\n",
       "  </tbody>\n",
       "</table>\n",
       "</div>"
      ],
      "text/plain": [
       "   bedrooms  bathrooms  area  zipcode     price\n",
       "0         4        4.0  4053    85255  869500.0\n",
       "1         4        3.0  3343    36372  865200.0\n",
       "2         3        4.0  3923    85266  889000.0\n",
       "3         5        5.0  4022    85262  910000.0\n",
       "4         3        4.0  4116    85266  971226.0"
      ]
     },
     "execution_count": 3,
     "metadata": {},
     "output_type": "execute_result"
    }
   ],
   "source": [
    "#path=\"/Users/maucher/ownCloud/Workshops/Data/Houses-dataset/Houses Dataset/\"  #MacBook\n",
    "path=\"/Users/johannes/DataSets/Houses-dataset/Houses Dataset/\"\n",
    "file=\"HousesInfo.txt\"\n",
    "cols = [\"bedrooms\", \"bathrooms\", \"area\", \"zipcode\", \"price\"]\n",
    "df = pd.read_csv(path+file, sep=\" \", header=None, names=cols)\n",
    "df.head()"
   ]
  },
  {
   "cell_type": "code",
   "execution_count": 4,
   "metadata": {
    "slideshow": {
     "slide_type": "slide"
    }
   },
   "outputs": [
    {
     "data": {
      "text/html": [
       "<div>\n",
       "<style scoped>\n",
       "    .dataframe tbody tr th:only-of-type {\n",
       "        vertical-align: middle;\n",
       "    }\n",
       "\n",
       "    .dataframe tbody tr th {\n",
       "        vertical-align: top;\n",
       "    }\n",
       "\n",
       "    .dataframe thead th {\n",
       "        text-align: right;\n",
       "    }\n",
       "</style>\n",
       "<table border=\"1\" class=\"dataframe\">\n",
       "  <thead>\n",
       "    <tr style=\"text-align: right;\">\n",
       "      <th></th>\n",
       "      <th>bedrooms</th>\n",
       "      <th>bathrooms</th>\n",
       "      <th>area</th>\n",
       "      <th>zipcode</th>\n",
       "      <th>price</th>\n",
       "    </tr>\n",
       "  </thead>\n",
       "  <tbody>\n",
       "    <tr>\n",
       "      <th>count</th>\n",
       "      <td>535.000000</td>\n",
       "      <td>535.000000</td>\n",
       "      <td>535.000000</td>\n",
       "      <td>535.000000</td>\n",
       "      <td>5.320000e+02</td>\n",
       "    </tr>\n",
       "    <tr>\n",
       "      <th>mean</th>\n",
       "      <td>3.377570</td>\n",
       "      <td>2.664953</td>\n",
       "      <td>2364.904673</td>\n",
       "      <td>90937.768224</td>\n",
       "      <td>5.916190e+05</td>\n",
       "    </tr>\n",
       "    <tr>\n",
       "      <th>std</th>\n",
       "      <td>1.160952</td>\n",
       "      <td>0.995077</td>\n",
       "      <td>1224.556982</td>\n",
       "      <td>7141.857452</td>\n",
       "      <td>5.095677e+05</td>\n",
       "    </tr>\n",
       "    <tr>\n",
       "      <th>min</th>\n",
       "      <td>1.000000</td>\n",
       "      <td>1.000000</td>\n",
       "      <td>701.000000</td>\n",
       "      <td>36372.000000</td>\n",
       "      <td>2.200000e+04</td>\n",
       "    </tr>\n",
       "    <tr>\n",
       "      <th>25%</th>\n",
       "      <td>3.000000</td>\n",
       "      <td>2.000000</td>\n",
       "      <td>1440.000000</td>\n",
       "      <td>92276.000000</td>\n",
       "      <td>2.499750e+05</td>\n",
       "    </tr>\n",
       "    <tr>\n",
       "      <th>50%</th>\n",
       "      <td>3.000000</td>\n",
       "      <td>2.500000</td>\n",
       "      <td>2078.000000</td>\n",
       "      <td>92880.000000</td>\n",
       "      <td>5.290000e+05</td>\n",
       "    </tr>\n",
       "    <tr>\n",
       "      <th>75%</th>\n",
       "      <td>4.000000</td>\n",
       "      <td>3.000000</td>\n",
       "      <td>3067.500000</td>\n",
       "      <td>93510.000000</td>\n",
       "      <td>7.312500e+05</td>\n",
       "    </tr>\n",
       "    <tr>\n",
       "      <th>max</th>\n",
       "      <td>10.000000</td>\n",
       "      <td>7.000000</td>\n",
       "      <td>9583.000000</td>\n",
       "      <td>98021.000000</td>\n",
       "      <td>5.858000e+06</td>\n",
       "    </tr>\n",
       "  </tbody>\n",
       "</table>\n",
       "</div>"
      ],
      "text/plain": [
       "         bedrooms   bathrooms         area       zipcode         price\n",
       "count  535.000000  535.000000   535.000000    535.000000  5.320000e+02\n",
       "mean     3.377570    2.664953  2364.904673  90937.768224  5.916190e+05\n",
       "std      1.160952    0.995077  1224.556982   7141.857452  5.095677e+05\n",
       "min      1.000000    1.000000   701.000000  36372.000000  2.200000e+04\n",
       "25%      3.000000    2.000000  1440.000000  92276.000000  2.499750e+05\n",
       "50%      3.000000    2.500000  2078.000000  92880.000000  5.290000e+05\n",
       "75%      4.000000    3.000000  3067.500000  93510.000000  7.312500e+05\n",
       "max     10.000000    7.000000  9583.000000  98021.000000  5.858000e+06"
      ]
     },
     "execution_count": 4,
     "metadata": {},
     "output_type": "execute_result"
    }
   ],
   "source": [
    "df.describe()"
   ]
  },
  {
   "cell_type": "markdown",
   "metadata": {
    "slideshow": {
     "slide_type": "slide"
    }
   },
   "source": [
    "### Exclude all houses in areas with less than 25 houses in the dataset\n",
    "In order to create well generalising (robust) models, training data shall reflect the true statistics of the data as good as possible. In the case of categorical attributes this means that each value shall occur sufficiently often in the training dataset. Therefore, all houses in areas, whose zip-code appears only rarely (less than 20 times) in the given dataset, are dropped."
   ]
  },
  {
   "cell_type": "code",
   "execution_count": 5,
   "metadata": {
    "scrolled": true,
    "slideshow": {
     "slide_type": "fragment"
    }
   },
   "outputs": [],
   "source": [
    "lowZips=df[\"zipcode\"].value_counts()[df[\"zipcode\"].value_counts()<25]"
   ]
  },
  {
   "cell_type": "code",
   "execution_count": 6,
   "metadata": {
    "slideshow": {
     "slide_type": "fragment"
    }
   },
   "outputs": [],
   "source": [
    "for z in lowZips.index:\n",
    "    idxs = df[df[\"zipcode\"] == z].index\n",
    "    df.drop(idxs, inplace=True)"
   ]
  },
  {
   "cell_type": "code",
   "execution_count": 7,
   "metadata": {
    "slideshow": {
     "slide_type": "slide"
    }
   },
   "outputs": [
    {
     "data": {
      "text/html": [
       "<div>\n",
       "<style scoped>\n",
       "    .dataframe tbody tr th:only-of-type {\n",
       "        vertical-align: middle;\n",
       "    }\n",
       "\n",
       "    .dataframe tbody tr th {\n",
       "        vertical-align: top;\n",
       "    }\n",
       "\n",
       "    .dataframe thead th {\n",
       "        text-align: right;\n",
       "    }\n",
       "</style>\n",
       "<table border=\"1\" class=\"dataframe\">\n",
       "  <thead>\n",
       "    <tr style=\"text-align: right;\">\n",
       "      <th></th>\n",
       "      <th>bedrooms</th>\n",
       "      <th>bathrooms</th>\n",
       "      <th>area</th>\n",
       "      <th>zipcode</th>\n",
       "      <th>price</th>\n",
       "    </tr>\n",
       "  </thead>\n",
       "  <tbody>\n",
       "    <tr>\n",
       "      <th>count</th>\n",
       "      <td>362.000000</td>\n",
       "      <td>362.000000</td>\n",
       "      <td>362.000000</td>\n",
       "      <td>362.000000</td>\n",
       "      <td>3.620000e+02</td>\n",
       "    </tr>\n",
       "    <tr>\n",
       "      <th>mean</th>\n",
       "      <td>3.218232</td>\n",
       "      <td>2.531077</td>\n",
       "      <td>2145.389503</td>\n",
       "      <td>92984.472376</td>\n",
       "      <td>5.333883e+05</td>\n",
       "    </tr>\n",
       "    <tr>\n",
       "      <th>std</th>\n",
       "      <td>1.242997</td>\n",
       "      <td>0.963981</td>\n",
       "      <td>1019.687354</td>\n",
       "      <td>768.346446</td>\n",
       "      <td>4.934031e+05</td>\n",
       "    </tr>\n",
       "    <tr>\n",
       "      <th>min</th>\n",
       "      <td>1.000000</td>\n",
       "      <td>1.000000</td>\n",
       "      <td>701.000000</td>\n",
       "      <td>91901.000000</td>\n",
       "      <td>3.600000e+04</td>\n",
       "    </tr>\n",
       "    <tr>\n",
       "      <th>25%</th>\n",
       "      <td>2.000000</td>\n",
       "      <td>2.000000</td>\n",
       "      <td>1344.000000</td>\n",
       "      <td>92276.000000</td>\n",
       "      <td>1.792250e+05</td>\n",
       "    </tr>\n",
       "    <tr>\n",
       "      <th>50%</th>\n",
       "      <td>3.000000</td>\n",
       "      <td>2.000000</td>\n",
       "      <td>1833.000000</td>\n",
       "      <td>92880.000000</td>\n",
       "      <td>5.270000e+05</td>\n",
       "    </tr>\n",
       "    <tr>\n",
       "      <th>75%</th>\n",
       "      <td>4.000000</td>\n",
       "      <td>3.000000</td>\n",
       "      <td>2870.000000</td>\n",
       "      <td>93510.000000</td>\n",
       "      <td>6.749750e+05</td>\n",
       "    </tr>\n",
       "    <tr>\n",
       "      <th>max</th>\n",
       "      <td>10.000000</td>\n",
       "      <td>7.000000</td>\n",
       "      <td>7000.000000</td>\n",
       "      <td>94501.000000</td>\n",
       "      <td>5.858000e+06</td>\n",
       "    </tr>\n",
       "  </tbody>\n",
       "</table>\n",
       "</div>"
      ],
      "text/plain": [
       "         bedrooms   bathrooms         area       zipcode         price\n",
       "count  362.000000  362.000000   362.000000    362.000000  3.620000e+02\n",
       "mean     3.218232    2.531077  2145.389503  92984.472376  5.333883e+05\n",
       "std      1.242997    0.963981  1019.687354    768.346446  4.934031e+05\n",
       "min      1.000000    1.000000   701.000000  91901.000000  3.600000e+04\n",
       "25%      2.000000    2.000000  1344.000000  92276.000000  1.792250e+05\n",
       "50%      3.000000    2.000000  1833.000000  92880.000000  5.270000e+05\n",
       "75%      4.000000    3.000000  2870.000000  93510.000000  6.749750e+05\n",
       "max     10.000000    7.000000  7000.000000  94501.000000  5.858000e+06"
      ]
     },
     "execution_count": 7,
     "metadata": {},
     "output_type": "execute_result"
    }
   ],
   "source": [
    "df.describe()"
   ]
  },
  {
   "cell_type": "markdown",
   "metadata": {
    "slideshow": {
     "slide_type": "skip"
    }
   },
   "source": [
    "Only 8 different zip-codes remain:"
   ]
  },
  {
   "cell_type": "code",
   "execution_count": 8,
   "metadata": {
    "slideshow": {
     "slide_type": "skip"
    }
   },
   "outputs": [
    {
     "data": {
      "text/plain": [
       "92276    100\n",
       "93510     60\n",
       "93446     54\n",
       "92880     49\n",
       "94501     41\n",
       "91901     32\n",
       "92677     26\n",
       "Name: zipcode, dtype: int64"
      ]
     },
     "execution_count": 8,
     "metadata": {},
     "output_type": "execute_result"
    }
   ],
   "source": [
    "df[\"zipcode\"].value_counts()"
   ]
  },
  {
   "cell_type": "markdown",
   "metadata": {},
   "source": [
    "## Load images"
   ]
  },
  {
   "cell_type": "code",
   "execution_count": 9,
   "metadata": {
    "slideshow": {
     "slide_type": "slide"
    }
   },
   "outputs": [],
   "source": [
    "IMGSIZE=32"
   ]
  },
  {
   "cell_type": "markdown",
   "metadata": {
    "slideshow": {
     "slide_type": "fragment"
    }
   },
   "source": [
    "The names of the house image files are organized such that all 4 images, which belong to a single house, start with the same integer. This integer is the index used in the dataframe `df`.\n",
    "\n",
    "In the code-cell below all 4 images, which belong to a single house are stacked togehter into a new super-image, which is later on used as input for the CNN. "
   ]
  },
  {
   "cell_type": "code",
   "execution_count": 10,
   "metadata": {
    "slideshow": {
     "slide_type": "slide"
    }
   },
   "outputs": [
    {
     "name": "stdout",
     "output_type": "stream",
     "text": [
      "(362, 64, 64, 3)\n"
     ]
    }
   ],
   "source": [
    "# initialize our images array (i.e., the house images themselves)\n",
    "images = []\n",
    "\n",
    "# loop over the indexes of the houses\n",
    "for i in df.index.values:\n",
    "    # find the four images for the house and sort the file paths,\n",
    "    # ensuring the four are always in the *same order*\n",
    "    basePath = os.path.sep.join([path, \"{}_*\".format(i + 1)])\n",
    "    housePaths = sorted(list(glob.glob(basePath)))\n",
    "\n",
    "    # initialize our list of input images along with the output image\n",
    "    # after *combining* the four input images\n",
    "    inputImages = []\n",
    "    outputImage = np.zeros((2*IMGSIZE, 2*IMGSIZE, 3), dtype=\"uint8\")\n",
    "\n",
    "    # loop over the input house paths\n",
    "    for housePath in housePaths:\n",
    "        # load the input image, resize it to be IMGSIZExIMGSIZE, and then\n",
    "        # update the list of input images\n",
    "        image = cv2.imread(housePath)\n",
    "        image = cv2.resize(image, (IMGSIZE,IMGSIZE))\n",
    "        inputImages.append(image)\n",
    "        #print(len(inputImages))\n",
    "\n",
    "    # tile the four input images in the output image such the first\n",
    "    # image goes in the top-right corner, the second image in the\n",
    "    # top-left corner, the third image in the bottom-right corner,\n",
    "    # and the final image in the bottom-left corner\n",
    "    outputImage[0:IMGSIZE, 0:IMGSIZE] = inputImages[0]\n",
    "    outputImage[0:IMGSIZE, IMGSIZE:2*IMGSIZE] = inputImages[1]\n",
    "    outputImage[IMGSIZE:2*IMGSIZE, IMGSIZE:2*IMGSIZE] = inputImages[2]\n",
    "    outputImage[IMGSIZE:2*IMGSIZE, 0:IMGSIZE] = inputImages[3]\n",
    "\n",
    "    # add the tiled image to our set of images the network will be\n",
    "    # trained on\n",
    "    images.append(outputImage)\n",
    "\n",
    "    # return our set of images\n",
    "images=np.array(images)\n",
    "print(images.shape)"
   ]
  },
  {
   "cell_type": "markdown",
   "metadata": {
    "slideshow": {
     "slide_type": "slide"
    }
   },
   "source": [
    "Scale all images, such that their pixel-values are in the range $[0,1]$."
   ]
  },
  {
   "cell_type": "code",
   "execution_count": 11,
   "metadata": {
    "slideshow": {
     "slide_type": "fragment"
    }
   },
   "outputs": [],
   "source": [
    "images = images / 255.0"
   ]
  },
  {
   "cell_type": "markdown",
   "metadata": {
    "slideshow": {
     "slide_type": "slide"
    }
   },
   "source": [
    "Partition the data into training and testing splits using 75% of the data for training and the remaining 25% for testing"
   ]
  },
  {
   "cell_type": "code",
   "execution_count": 12,
   "metadata": {
    "slideshow": {
     "slide_type": "fragment"
    }
   },
   "outputs": [],
   "source": [
    " split = train_test_split(df, images, test_size=0.25, random_state=42)\n",
    "(trainAttrX, testAttrX, trainImagesX, testImagesX) = split"
   ]
  },
  {
   "cell_type": "markdown",
   "metadata": {
    "slideshow": {
     "slide_type": "slide"
    }
   },
   "source": [
    "**Scale target output:** Find the largest house price in the training set and use it to scale house prices to the range $[0, 1]$. This will lead to better training convergence."
   ]
  },
  {
   "cell_type": "code",
   "execution_count": 13,
   "metadata": {
    "slideshow": {
     "slide_type": "fragment"
    }
   },
   "outputs": [],
   "source": [
    "maxPrice = trainAttrX[\"price\"].max()\n",
    "trainY = trainAttrX[\"price\"] / maxPrice\n",
    "testY = testAttrX[\"price\"] / maxPrice"
   ]
  },
  {
   "cell_type": "code",
   "execution_count": 14,
   "metadata": {
    "scrolled": true,
    "slideshow": {
     "slide_type": "fragment"
    }
   },
   "outputs": [
    {
     "name": "stdout",
     "output_type": "stream",
     "text": [
      "(271, 5)\n",
      "(91, 5)\n",
      "(271, 64, 64, 3)\n",
      "(91, 64, 64, 3)\n"
     ]
    }
   ],
   "source": [
    "print(trainAttrX.shape)\n",
    "print(testAttrX.shape)\n",
    "print(trainImagesX.shape)\n",
    "print(testImagesX.shape)"
   ]
  },
  {
   "cell_type": "markdown",
   "metadata": {
    "slideshow": {
     "slide_type": "slide"
    }
   },
   "source": [
    "## Further Preprocessing of structured-data part\n",
    "### Min-Max Scaling of Continuous Variables\n",
    "Gradient Descent training of neural networks requires that all variables have a similar value-range. Below all numerical variables of the structured-data-part are transformed into a value range between 0 and 1, by *MinMax-Scaling*. "
   ]
  },
  {
   "cell_type": "code",
   "execution_count": 15,
   "metadata": {
    "slideshow": {
     "slide_type": "fragment"
    }
   },
   "outputs": [],
   "source": [
    "# columns with continuous variables\n",
    "continuous = [\"bedrooms\", \"bathrooms\", \"area\"]\n",
    "\n",
    "# performin min-max scaling each continuous feature column to the range [0, 1]\n",
    "cs = MinMaxScaler()\n",
    "trainContinuous = cs.fit_transform(trainAttrX[continuous])\n",
    "testContinuous = cs.transform(testAttrX[continuous])"
   ]
  },
  {
   "cell_type": "markdown",
   "metadata": {
    "slideshow": {
     "slide_type": "slide"
    }
   },
   "source": [
    "### One-Hot Encoding of Categorical Variables\n",
    "Categorical data must be One-Hot encoded before passing it to the input of a neural network. This is implemented in the following code cell."
   ]
  },
  {
   "cell_type": "code",
   "execution_count": 16,
   "metadata": {
    "slideshow": {
     "slide_type": "fragment"
    }
   },
   "outputs": [],
   "source": [
    "zipBinarizer = LabelBinarizer().fit(df[\"zipcode\"])\n",
    "trainCategorical = zipBinarizer.transform(trainAttrX[\"zipcode\"])\n",
    "testCategorical = zipBinarizer.transform(testAttrX[\"zipcode\"])"
   ]
  },
  {
   "cell_type": "markdown",
   "metadata": {
    "slideshow": {
     "slide_type": "slide"
    }
   },
   "source": [
    "### Concatenate Continous and Categorical Variables"
   ]
  },
  {
   "cell_type": "code",
   "execution_count": 17,
   "metadata": {
    "slideshow": {
     "slide_type": "fragment"
    }
   },
   "outputs": [],
   "source": [
    "trainAttrX = np.hstack([trainCategorical, trainContinuous])\n",
    "testAttrX = np.hstack([testCategorical, testContinuous])"
   ]
  },
  {
   "cell_type": "markdown",
   "metadata": {
    "slideshow": {
     "slide_type": "slide"
    }
   },
   "source": [
    "## Define Deep Neural Network for both types of Input data\n",
    "\n",
    "### Define MLP Architecture for structured-data input"
   ]
  },
  {
   "cell_type": "code",
   "execution_count": 18,
   "metadata": {
    "slideshow": {
     "slide_type": "skip"
    }
   },
   "outputs": [],
   "source": [
    "from tensorflow.keras.models import Sequential\n",
    "from tensorflow.keras.layers import BatchNormalization\n",
    "from tensorflow.keras.layers import Conv2D\n",
    "from tensorflow.keras.layers import MaxPooling2D\n",
    "from tensorflow.keras.layers import Activation\n",
    "from tensorflow.keras.layers import Dropout\n",
    "from tensorflow.keras.layers import Dense\n",
    "from tensorflow.keras.layers import Flatten\n",
    "from tensorflow.keras.layers import Input\n",
    "from tensorflow.keras.models import Model\n",
    "from tensorflow.keras.optimizers import Adam\n",
    "from tensorflow.keras.layers import concatenate"
   ]
  },
  {
   "cell_type": "markdown",
   "metadata": {
    "slideshow": {
     "slide_type": "fragment"
    }
   },
   "source": [
    "A simple Multilayer-Perceptron with 2 hidden layers is configured. The number of neurons in the hidden layers is 8 and 4, respectively. Both hidden layers apply a *relu*-activation function. As usual for regression neural networks the output-layer consists of only a single neuron with a *linear*-activation (identity-function)."
   ]
  },
  {
   "cell_type": "code",
   "execution_count": 19,
   "metadata": {
    "slideshow": {
     "slide_type": "fragment"
    }
   },
   "outputs": [],
   "source": [
    " \n",
    "def create_mlp(dim, regress=False):\n",
    "    model = Sequential()\n",
    "    model.add(Dense(8, input_dim=dim, activation=\"relu\"))\n",
    "    model.add(Dense(4, activation=\"relu\"))\n",
    "    # check to see if the regression node should be added\n",
    "    if regress:\n",
    "        model.add(Dense(1, activation=\"linear\"))\n",
    "    return model"
   ]
  },
  {
   "cell_type": "markdown",
   "metadata": {
    "slideshow": {
     "slide_type": "slide"
    }
   },
   "source": [
    "### Define CNN for image-input\n",
    "The CNN consists of 3 consecutive cascades of \n",
    "* Convolution Layer with filter-size $3 \\times 3$.\n",
    "* Relu-Activation\n",
    "* Batch-Normalization\n",
    "* Max-Pooling of size $2 \\times 2$.\n",
    "\n",
    "The output of this Feature-Extraction part of the Deep Neural Network is serialized and passed to a Dense-Layer with 16 neurons. The Dense layer applies Batch-Normalization and Dropout."
   ]
  },
  {
   "cell_type": "code",
   "execution_count": 20,
   "metadata": {
    "slideshow": {
     "slide_type": "slide"
    }
   },
   "outputs": [],
   "source": [
    "def create_cnn(width, height, depth, filters=(16, 32, 64), regress=False):\n",
    "    # initialize the input shape and channel dimension, assuming\n",
    "    # TensorFlow/channels-last ordering\n",
    "    inputShape = (height, width, depth)\n",
    "    chanDim = -1\n",
    "\n",
    "    # define the model input\n",
    "    inputs = Input(shape=inputShape)\n",
    "\n",
    "    # loop over the number of filters\n",
    "    for (i, f) in enumerate(filters):\n",
    "        # if this is the first CONV layer then set the input\n",
    "        # appropriately\n",
    "        if i == 0:\n",
    "            x = inputs\n",
    "\n",
    "        # CONV => RELU => BN => POOL\n",
    "        x = Conv2D(f, (3, 3), padding=\"same\")(x)\n",
    "        x = Activation(\"relu\")(x)\n",
    "        x = BatchNormalization(axis=chanDim)(x)\n",
    "        x = MaxPooling2D(pool_size=(2, 2))(x)\n",
    "\n",
    "    # flatten the volume, then FC => RELU => BN => DROPOUT\n",
    "    x = Flatten()(x)\n",
    "    x = Dense(16)(x)\n",
    "    x = Activation(\"relu\")(x)\n",
    "    x = BatchNormalization(axis=chanDim)(x)\n",
    "    x = Dropout(0.5)(x)\n",
    "\n",
    "    # apply another FC layer, this one to match the number of nodes\n",
    "    # coming out of the MLP\n",
    "    x = Dense(4)(x)\n",
    "    x = Activation(\"relu\")(x)\n",
    "\n",
    "    # check to see if the regression node should be added\n",
    "    if regress:\n",
    "        x = Dense(1, activation=\"linear\")(x)\n",
    "\n",
    "    # construct the CNN\n",
    "    model = Model(inputs, x)\n",
    "\n",
    "    # return the CNN\n",
    "    return model"
   ]
  },
  {
   "cell_type": "markdown",
   "metadata": {
    "slideshow": {
     "slide_type": "slide"
    }
   },
   "source": [
    "### Create MLP- and CNN- and integrate them in overall Network"
   ]
  },
  {
   "cell_type": "code",
   "execution_count": 21,
   "metadata": {
    "slideshow": {
     "slide_type": "fragment"
    }
   },
   "outputs": [],
   "source": [
    "# create the MLP and CNN models\n",
    "mlp = create_mlp(trainAttrX.shape[1], regress=False)\n",
    "cnn = create_cnn(64, 64, 3, regress=False)\n",
    " \n",
    "# create the input to our final set of layers as the *output* of both\n",
    "# the MLP and CNN\n",
    "combinedInput = concatenate([mlp.output, cnn.output])\n",
    " \n",
    "# final FC layer head will have two dense layers, the final one\n",
    "# being our regression head\n",
    "x = Dense(4, activation=\"relu\")(combinedInput)\n",
    "x = Dense(1, activation=\"linear\")(x)\n",
    " \n",
    "# final model will accept categorical/numerical data on the MLP\n",
    "# input and images on the CNN input, outputting a single value (the\n",
    "# predicted price of the house)\n",
    "model = Model(inputs=[mlp.input, cnn.input], outputs=x)"
   ]
  },
  {
   "cell_type": "code",
   "execution_count": 22,
   "metadata": {},
   "outputs": [
    {
     "name": "stdout",
     "output_type": "stream",
     "text": [
      "Model: \"functional_3\"\n",
      "__________________________________________________________________________________________________\n",
      "Layer (type)                    Output Shape         Param #     Connected to                     \n",
      "==================================================================================================\n",
      "input_1 (InputLayer)            [(None, 64, 64, 3)]  0                                            \n",
      "__________________________________________________________________________________________________\n",
      "conv2d (Conv2D)                 (None, 64, 64, 16)   448         input_1[0][0]                    \n",
      "__________________________________________________________________________________________________\n",
      "activation (Activation)         (None, 64, 64, 16)   0           conv2d[0][0]                     \n",
      "__________________________________________________________________________________________________\n",
      "batch_normalization (BatchNorma (None, 64, 64, 16)   64          activation[0][0]                 \n",
      "__________________________________________________________________________________________________\n",
      "max_pooling2d (MaxPooling2D)    (None, 32, 32, 16)   0           batch_normalization[0][0]        \n",
      "__________________________________________________________________________________________________\n",
      "conv2d_1 (Conv2D)               (None, 32, 32, 32)   4640        max_pooling2d[0][0]              \n",
      "__________________________________________________________________________________________________\n",
      "activation_1 (Activation)       (None, 32, 32, 32)   0           conv2d_1[0][0]                   \n",
      "__________________________________________________________________________________________________\n",
      "batch_normalization_1 (BatchNor (None, 32, 32, 32)   128         activation_1[0][0]               \n",
      "__________________________________________________________________________________________________\n",
      "max_pooling2d_1 (MaxPooling2D)  (None, 16, 16, 32)   0           batch_normalization_1[0][0]      \n",
      "__________________________________________________________________________________________________\n",
      "conv2d_2 (Conv2D)               (None, 16, 16, 64)   18496       max_pooling2d_1[0][0]            \n",
      "__________________________________________________________________________________________________\n",
      "activation_2 (Activation)       (None, 16, 16, 64)   0           conv2d_2[0][0]                   \n",
      "__________________________________________________________________________________________________\n",
      "batch_normalization_2 (BatchNor (None, 16, 16, 64)   256         activation_2[0][0]               \n",
      "__________________________________________________________________________________________________\n",
      "max_pooling2d_2 (MaxPooling2D)  (None, 8, 8, 64)     0           batch_normalization_2[0][0]      \n",
      "__________________________________________________________________________________________________\n",
      "flatten (Flatten)               (None, 4096)         0           max_pooling2d_2[0][0]            \n",
      "__________________________________________________________________________________________________\n",
      "dense_2 (Dense)                 (None, 16)           65552       flatten[0][0]                    \n",
      "__________________________________________________________________________________________________\n",
      "activation_3 (Activation)       (None, 16)           0           dense_2[0][0]                    \n",
      "__________________________________________________________________________________________________\n",
      "batch_normalization_3 (BatchNor (None, 16)           64          activation_3[0][0]               \n",
      "__________________________________________________________________________________________________\n",
      "dense_input (InputLayer)        [(None, 10)]         0                                            \n",
      "__________________________________________________________________________________________________\n",
      "dropout (Dropout)               (None, 16)           0           batch_normalization_3[0][0]      \n",
      "__________________________________________________________________________________________________\n",
      "dense (Dense)                   (None, 8)            88          dense_input[0][0]                \n",
      "__________________________________________________________________________________________________\n",
      "dense_3 (Dense)                 (None, 4)            68          dropout[0][0]                    \n",
      "__________________________________________________________________________________________________\n",
      "dense_1 (Dense)                 (None, 4)            36          dense[0][0]                      \n",
      "__________________________________________________________________________________________________\n",
      "activation_4 (Activation)       (None, 4)            0           dense_3[0][0]                    \n",
      "__________________________________________________________________________________________________\n",
      "concatenate (Concatenate)       (None, 8)            0           dense_1[0][0]                    \n",
      "                                                                 activation_4[0][0]               \n",
      "__________________________________________________________________________________________________\n",
      "dense_4 (Dense)                 (None, 4)            36          concatenate[0][0]                \n",
      "__________________________________________________________________________________________________\n",
      "dense_5 (Dense)                 (None, 1)            5           dense_4[0][0]                    \n",
      "==================================================================================================\n",
      "Total params: 89,881\n",
      "Trainable params: 89,625\n",
      "Non-trainable params: 256\n",
      "__________________________________________________________________________________________________\n"
     ]
    }
   ],
   "source": [
    "model.summary()"
   ]
  },
  {
   "cell_type": "markdown",
   "metadata": {
    "slideshow": {
     "slide_type": "slide"
    }
   },
   "source": [
    "### Define training hyperparameters, compile and train network\n",
    "Define training algorithm and corresponding hyperparameters. Here, Adam is applied."
   ]
  },
  {
   "cell_type": "code",
   "execution_count": 23,
   "metadata": {
    "slideshow": {
     "slide_type": "fragment"
    }
   },
   "outputs": [],
   "source": [
    "opt = Adam(lr=1e-3, decay=1e-3 / 200)\n",
    "model.compile(loss=\"mean_absolute_percentage_error\", optimizer=opt)"
   ]
  },
  {
   "cell_type": "markdown",
   "metadata": {
    "slideshow": {
     "slide_type": "fragment"
    }
   },
   "source": [
    "Perform training:"
   ]
  },
  {
   "cell_type": "code",
   "execution_count": 24,
   "metadata": {
    "scrolled": false,
    "slideshow": {
     "slide_type": "fragment"
    }
   },
   "outputs": [
    {
     "name": "stdout",
     "output_type": "stream",
     "text": [
      "[INFO] training model...\n",
      "Epoch 1/200\n",
      "34/34 [==============================] - 1s 25ms/step - loss: 612.9690 - val_loss: 196.8740\n",
      "Epoch 2/200\n",
      "34/34 [==============================] - 1s 19ms/step - loss: 400.7645 - val_loss: 2315.1428\n",
      "Epoch 3/200\n",
      "34/34 [==============================] - 1s 19ms/step - loss: 356.2996 - val_loss: 4129.5747\n",
      "Epoch 4/200\n",
      "34/34 [==============================] - 1s 19ms/step - loss: 263.2652 - val_loss: 6006.8584\n",
      "Epoch 5/200\n",
      "34/34 [==============================] - 1s 19ms/step - loss: 226.9173 - val_loss: 7604.7280\n",
      "Epoch 6/200\n",
      "34/34 [==============================] - 1s 19ms/step - loss: 185.5682 - val_loss: 8627.4307\n",
      "Epoch 7/200\n",
      "34/34 [==============================] - 1s 19ms/step - loss: 144.8192 - val_loss: 9762.6816\n",
      "Epoch 8/200\n",
      "34/34 [==============================] - 1s 20ms/step - loss: 118.1735 - val_loss: 9262.6777\n",
      "Epoch 9/200\n",
      "34/34 [==============================] - 1s 22ms/step - loss: 141.8923 - val_loss: 7829.6973\n",
      "Epoch 10/200\n",
      "34/34 [==============================] - 1s 21ms/step - loss: 118.1772 - val_loss: 5494.3262\n",
      "Epoch 11/200\n",
      "34/34 [==============================] - 1s 19ms/step - loss: 81.8218 - val_loss: 3694.0271\n",
      "Epoch 12/200\n",
      "34/34 [==============================] - 1s 19ms/step - loss: 77.4794 - val_loss: 2267.1208\n",
      "Epoch 13/200\n",
      "34/34 [==============================] - 1s 19ms/step - loss: 76.1794 - val_loss: 1281.7177\n",
      "Epoch 14/200\n",
      "34/34 [==============================] - 1s 19ms/step - loss: 63.0465 - val_loss: 612.0649\n",
      "Epoch 15/200\n",
      "34/34 [==============================] - 1s 19ms/step - loss: 60.1177 - val_loss: 111.7248\n",
      "Epoch 16/200\n",
      "34/34 [==============================] - 1s 19ms/step - loss: 63.9353 - val_loss: 73.8320\n",
      "Epoch 17/200\n",
      "34/34 [==============================] - 1s 19ms/step - loss: 52.3383 - val_loss: 64.0361\n",
      "Epoch 18/200\n",
      "34/34 [==============================] - 1s 19ms/step - loss: 45.3223 - val_loss: 59.3704\n",
      "Epoch 19/200\n",
      "34/34 [==============================] - 1s 19ms/step - loss: 46.4039 - val_loss: 53.6938\n",
      "Epoch 20/200\n",
      "34/34 [==============================] - 1s 19ms/step - loss: 42.7598 - val_loss: 42.5243\n",
      "Epoch 21/200\n",
      "34/34 [==============================] - 1s 19ms/step - loss: 38.7037 - val_loss: 36.2747\n",
      "Epoch 22/200\n",
      "34/34 [==============================] - 1s 19ms/step - loss: 35.1643 - val_loss: 34.9579\n",
      "Epoch 23/200\n",
      "34/34 [==============================] - 1s 19ms/step - loss: 37.5209 - val_loss: 34.1363\n",
      "Epoch 24/200\n",
      "34/34 [==============================] - 1s 19ms/step - loss: 35.9382 - val_loss: 36.6339\n",
      "Epoch 25/200\n",
      "34/34 [==============================] - 1s 19ms/step - loss: 39.4035 - val_loss: 36.5799\n",
      "Epoch 26/200\n",
      "34/34 [==============================] - 1s 19ms/step - loss: 34.0398 - val_loss: 34.6615\n",
      "Epoch 27/200\n",
      "34/34 [==============================] - 1s 19ms/step - loss: 36.2018 - val_loss: 34.1225\n",
      "Epoch 28/200\n",
      "34/34 [==============================] - 1s 19ms/step - loss: 37.5918 - val_loss: 34.9098\n",
      "Epoch 29/200\n",
      "34/34 [==============================] - 1s 19ms/step - loss: 33.6226 - val_loss: 33.5289\n",
      "Epoch 30/200\n",
      "34/34 [==============================] - 1s 19ms/step - loss: 33.1142 - val_loss: 32.6874\n",
      "Epoch 31/200\n",
      "34/34 [==============================] - 1s 19ms/step - loss: 34.5798 - val_loss: 33.0878\n",
      "Epoch 32/200\n",
      "34/34 [==============================] - 1s 19ms/step - loss: 33.9799 - val_loss: 31.7981\n",
      "Epoch 33/200\n",
      "34/34 [==============================] - 1s 19ms/step - loss: 33.5101 - val_loss: 32.8720\n",
      "Epoch 34/200\n",
      "34/34 [==============================] - 1s 19ms/step - loss: 32.8347 - val_loss: 34.3567\n",
      "Epoch 35/200\n",
      "34/34 [==============================] - 1s 19ms/step - loss: 32.5492 - val_loss: 34.7179\n",
      "Epoch 36/200\n",
      "34/34 [==============================] - 1s 19ms/step - loss: 34.2937 - val_loss: 32.0162\n",
      "Epoch 37/200\n",
      "34/34 [==============================] - 1s 19ms/step - loss: 30.0903 - val_loss: 29.9899\n",
      "Epoch 38/200\n",
      "34/34 [==============================] - 1s 19ms/step - loss: 29.6185 - val_loss: 29.1028\n",
      "Epoch 39/200\n",
      "34/34 [==============================] - 1s 19ms/step - loss: 32.7737 - val_loss: 31.2377\n",
      "Epoch 40/200\n",
      "34/34 [==============================] - 1s 19ms/step - loss: 31.2070 - val_loss: 29.7844\n",
      "Epoch 41/200\n",
      "34/34 [==============================] - 1s 19ms/step - loss: 30.8023 - val_loss: 30.6552\n",
      "Epoch 42/200\n",
      "34/34 [==============================] - 1s 19ms/step - loss: 27.8728 - val_loss: 31.0510\n",
      "Epoch 43/200\n",
      "34/34 [==============================] - 1s 19ms/step - loss: 29.5202 - val_loss: 29.7335\n",
      "Epoch 44/200\n",
      "34/34 [==============================] - 1s 19ms/step - loss: 27.6486 - val_loss: 31.3278\n",
      "Epoch 45/200\n",
      "34/34 [==============================] - 1s 19ms/step - loss: 27.1187 - val_loss: 30.8293\n",
      "Epoch 46/200\n",
      "34/34 [==============================] - 1s 19ms/step - loss: 28.2678 - val_loss: 28.8850\n",
      "Epoch 47/200\n",
      "34/34 [==============================] - 1s 19ms/step - loss: 27.6286 - val_loss: 30.0995\n",
      "Epoch 48/200\n",
      "34/34 [==============================] - 1s 19ms/step - loss: 26.8064 - val_loss: 28.0453\n",
      "Epoch 49/200\n",
      "34/34 [==============================] - 1s 19ms/step - loss: 29.1701 - val_loss: 27.7784\n",
      "Epoch 50/200\n",
      "34/34 [==============================] - 1s 19ms/step - loss: 26.7974 - val_loss: 27.9273\n",
      "Epoch 51/200\n",
      "34/34 [==============================] - 1s 19ms/step - loss: 26.4396 - val_loss: 26.3624\n",
      "Epoch 52/200\n",
      "34/34 [==============================] - 1s 19ms/step - loss: 27.5492 - val_loss: 27.8816\n",
      "Epoch 53/200\n",
      "34/34 [==============================] - 1s 19ms/step - loss: 28.1781 - val_loss: 28.3405\n",
      "Epoch 54/200\n",
      "34/34 [==============================] - 1s 19ms/step - loss: 26.4620 - val_loss: 28.1639\n",
      "Epoch 55/200\n",
      "34/34 [==============================] - 1s 19ms/step - loss: 25.9888 - val_loss: 26.1437\n",
      "Epoch 56/200\n",
      "34/34 [==============================] - 1s 19ms/step - loss: 25.7177 - val_loss: 27.2861\n",
      "Epoch 57/200\n",
      "34/34 [==============================] - 1s 19ms/step - loss: 25.2415 - val_loss: 28.7975\n",
      "Epoch 58/200\n",
      "34/34 [==============================] - 1s 19ms/step - loss: 26.5791 - val_loss: 27.4736\n",
      "Epoch 59/200\n",
      "34/34 [==============================] - 1s 19ms/step - loss: 25.8802 - val_loss: 26.9668\n",
      "Epoch 60/200\n",
      "34/34 [==============================] - 1s 19ms/step - loss: 25.2850 - val_loss: 28.2449\n",
      "Epoch 61/200\n",
      "34/34 [==============================] - 1s 19ms/step - loss: 25.1730 - val_loss: 27.7384\n",
      "Epoch 62/200\n",
      "34/34 [==============================] - 1s 19ms/step - loss: 24.8109 - val_loss: 27.9018\n",
      "Epoch 63/200\n",
      "34/34 [==============================] - 1s 19ms/step - loss: 25.4172 - val_loss: 26.6416\n",
      "Epoch 64/200\n",
      "34/34 [==============================] - 1s 19ms/step - loss: 25.6407 - val_loss: 28.2402\n",
      "Epoch 65/200\n",
      "34/34 [==============================] - 1s 19ms/step - loss: 25.5714 - val_loss: 25.4131\n",
      "Epoch 66/200\n",
      "34/34 [==============================] - 1s 19ms/step - loss: 25.3480 - val_loss: 26.7474\n",
      "Epoch 67/200\n",
      "34/34 [==============================] - 1s 19ms/step - loss: 26.3295 - val_loss: 26.5087\n",
      "Epoch 68/200\n",
      "34/34 [==============================] - 1s 19ms/step - loss: 24.8988 - val_loss: 29.0519\n",
      "Epoch 69/200\n",
      "34/34 [==============================] - 1s 19ms/step - loss: 25.8158 - val_loss: 26.8119\n",
      "Epoch 70/200\n",
      "34/34 [==============================] - 1s 19ms/step - loss: 24.7518 - val_loss: 28.3493\n",
      "Epoch 71/200\n",
      "34/34 [==============================] - 1s 19ms/step - loss: 24.6925 - val_loss: 27.4566\n",
      "Epoch 72/200\n",
      "34/34 [==============================] - 1s 19ms/step - loss: 23.6673 - val_loss: 27.5160\n",
      "Epoch 73/200\n",
      "34/34 [==============================] - 1s 19ms/step - loss: 24.2047 - val_loss: 26.8983\n",
      "Epoch 74/200\n",
      "34/34 [==============================] - 1s 19ms/step - loss: 24.5495 - val_loss: 27.6775\n",
      "Epoch 75/200\n",
      "34/34 [==============================] - 1s 19ms/step - loss: 23.7492 - val_loss: 27.8859\n",
      "Epoch 76/200\n",
      "34/34 [==============================] - 1s 19ms/step - loss: 23.1858 - val_loss: 26.3894\n",
      "Epoch 77/200\n",
      "34/34 [==============================] - 1s 19ms/step - loss: 25.6296 - val_loss: 27.5013\n",
      "Epoch 78/200\n",
      "34/34 [==============================] - 1s 20ms/step - loss: 24.3271 - val_loss: 28.1311\n",
      "Epoch 79/200\n",
      "34/34 [==============================] - 1s 20ms/step - loss: 24.0823 - val_loss: 26.3302\n",
      "Epoch 80/200\n"
     ]
    },
    {
     "name": "stdout",
     "output_type": "stream",
     "text": [
      "34/34 [==============================] - 1s 20ms/step - loss: 23.6130 - val_loss: 26.4355\n",
      "Epoch 81/200\n",
      "34/34 [==============================] - 1s 22ms/step - loss: 23.8586 - val_loss: 26.1044\n",
      "Epoch 82/200\n",
      "34/34 [==============================] - 1s 21ms/step - loss: 24.1523 - val_loss: 26.8948\n",
      "Epoch 83/200\n",
      "34/34 [==============================] - 1s 21ms/step - loss: 24.2307 - val_loss: 26.3329\n",
      "Epoch 84/200\n",
      "34/34 [==============================] - 1s 21ms/step - loss: 22.7916 - val_loss: 27.6317\n",
      "Epoch 85/200\n",
      "34/34 [==============================] - 1s 21ms/step - loss: 23.7595 - val_loss: 27.6507\n",
      "Epoch 86/200\n",
      "34/34 [==============================] - 1s 21ms/step - loss: 23.6632 - val_loss: 26.4006\n",
      "Epoch 87/200\n",
      "34/34 [==============================] - 1s 20ms/step - loss: 24.5796 - val_loss: 27.4519\n",
      "Epoch 88/200\n",
      "34/34 [==============================] - 1s 21ms/step - loss: 24.4798 - val_loss: 27.7722\n",
      "Epoch 89/200\n",
      "34/34 [==============================] - 1s 20ms/step - loss: 22.9103 - val_loss: 25.8844\n",
      "Epoch 90/200\n",
      "34/34 [==============================] - 1s 21ms/step - loss: 22.3093 - val_loss: 25.3924\n",
      "Epoch 91/200\n",
      "34/34 [==============================] - 1s 21ms/step - loss: 23.7740 - val_loss: 25.4411\n",
      "Epoch 92/200\n",
      "34/34 [==============================] - 1s 19ms/step - loss: 23.2790 - val_loss: 25.7782\n",
      "Epoch 93/200\n",
      "34/34 [==============================] - 1s 19ms/step - loss: 22.4306 - val_loss: 25.9946\n",
      "Epoch 94/200\n",
      "34/34 [==============================] - 1s 19ms/step - loss: 22.9401 - val_loss: 26.0981\n",
      "Epoch 95/200\n",
      "34/34 [==============================] - 1s 21ms/step - loss: 22.7036 - val_loss: 27.0021\n",
      "Epoch 96/200\n",
      "34/34 [==============================] - 1s 20ms/step - loss: 23.1729 - val_loss: 25.0700\n",
      "Epoch 97/200\n",
      "34/34 [==============================] - 1s 19ms/step - loss: 21.4060 - val_loss: 31.1626\n",
      "Epoch 98/200\n",
      "34/34 [==============================] - 1s 20ms/step - loss: 23.7557 - val_loss: 27.0005\n",
      "Epoch 99/200\n",
      "34/34 [==============================] - 1s 20ms/step - loss: 24.2505 - val_loss: 26.0266\n",
      "Epoch 100/200\n",
      "34/34 [==============================] - 1s 22ms/step - loss: 24.9710 - val_loss: 28.0053\n",
      "Epoch 101/200\n",
      "34/34 [==============================] - 1s 23ms/step - loss: 22.6804 - val_loss: 24.6923\n",
      "Epoch 102/200\n",
      "34/34 [==============================] - 1s 21ms/step - loss: 23.3453 - val_loss: 24.7917\n",
      "Epoch 103/200\n",
      "34/34 [==============================] - 1s 19ms/step - loss: 22.4363 - val_loss: 25.4533\n",
      "Epoch 104/200\n",
      "34/34 [==============================] - 1s 19ms/step - loss: 21.5590 - val_loss: 26.2456\n",
      "Epoch 105/200\n",
      "34/34 [==============================] - 1s 19ms/step - loss: 21.3637 - val_loss: 25.8176\n",
      "Epoch 106/200\n",
      "34/34 [==============================] - 1s 19ms/step - loss: 22.5892 - val_loss: 27.9973\n",
      "Epoch 107/200\n",
      "34/34 [==============================] - 1s 19ms/step - loss: 22.6083 - val_loss: 25.9545\n",
      "Epoch 108/200\n",
      "34/34 [==============================] - 1s 19ms/step - loss: 21.7717 - val_loss: 26.7668\n",
      "Epoch 109/200\n",
      "34/34 [==============================] - 1s 19ms/step - loss: 21.2566 - val_loss: 27.1013\n",
      "Epoch 110/200\n",
      "34/34 [==============================] - 1s 19ms/step - loss: 21.4315 - val_loss: 26.7059\n",
      "Epoch 111/200\n",
      "34/34 [==============================] - 1s 19ms/step - loss: 23.4822 - val_loss: 26.4632\n",
      "Epoch 112/200\n",
      "34/34 [==============================] - 1s 19ms/step - loss: 22.9376 - val_loss: 25.4065\n",
      "Epoch 113/200\n",
      "34/34 [==============================] - 1s 19ms/step - loss: 21.2848 - val_loss: 25.9035\n",
      "Epoch 114/200\n",
      "34/34 [==============================] - 1s 19ms/step - loss: 22.7462 - val_loss: 26.0128\n",
      "Epoch 115/200\n",
      "34/34 [==============================] - 1s 19ms/step - loss: 21.6841 - val_loss: 27.2813\n",
      "Epoch 116/200\n",
      "34/34 [==============================] - 1s 19ms/step - loss: 23.2368 - val_loss: 26.6113\n",
      "Epoch 117/200\n",
      "34/34 [==============================] - 1s 19ms/step - loss: 22.7291 - val_loss: 26.7531\n",
      "Epoch 118/200\n",
      "34/34 [==============================] - 1s 19ms/step - loss: 23.8556 - val_loss: 27.3039\n",
      "Epoch 119/200\n",
      "34/34 [==============================] - 1s 20ms/step - loss: 22.6890 - val_loss: 26.1746\n",
      "Epoch 120/200\n",
      "34/34 [==============================] - 1s 22ms/step - loss: 22.8737 - val_loss: 25.9417\n",
      "Epoch 121/200\n",
      "34/34 [==============================] - 1s 21ms/step - loss: 22.3263 - val_loss: 27.0225\n",
      "Epoch 122/200\n",
      "34/34 [==============================] - 1s 23ms/step - loss: 22.3793 - val_loss: 26.1220\n",
      "Epoch 123/200\n",
      "34/34 [==============================] - 1s 20ms/step - loss: 22.3989 - val_loss: 25.4733\n",
      "Epoch 124/200\n",
      "34/34 [==============================] - 1s 20ms/step - loss: 21.4975 - val_loss: 29.0047\n",
      "Epoch 125/200\n",
      "34/34 [==============================] - 1s 20ms/step - loss: 23.5643 - val_loss: 25.0099\n",
      "Epoch 126/200\n",
      "34/34 [==============================] - 1s 20ms/step - loss: 22.4209 - val_loss: 26.2811\n",
      "Epoch 127/200\n",
      "34/34 [==============================] - 1s 20ms/step - loss: 23.0037 - val_loss: 26.4411\n",
      "Epoch 128/200\n",
      "34/34 [==============================] - 1s 20ms/step - loss: 22.2173 - val_loss: 27.0140\n",
      "Epoch 129/200\n",
      "34/34 [==============================] - 1s 21ms/step - loss: 22.2494 - val_loss: 24.7645\n",
      "Epoch 130/200\n",
      "34/34 [==============================] - 1s 21ms/step - loss: 21.7962 - val_loss: 25.1165\n",
      "Epoch 131/200\n",
      "34/34 [==============================] - 1s 21ms/step - loss: 22.6811 - val_loss: 25.9340\n",
      "Epoch 132/200\n",
      "34/34 [==============================] - 1s 25ms/step - loss: 21.4413 - val_loss: 25.2724\n",
      "Epoch 133/200\n",
      "34/34 [==============================] - 1s 28ms/step - loss: 20.9312 - val_loss: 25.5631\n",
      "Epoch 134/200\n",
      "34/34 [==============================] - 1s 23ms/step - loss: 20.9086 - val_loss: 24.5952\n",
      "Epoch 135/200\n",
      "34/34 [==============================] - 1s 19ms/step - loss: 21.8181 - val_loss: 25.0727\n",
      "Epoch 136/200\n",
      "34/34 [==============================] - 1s 19ms/step - loss: 21.2332 - val_loss: 26.0094\n",
      "Epoch 137/200\n",
      "34/34 [==============================] - 1s 20ms/step - loss: 21.5336 - val_loss: 25.1187\n",
      "Epoch 138/200\n",
      "34/34 [==============================] - 1s 20ms/step - loss: 21.5689 - val_loss: 27.3005\n",
      "Epoch 139/200\n",
      "34/34 [==============================] - 1s 19ms/step - loss: 20.4186 - val_loss: 24.5507\n",
      "Epoch 140/200\n",
      "34/34 [==============================] - 1s 21ms/step - loss: 21.4313 - val_loss: 25.5115\n",
      "Epoch 141/200\n",
      "34/34 [==============================] - 1s 23ms/step - loss: 20.7613 - val_loss: 25.0004\n",
      "Epoch 142/200\n",
      "34/34 [==============================] - 1s 18ms/step - loss: 21.4673 - val_loss: 25.5141\n",
      "Epoch 143/200\n",
      "34/34 [==============================] - 1s 18ms/step - loss: 21.0638 - val_loss: 25.6106\n",
      "Epoch 144/200\n",
      "34/34 [==============================] - 1s 18ms/step - loss: 22.3842 - val_loss: 25.3043\n",
      "Epoch 145/200\n",
      "34/34 [==============================] - 1s 17ms/step - loss: 20.7491 - val_loss: 24.8424\n",
      "Epoch 146/200\n",
      "34/34 [==============================] - 1s 17ms/step - loss: 21.8682 - val_loss: 24.1288\n",
      "Epoch 147/200\n",
      "34/34 [==============================] - 1s 17ms/step - loss: 23.1025 - val_loss: 24.1958\n",
      "Epoch 148/200\n",
      "34/34 [==============================] - 1s 18ms/step - loss: 20.8258 - val_loss: 25.5379\n",
      "Epoch 149/200\n",
      "34/34 [==============================] - 1s 20ms/step - loss: 22.6614 - val_loss: 27.1896\n",
      "Epoch 150/200\n",
      "34/34 [==============================] - 1s 19ms/step - loss: 20.7940 - val_loss: 24.8097\n",
      "Epoch 151/200\n",
      "34/34 [==============================] - 1s 18ms/step - loss: 20.5457 - val_loss: 23.9614\n",
      "Epoch 152/200\n",
      "34/34 [==============================] - 1s 18ms/step - loss: 19.8296 - val_loss: 24.6331\n",
      "Epoch 153/200\n",
      "34/34 [==============================] - 1s 18ms/step - loss: 20.1804 - val_loss: 29.8154\n",
      "Epoch 154/200\n",
      "34/34 [==============================] - 1s 18ms/step - loss: 21.9605 - val_loss: 24.1353\n",
      "Epoch 155/200\n",
      "34/34 [==============================] - 1s 19ms/step - loss: 20.7838 - val_loss: 24.8907\n",
      "Epoch 156/200\n",
      "34/34 [==============================] - 1s 19ms/step - loss: 20.2661 - val_loss: 24.4347\n",
      "Epoch 157/200\n",
      "34/34 [==============================] - 1s 19ms/step - loss: 20.5211 - val_loss: 25.2258\n",
      "Epoch 158/200\n",
      "34/34 [==============================] - 1s 18ms/step - loss: 20.1882 - val_loss: 24.2998\n",
      "Epoch 159/200\n"
     ]
    },
    {
     "name": "stdout",
     "output_type": "stream",
     "text": [
      "34/34 [==============================] - 1s 18ms/step - loss: 19.8089 - val_loss: 24.8403\n",
      "Epoch 160/200\n",
      "34/34 [==============================] - 1s 18ms/step - loss: 20.9433 - val_loss: 23.2818\n",
      "Epoch 161/200\n",
      "34/34 [==============================] - 1s 18ms/step - loss: 20.3334 - val_loss: 24.4002\n",
      "Epoch 162/200\n",
      "34/34 [==============================] - 1s 18ms/step - loss: 20.1329 - val_loss: 23.5395\n",
      "Epoch 163/200\n",
      "34/34 [==============================] - 1s 18ms/step - loss: 20.0179 - val_loss: 23.0703\n",
      "Epoch 164/200\n",
      "34/34 [==============================] - 1s 18ms/step - loss: 20.1669 - val_loss: 23.9553\n",
      "Epoch 165/200\n",
      "34/34 [==============================] - 1s 18ms/step - loss: 18.9939 - val_loss: 24.0540\n",
      "Epoch 166/200\n",
      "34/34 [==============================] - 1s 18ms/step - loss: 19.8216 - val_loss: 22.8902\n",
      "Epoch 167/200\n",
      "34/34 [==============================] - 1s 18ms/step - loss: 19.4162 - val_loss: 23.7388\n",
      "Epoch 168/200\n",
      "34/34 [==============================] - 1s 18ms/step - loss: 19.6344 - val_loss: 22.5060\n",
      "Epoch 169/200\n",
      "34/34 [==============================] - 1s 18ms/step - loss: 21.7673 - val_loss: 26.0819\n",
      "Epoch 170/200\n",
      "34/34 [==============================] - 1s 19ms/step - loss: 19.6131 - val_loss: 26.0642\n",
      "Epoch 171/200\n",
      "34/34 [==============================] - 1s 18ms/step - loss: 19.6692 - val_loss: 24.4352\n",
      "Epoch 172/200\n",
      "34/34 [==============================] - 1s 18ms/step - loss: 19.7538 - val_loss: 23.6156\n",
      "Epoch 173/200\n",
      "34/34 [==============================] - 1s 18ms/step - loss: 20.4577 - val_loss: 23.7175\n",
      "Epoch 174/200\n",
      "34/34 [==============================] - 1s 18ms/step - loss: 20.7972 - val_loss: 25.1977\n",
      "Epoch 175/200\n",
      "34/34 [==============================] - 1s 18ms/step - loss: 19.3062 - val_loss: 24.6206\n",
      "Epoch 176/200\n",
      "34/34 [==============================] - 1s 18ms/step - loss: 19.2239 - val_loss: 23.2596\n",
      "Epoch 177/200\n",
      "34/34 [==============================] - 1s 18ms/step - loss: 19.3610 - val_loss: 23.7291\n",
      "Epoch 178/200\n",
      "34/34 [==============================] - 1s 19ms/step - loss: 19.7717 - val_loss: 24.7615\n",
      "Epoch 179/200\n",
      "34/34 [==============================] - 1s 18ms/step - loss: 20.7658 - val_loss: 22.3514\n",
      "Epoch 180/200\n",
      "34/34 [==============================] - 1s 18ms/step - loss: 19.8044 - val_loss: 27.2596\n",
      "Epoch 181/200\n",
      "34/34 [==============================] - 1s 18ms/step - loss: 19.9016 - val_loss: 22.6428\n",
      "Epoch 182/200\n",
      "34/34 [==============================] - 1s 18ms/step - loss: 19.9098 - val_loss: 23.6803\n",
      "Epoch 183/200\n",
      "34/34 [==============================] - 1s 18ms/step - loss: 19.6003 - val_loss: 21.7219\n",
      "Epoch 184/200\n",
      "34/34 [==============================] - 1s 18ms/step - loss: 19.4468 - val_loss: 23.6823\n",
      "Epoch 185/200\n",
      "34/34 [==============================] - 1s 18ms/step - loss: 20.0377 - val_loss: 22.8515\n",
      "Epoch 186/200\n",
      "34/34 [==============================] - 1s 18ms/step - loss: 19.5747 - val_loss: 25.0295\n",
      "Epoch 187/200\n",
      "34/34 [==============================] - 1s 18ms/step - loss: 19.6543 - val_loss: 22.8950\n",
      "Epoch 188/200\n",
      "34/34 [==============================] - 1s 18ms/step - loss: 19.0919 - val_loss: 27.1073\n",
      "Epoch 189/200\n",
      "34/34 [==============================] - 1s 18ms/step - loss: 19.2748 - val_loss: 24.8700\n",
      "Epoch 190/200\n",
      "34/34 [==============================] - 1s 18ms/step - loss: 18.2742 - val_loss: 23.3459\n",
      "Epoch 191/200\n",
      "34/34 [==============================] - 1s 18ms/step - loss: 18.2682 - val_loss: 21.8055\n",
      "Epoch 192/200\n",
      "34/34 [==============================] - 1s 18ms/step - loss: 18.0195 - val_loss: 21.3967\n",
      "Epoch 193/200\n",
      "34/34 [==============================] - 1s 18ms/step - loss: 18.5854 - val_loss: 22.6266\n",
      "Epoch 194/200\n",
      "34/34 [==============================] - 1s 18ms/step - loss: 19.5940 - val_loss: 23.8805\n",
      "Epoch 195/200\n",
      "34/34 [==============================] - 1s 18ms/step - loss: 18.0036 - val_loss: 27.4324\n",
      "Epoch 196/200\n",
      "34/34 [==============================] - 1s 18ms/step - loss: 18.5330 - val_loss: 23.8409\n",
      "Epoch 197/200\n",
      "34/34 [==============================] - 1s 18ms/step - loss: 18.5342 - val_loss: 22.2254\n",
      "Epoch 198/200\n",
      "34/34 [==============================] - 1s 18ms/step - loss: 18.8068 - val_loss: 23.2136\n",
      "Epoch 199/200\n",
      "34/34 [==============================] - 1s 18ms/step - loss: 17.3171 - val_loss: 24.3342\n",
      "Epoch 200/200\n",
      "34/34 [==============================] - 1s 18ms/step - loss: 18.9719 - val_loss: 23.4319\n"
     ]
    }
   ],
   "source": [
    " # train the model\n",
    "print(\"[INFO] training model...\")\n",
    "history=model.fit([trainAttrX, trainImagesX], trainY, validation_data=([testAttrX, testImagesX], testY), epochs=200, batch_size=8)"
   ]
  },
  {
   "cell_type": "markdown",
   "metadata": {
    "slideshow": {
     "slide_type": "slide"
    }
   },
   "source": [
    "### Visualize Learning Curve"
   ]
  },
  {
   "cell_type": "code",
   "execution_count": 25,
   "metadata": {
    "slideshow": {
     "slide_type": "fragment"
    }
   },
   "outputs": [],
   "source": [
    "%matplotlib inline\n",
    "from matplotlib import pyplot as plt"
   ]
  },
  {
   "cell_type": "code",
   "execution_count": 26,
   "metadata": {
    "slideshow": {
     "slide_type": "fragment"
    }
   },
   "outputs": [
    {
     "data": {
      "image/png": "[encoded data removed]",
      "text/plain": [
       "<Figure size 1008x720 with 1 Axes>"
      ]
     },
     "metadata": {
      "needs_background": "light"
     },
     "output_type": "display_data"
    }
   ],
   "source": [
    "FIRSTEPOCH=25\n",
    "loss = history.history['loss']\n",
    "val_loss = history.history['val_loss']\n",
    "max_val_loss=np.max(val_loss)\n",
    "\n",
    "epochs = range(FIRSTEPOCH, len(loss))\n",
    "\n",
    "plt.figure(figsize=(14,10))\n",
    "\n",
    "plt.plot(epochs, loss[FIRSTEPOCH:], 'ro-', label='Training loss')\n",
    "plt.plot(epochs, val_loss[FIRSTEPOCH:], 'bs-', label='Validation loss')\n",
    "plt.grid(True)\n",
    "plt.title('Training and validation loss')\n",
    "plt.xlabel(\"epoch\")\n",
    "plt.ylabel(\"mean absolute error percentage\")\n",
    "plt.legend()\n",
    "plt.show()"
   ]
  },
  {
   "cell_type": "markdown",
   "metadata": {
    "slideshow": {
     "slide_type": "slide"
    }
   },
   "source": [
    "### Evaluate house-price prediction on test-data "
   ]
  },
  {
   "cell_type": "code",
   "execution_count": 27,
   "metadata": {
    "slideshow": {
     "slide_type": "fragment"
    }
   },
   "outputs": [
    {
     "name": "stdout",
     "output_type": "stream",
     "text": [
      "[INFO] predicting house prices (scaled!)...\n"
     ]
    }
   ],
   "source": [
    "# make predictions on the testing data\n",
    "print(\"[INFO] predicting house prices (scaled!)...\")\n",
    "preds = model.predict([testAttrX,testImagesX])"
   ]
  },
  {
   "cell_type": "code",
   "execution_count": 28,
   "metadata": {
    "scrolled": true,
    "slideshow": {
     "slide_type": "fragment"
    }
   },
   "outputs": [
    {
     "data": {
      "text/plain": [
       "array([[0.08381496],\n",
       "       [0.14592682],\n",
       "       [0.12978846],\n",
       "       [0.09530172],\n",
       "       [0.11129145],\n",
       "       [0.07557127],\n",
       "       [0.13986649],\n",
       "       [0.10625102],\n",
       "       [0.03085414],\n",
       "       [0.08985159],\n",
       "       [0.01359273],\n",
       "       [0.06365948],\n",
       "       [0.02957226],\n",
       "       [0.15745002],\n",
       "       [0.08740544],\n",
       "       [0.01800527],\n",
       "       [0.02546466],\n",
       "       [0.02948813],\n",
       "       [0.0884437 ],\n",
       "       [0.11060363],\n",
       "       [0.16035625],\n",
       "       [0.02644496],\n",
       "       [0.11275533],\n",
       "       [0.06943889],\n",
       "       [0.02947262],\n",
       "       [0.02085645],\n",
       "       [0.00886585],\n",
       "       [0.08385138],\n",
       "       [0.01616586],\n",
       "       [0.1008203 ],\n",
       "       [0.05001088],\n",
       "       [0.1098453 ],\n",
       "       [0.1661027 ],\n",
       "       [0.01439376],\n",
       "       [0.09820195],\n",
       "       [0.10061416],\n",
       "       [0.11463497],\n",
       "       [0.1522587 ],\n",
       "       [0.0582017 ],\n",
       "       [0.05856906],\n",
       "       [0.02943356],\n",
       "       [0.01875017],\n",
       "       [0.05099154],\n",
       "       [0.0490451 ],\n",
       "       [0.10568444],\n",
       "       [0.07636116],\n",
       "       [0.09276235],\n",
       "       [0.14531666],\n",
       "       [0.01399828],\n",
       "       [0.14221767],\n",
       "       [0.00787191],\n",
       "       [0.10403666],\n",
       "       [0.07770506],\n",
       "       [0.01682133],\n",
       "       [0.10515637],\n",
       "       [0.08231525],\n",
       "       [0.13234568],\n",
       "       [0.11013077],\n",
       "       [0.11333922],\n",
       "       [0.09917039],\n",
       "       [0.12103627],\n",
       "       [0.01911423],\n",
       "       [0.1097184 ],\n",
       "       [0.05442401],\n",
       "       [0.01873899],\n",
       "       [0.07598428],\n",
       "       [0.01487929],\n",
       "       [0.09216289],\n",
       "       [0.04734561],\n",
       "       [0.11634959],\n",
       "       [0.10411106],\n",
       "       [0.03167211],\n",
       "       [0.10124915],\n",
       "       [0.02430451],\n",
       "       [0.05492816],\n",
       "       [0.07157689],\n",
       "       [0.13697028],\n",
       "       [0.08697677],\n",
       "       [0.10442349],\n",
       "       [0.09164134],\n",
       "       [0.10717783],\n",
       "       [0.01873899],\n",
       "       [0.13361675],\n",
       "       [0.09972557],\n",
       "       [0.09366242],\n",
       "       [0.00439556],\n",
       "       [0.07719754],\n",
       "       [0.09149152],\n",
       "       [0.06915567],\n",
       "       [0.09133302],\n",
       "       [0.11732913]], dtype=float32)"
      ]
     },
     "execution_count": 28,
     "metadata": {},
     "output_type": "execute_result"
    }
   ],
   "source": [
    "preds"
   ]
  },
  {
   "cell_type": "code",
   "execution_count": 29,
   "metadata": {
    "slideshow": {
     "slide_type": "slide"
    }
   },
   "outputs": [],
   "source": [
    "# compute the difference between the *predicted* house prices and the\n",
    "# *actual* house prices, then compute the percentage difference and\n",
    "# the absolute percentage difference\n",
    "diff = preds.flatten() - testY\n",
    "percentDiff = (diff / testY) * 100\n",
    "absPercentDiff = np.abs(percentDiff)"
   ]
  },
  {
   "cell_type": "code",
   "execution_count": 30,
   "metadata": {
    "slideshow": {
     "slide_type": "fragment"
    }
   },
   "outputs": [
    {
     "data": {
      "text/plain": [
       "305    -3.727832\n",
       "110    27.778670\n",
       "92    -22.339041\n",
       "464   -27.402151\n",
       "145     0.314708\n",
       "         ...    \n",
       "458   -21.352492\n",
       "452   -10.599278\n",
       "481   -20.565898\n",
       "232   -15.862744\n",
       "437    -1.640433\n",
       "Name: price, Length: 91, dtype: float64"
      ]
     },
     "execution_count": 30,
     "metadata": {},
     "output_type": "execute_result"
    }
   ],
   "source": [
    "percentDiff"
   ]
  },
  {
   "cell_type": "code",
   "execution_count": 31,
   "metadata": {
    "slideshow": {
     "slide_type": "slide"
    }
   },
   "outputs": [],
   "source": [
    "# compute the mean and standard deviation of the absolute percentage\n",
    "# difference\n",
    "mean = np.mean(absPercentDiff)\n",
    "std = np.std(absPercentDiff)"
   ]
  },
  {
   "cell_type": "code",
   "execution_count": 32,
   "metadata": {
    "slideshow": {
     "slide_type": "fragment"
    }
   },
   "outputs": [
    {
     "name": "stdout",
     "output_type": "stream",
     "text": [
      "Mean absolute difference percentage on test data: 23.43%\n",
      "Standard deviation of absolute difference percentage on test data: 20.84%\n"
     ]
    }
   ],
   "source": [
    "print(\"Mean absolute difference percentage on test data: {:.2f}%\".format(mean))\n",
    "print(\"Standard deviation of absolute difference percentage on test data: {:.2f}%\".format(std))"
   ]
  },
  {
   "cell_type": "code",
   "execution_count": 33,
   "metadata": {
    "slideshow": {
     "slide_type": "fragment"
    }
   },
   "outputs": [],
   "source": [
    "def baselineModel(train,test):\n",
    "    meanTrain=train.mean()\n",
    "    absPercentage=100*((test-meanTrain)/test).abs()\n",
    "    return absPercentage.mean(),absPercentage.std()  "
   ]
  },
  {
   "cell_type": "code",
   "execution_count": 34,
   "metadata": {
    "slideshow": {
     "slide_type": "fragment"
    }
   },
   "outputs": [],
   "source": [
    "meanBase,stdBase=baselineModel(trainY,testY)"
   ]
  },
  {
   "cell_type": "code",
   "execution_count": 35,
   "metadata": {
    "slideshow": {
     "slide_type": "fragment"
    }
   },
   "outputs": [
    {
     "name": "stdout",
     "output_type": "stream",
     "text": [
      "BASELINE: Mean absolute difference percentage on test data: 115.37%\n",
      "BASELINE: Standard deviation of absolute difference percentage on test data: 190.44%\n"
     ]
    }
   ],
   "source": [
    "print(\"BASELINE: Mean absolute difference percentage on test data: {:.2f}%\".format(meanBase))\n",
    "print(\"BASELINE: Standard deviation of absolute difference percentage on test data: {:.2f}%\".format(stdBase))"
   ]
  },
  {
   "cell_type": "code",
   "execution_count": null,
   "metadata": {},
   "outputs": [],
   "source": []
  }
 ],
 "metadata": {
  "celltoolbar": "Slideshow",
  "kernelspec": {
   "display_name": "Python 3",
   "language": "python",
   "name": "python3"
  },
  "language_info": {
   "codemirror_mode": {
    "name": "ipython",
    "version": 3
   },
   "file_extension": ".py",
   "mimetype": "text/x-python",
   "name": "python",
   "nbconvert_exporter": "python",
   "pygments_lexer": "ipython3",
   "version": "3.7.5"
  },
  "toc": {
   "base_numbering": 1,
   "nav_menu": {},
   "number_sections": true,
   "sideBar": true,
   "skip_h1_title": false,
   "title_cell": "Table of Contents",
   "title_sidebar": "Contents",
   "toc_cell": false,
   "toc_position": {},
   "toc_section_display": true,
   "toc_window_display": false
  }
 },
 "nbformat": 4,
 "nbformat_minor": 2
}
