{
 "cells": [
  {
   "cell_type": "markdown",
   "metadata": {},
   "source": [
    "# Exercise 1: Access and Preprocessing"
   ]
  },
  {
   "cell_type": "markdown",
   "metadata": {},
   "source": [
    "## What you will learn:\n",
    "* Access and clean data\n",
    "* One-Hot-Encoding\n",
    "* Scaling\n",
    "* Split labeled data in training- and validation-partition\n",
    "* Train and evaluate a *LogisticRegression*-classifier."
   ]
  },
  {
   "cell_type": "markdown",
   "metadata": {},
   "source": [
    "## Data description\n",
    "\n",
    "The `Data`-folder of this repository contains the \n",
    "dataset `HeartDiseaseCleveland.csv`. Here is a description of this dataset:\n",
    "\n",
    "\n",
    "**Features:**\n",
    "\n",
    "1. age: age in years\n",
    "2. sex: sex (1 = male; 0 = female)\n",
    "3. cp: chest pain type \n",
    "    - Value 1: typical angina \n",
    "    - Value 2: atypical angina \n",
    "    - Value 3: non-anginal pain \n",
    "    - Value 4: asymptomatic \n",
    "4. trestbps: resting blood pressure (in mm Hg on admission to the hospital)\n",
    "6. chol: serum cholestoral in mg/dl\n",
    "7. fbs: (fasting blood sugar > 120 mg/dl) (1 = true; 0 = false)\n",
    "8. restecg: resting electrocardiographic results \n",
    "    - Value 0: normal \n",
    "    - Value 1: having ST-T wave abnormality (T wave inversions and/or ST elevation or depression of > 0.05 mV) \n",
    "    - Value 2: showing probable or definite left ventricular hypertrophy by Estes' criteria\n",
    "9. thalach: maximum heart rate achieved\n",
    "10. exang: exercise induced angina (1 = yes; 0 = no)\n",
    "11. oldpeak = ST depression induced by exercise relative to rest\n",
    "12. slope: the slope of the peak exercise ST segment\n",
    "    - Value 1: upsloping \n",
    "    - Value 2: flat \n",
    "    - Value 3: downsloping\n",
    "13. ca: number of major vessels (0-3) colored by flourosopy\n",
    "14. thal: heartrate\n",
    "    - Value 3: normal \n",
    "    - Value 6: fixed defect\n",
    "    - Value 7: reversable defect\n",
    "    \n",
    "    \n",
    "**Feature types**\n",
    "    \n",
    "- Real-valued attributes: 1,4,5,8,10,12\n",
    "- Binary attributes: 2,6,9\n",
    "- Ordered attribute: 11\n",
    "- Nominal attributes: 3,7,13\n",
    "\n",
    "**Target (Class label):** \n",
    "\n",
    "- 0: no disease\n",
    "- 1,2,3,4 degree of disease\n"
   ]
  },
  {
   "cell_type": "code",
   "execution_count": 1,
   "metadata": {},
   "outputs": [],
   "source": [
    "import pandas as pd\n",
    "from IPython.display import display\n",
    "from IPython.display import Image\n",
    "import numpy as np\n",
    "from matplotlib import pyplot as plt\n",
    "from sklearn.preprocessing import StandardScaler, OneHotEncoder,MinMaxScaler,normalize"
   ]
  },
  {
   "cell_type": "markdown",
   "metadata": {},
   "source": [
    "## Tasks\n",
    "**Task 1:** Load this `.csv`-file into a pandas dataframe.\n",
    "\n",
    "**Task 2:** Check if there is missing data in this file. If so, display all rows with missing values. \n",
    "\n",
    "**Task 3:** Then replace the missing values by the median of the corresponding column."
   ]
  },
  {
   "cell_type": "markdown",
   "metadata": {},
   "source": [
    "**Task 4:** The nominal features are in columns 2 (cp),6 (fbs) and 12 (thal). Apply the pandas-dataframe method `get_dummies()` in order to calculate a dataframe-representation with one-hot-encoded nominal features."
   ]
  },
  {
   "cell_type": "markdown",
   "metadata": {},
   "source": [
    "**Task 5:** All columns up to the last are the features, the last column is the class label. Split the dataset in a numpy array `X`, which only contains the features and a numpy array `y_raw`, which contains only the class labels "
   ]
  },
  {
   "cell_type": "markdown",
   "metadata": {},
   "source": [
    "**Task 6:** In this experiment a binary classifier shall be implemented, which differentiates the classes disease and no disease. For this, all non-zero class-labels in `y_raw`shall be mapped to 1. The new binary class-label-array shall be named `y`:"
   ]
  },
  {
   "cell_type": "markdown",
   "metadata": {},
   "source": [
    "**Task 7:** Some machine learning algorithms perform bad, if the value ranges of the features differ significantly. For example in the preprocessed dataframe of the previous code-cell the value-range of many columns is $[0,1]$, but some features, such as `thalach` and `trestbps`, have much higher values. In particular clustering-algorithms or all algorithms, which apply a gradient-descent-based learning approach, require features with similar value ranges. Transform all features-columns, such that their value range is $[0,1]$."
   ]
  },
  {
   "cell_type": "markdown",
   "metadata": {},
   "source": [
    "**Task 8:** Split the set of labeled data into disjoint training- and validation-partitions and train a `LogisticRegression`-classifier with the training partition. After training, display the parameters of the learned model."
   ]
  },
  {
   "cell_type": "code",
   "execution_count": 2,
   "metadata": {},
   "outputs": [],
   "source": [
    "from sklearn.model_selection import train_test_split, cross_val_score\n",
    "from sklearn.linear_model import LogisticRegression"
   ]
  },
  {
   "cell_type": "markdown",
   "metadata": {},
   "source": [
    "**Task 10:** Calculate the learned model's prediction on the validation data. Determine the accuracy and the confusion matrix on the validation data."
   ]
  },
  {
   "cell_type": "code",
   "execution_count": 3,
   "metadata": {},
   "outputs": [],
   "source": [
    "from sklearn.metrics import accuracy_score, confusion_matrix"
   ]
  },
  {
   "cell_type": "code",
   "execution_count": 5,
   "metadata": {},
   "outputs": [],
   "source": [
    "import sys\n",
    "sys.path.append(\"..\") # add parent-directory to PYTHONPATH\n",
    "import utilsJM"
   ]
  },
  {
   "cell_type": "markdown",
   "metadata": {},
   "source": [
    "**Task 11:** Discuss the confusion matrix. Are you satisfied with this performance? How can it be improved?"
   ]
  },
  {
   "cell_type": "code",
   "execution_count": null,
   "metadata": {},
   "outputs": [],
   "source": []
  }
 ],
 "metadata": {
  "anaconda-cloud": {},
  "kernelspec": {
   "display_name": "Python 3",
   "language": "python",
   "name": "python3"
  },
  "language_info": {
   "codemirror_mode": {
    "name": "ipython",
    "version": 3
   },
   "file_extension": ".py",
   "mimetype": "text/x-python",
   "name": "python",
   "nbconvert_exporter": "python",
   "pygments_lexer": "ipython3",
   "version": "3.7.5"
  },
  "nav_menu": {},
  "toc": {
   "base_numbering": 1,
   "nav_menu": {},
   "number_sections": true,
   "sideBar": true,
   "skip_h1_title": false,
   "title_cell": "Table of Contents",
   "title_sidebar": "Contents",
   "toc_cell": false,
   "toc_position": {},
   "toc_section_display": "block",
   "toc_window_display": false
  }
 },
 "nbformat": 4,
 "nbformat_minor": 4
}
