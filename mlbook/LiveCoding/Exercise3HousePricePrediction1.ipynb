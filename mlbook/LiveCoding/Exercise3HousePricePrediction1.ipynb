{
 "cells": [
  {
   "cell_type": "markdown",
   "metadata": {
    "slideshow": {
     "slide_type": "slide"
    }
   },
   "source": [
    "# Regression: House Price Prediction\n",
    "* Author: Johannes Maucher\n",
    "* Paper: [E.H. Ahmed, M.N. Moustafa: House Price Estimation from Visual and Textual Features](https://arxiv.org/pdf/1609.08399.pdf)\n",
    "* Data: [https://github.com/emanhamed/Houses-dataset](https://github.com/emanhamed/Houses-dataset)"
   ]
  },
  {
   "cell_type": "markdown",
   "metadata": {
    "slideshow": {
     "slide_type": "slide"
    }
   },
   "source": [
    "## Goal\n",
    "\n",
    "House prices can be predicted based on different types of information. In this notebook we apply\n",
    "\n",
    "* number of bedrooms\n",
    "* number of bathrooms\n",
    "* entire living area in square feets\n",
    "* location of the house in terms of zipcode\n",
    "\n",
    "as input features. A simple feedforward neural network shall be trained to estimate the house price from these inputs. In a follow-up notebook house prices are estimated on the basis of house-images. Finally, both types of inputs, images and the 4 parameters listed above, will be applied for house price prediction. "
   ]
  },
  {
   "cell_type": "markdown",
   "metadata": {},
   "source": [
    "# Task 1: Data Access and Understanding\n",
    "1. Download data from [https://github.com/emanhamed/Houses-dataset](https://github.com/emanhamed/Houses-dataset). \n",
    "2. The downloaded directory contains images (which will be applied in the next exercise) and a csv-file `HousesInfo.txt`. In this csv-file columns are separated by an empty-space (not by a comma)! Read this file into a pandas-dataframe. The file contains for all houses the following features:\n",
    "    * Number of bedrooms\n",
    "    * Number of bathrooms\n",
    "    * Area (i.e., square footage)\n",
    "    * Zip code\n",
    "\n",
    "3. Note that the file `HousesInfo.txt` does not contain column names. Assign the column-names `bedrooms`, `bathrooms`, `area`, `zipcode` and `price` to the pandas dataframe.\n",
    "4. Calculate descriptive statistics on the dataframe by applying the `descripe()`-method."
   ]
  },
  {
   "cell_type": "markdown",
   "metadata": {
    "slideshow": {
     "slide_type": "slide"
    }
   },
   "source": [
    "# Task 2: Data Cleaning\n",
    "1. In order to create well generalising (robust) models, training data shall reflect the true statistics of the data as good as possible. In the case of categorical attributes this means that each value shall occur sufficiently often in the training dataset. Therefore, all houses in areas, whose zip-code appears only rarely (less than 20 times) in the given dataset, shall be dropped.\n",
    "2. Calculate the descriptive statistics on this cleaned dataframe\n",
    "3. How many different zip-codes remain in the cleaned dataframe?"
   ]
  },
  {
   "cell_type": "markdown",
   "metadata": {
    "slideshow": {
     "slide_type": "slide"
    }
   },
   "source": [
    "# Task 3: Preprocessing\n",
    "1. Split the cleaned dataset into a training- and testpartition by applying the [train_test_split()-method from scikit-learn](https://scikit-learn.org/stable/modules/generated/sklearn.model_selection.train_test_split.html). The test-partition shall contain 25% and the training-partition 75% of the data.\n",
    "2. Gradient Descent training of neural networks requires that all variables have a similar value-range. Transform all numerical variables into a value range between 0 and 1, by applying scikit-learn's *MinMax-Scaling*. Take care that the *MinMax*-model is fitted only on training-data and applied for transforming training- and test-data! \n",
    "3. Categorical data must be One-Hot encoded before passing it to the input of a neural network. Implement one-hot encoding for the categorical feature `zipcode`.\n",
    "4. Training of regression models converges better, if the output variable is normalized to values between 0 and 1. For this all house-prices shall be normalized. Normalize prices by dividing each house-price by the maximum house-price of the training data."
   ]
  },
  {
   "cell_type": "markdown",
   "metadata": {
    "slideshow": {
     "slide_type": "slide"
    }
   },
   "source": [
    "# Task 4: Define MLP Architecture, Train and Evaluate the MLP\n",
    "\n",
    "1. A simple Multilayer-Perceptron with 2 hidden layers shall be configured with `tensorflow.keras`. The number of neurons in the hidden layers is 8 and 4, respectively. Both hidden layers apply a relu-activation function. As usual for regression neural networks the output-layer consists of only a singel neuron with a linear-activation (identity-function).\n",
    "2. *Compile* this keras model, by configuring an [Adam optimizer](https://keras.io/api/optimizers/) for training. Suitable values for learnrate and learnrate-decay are *0.001* and *0.001/NumberOfEpochs*, respectively. The loss-function shall be `mean_absolute_percentage_error`. \n",
    "3. Train the network for 200 epochs and a batch-size of 8.\n",
    "4. Visualize the loss-value degradation over the training-epochs for both, training and test-data.\n",
    "5. Calculate the models's prediction on the test-data and rescale predicted prices and true-prices.\n",
    "6. In a scatter-plot visualize predicted prices versus true prizes (in dollars)."
   ]
  }
 ],
 "metadata": {
  "celltoolbar": "Slideshow",
  "kernelspec": {
   "display_name": "Python 3",
   "language": "python",
   "name": "python3"
  },
  "language_info": {
   "codemirror_mode": {
    "name": "ipython",
    "version": 3
   },
   "file_extension": ".py",
   "mimetype": "text/x-python",
   "name": "python",
   "nbconvert_exporter": "python",
   "pygments_lexer": "ipython3",
   "version": "3.7.5"
  },
  "toc": {
   "base_numbering": 1,
   "nav_menu": {},
   "number_sections": true,
   "sideBar": true,
   "skip_h1_title": false,
   "title_cell": "Table of Contents",
   "title_sidebar": "Contents",
   "toc_cell": false,
   "toc_position": {},
   "toc_section_display": true,
   "toc_window_display": false
  },
  "varInspector": {
   "cols": {
    "lenName": 16,
    "lenType": 16,
    "lenVar": 40
   },
   "kernels_config": {
    "python": {
     "delete_cmd_postfix": "",
     "delete_cmd_prefix": "del ",
     "library": "var_list.py",
     "varRefreshCmd": "print(var_dic_list())"
    },
    "r": {
     "delete_cmd_postfix": ") ",
     "delete_cmd_prefix": "rm(",
     "library": "var_list.r",
     "varRefreshCmd": "cat(var_dic_list()) "
    }
   },
   "types_to_exclude": [
    "module",
    "function",
    "builtin_function_or_method",
    "instance",
    "_Feature"
   ],
   "window_display": false
  }
 },
 "nbformat": 4,
 "nbformat_minor": 2
}
