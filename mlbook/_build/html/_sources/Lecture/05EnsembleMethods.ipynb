{
 "cells": [
  {
   "cell_type": "markdown",
   "metadata": {},
   "source": [
    "# Ensemble Methods\n",
    "In machine learning ensemble methods combine multiple learners into a single one. The underlying idea is that **a complex task can be better mastered by an ensemble as by an individual**, if each member of\n",
    "the ensemble learns something diff\u001berent. A group of experts is supposed to be better than an individual with a quite broad knowledge. Obviously, a group of experts is useless, if all experts know the same. **The\n",
    "individual knowledge of the ensemble members should be as diverse as possible.** This requirement can be full\u001c",
    "lled by the following approaches:\n",
    "* Apply **di\u001bfferent training algorithms** (e.g. linear classi\u001c",
    "ers, neural networks, SVMs, ...) and/or di\u001bfferent con\u001c",
    "figurations of the training algorithms\n",
    "* Use **diff\u001berent training sets** for training the individual models and/or weight the samples of the training sets for each learner in a diff\u001berent way. However, for all variants of this type the set of used features is the same\n",
    "* For the individual learners use di\u001bfferent representations, i.e. **di\u001bfferent feature subsets**\n",
    "\n",
    "The single learners which constitute the ensemble are usually quite simple. E.g. a common approach is to apply decision trees as weak learners.\n",
    "\n",
    "The different types of ensemble learning methods differ in the way how the individual training-sets are designed and how they combine their learned knowledge.\n",
    "On an abstract level two different categories of ensemble learning are distinguished:\n",
    "* In the **parallel** approach each member performs individual training from scratch. The individual models are combined by weighted averaging. Methods of this class usually apply **bagging** for trainingdata selection.\n",
    "* Boosting models are build by **sequentially** learning member models. The model learned in phase $i$ has influence on the training of all following member models and of course on the overall ensemble model. \n",
    "\n",
    "For both categories algorithms for classi\u001c",
    "cation as well as regression exist.\n",
    "\n",
    "## Bagging\n",
    "Bagging can be considered to be a **parallel** approach: $B$ individual models are learned independent of each other. If all models are learned, the output of the ensemble is usually the average over the individual outputs:\n",
    "\n",
    "$$\n",
    "f_{bag}(x)=\\frac{1}{B}\\sum\\limits_{b=1}^B f_b(x)\n",
    "$$\n",
    "\n",
    "Here $x$ is the given input (feature vector), $f_b(x)$  is the output of the $b$.th model and $f_{bag}$ is the output of the ensemble. For bagging, the same learning algorithm (usually decision tree) is applied for all members of the ensemble. Diversity is provided by applying different training sets for each individual learner. The individual training sets are obtained by **bootstraping**: Let\n",
    "\n",
    "$$\n",
    "T=\\lbrace (x_1,r_1),(x_2,r_2),\\ldots,(x_N,r_N) \\rbrace\n",
    "$$ \n",
    "\n",
    "be the set of $N$ available training instances. For each individual learner randomly select a set of $N$ samples with replacement out of $T$. Due to the selection with replacement the training set of a single learner may contain some samples more than once, whereas other samples from $T$ are not included. There are about $N_S=\\frac{2}{3}N$ different elements in each bootstrap training set. The individual model will be adapted closer to the statistics of the training samples, that are contained  more than once, wheras the statistics of the not contained samples are disregarded.\n",
    "\n",
    "One main benefit of bagging is that it reduces variance. The variance of a learner refers to it's dependence on the training set. The variance is said to be high, if small changes in the training set yield large variations in the learned model and its output. Overfitted models usually have a large variance. \n",
    "\n",
    "Popular representatives of Bagging Machine Learning algorithms  \n",
    "\n",
    "* Random Forests\n",
    "* Extremely Randomized Trees\n",
    "\n",
    "Both of them are based on randomized decision trees. I.e. each individual learner is a randomized decision tree and the overall model is an ensemble of such trees."
   ]
  },
  {
   "cell_type": "markdown",
   "metadata": {},
   "source": [
    "<img src=\"https://maucher.home.hdm-stuttgart.de/Pics/bagging.png\" style=\"width:600px\" align=\"center\">"
   ]
  },
  {
   "cell_type": "markdown",
   "metadata": {},
   "source": [
    "### Random Forest\n",
    "In scikit-learn [RandomForestClassifier](http://scikit-learn.org/stable/modules/generated/sklearn.ensemble.RandomForestClassifier.html#sklearn.ensemble.RandomForestClassifier) and [RandomForestRegressor](http://scikit-learn.org/stable/modules/generated/sklearn.ensemble.RandomForestRegressor.html#sklearn.ensemble.RandomForestRegressor) are implemented. Each tree in the ensemble is built from a sample drawn with replacement (i.e., a bootstrap sample) from the training set. In addition, when splitting a node during the construction of the tree, the split that is chosen is no longer the best split among all features. Instead, the split that is picked is the best split among a random subset of the features. As a result of this randomness, the bias of the forest usually slightly increases (with respect to the bias of a single non-random tree) but, due to averaging, its variance also decreases, usually more than compensating for the increase in bias, hence yielding an overall better model. In contrast to the original publication, the scikit-learn implementation combines classifiers by averaging their probabilistic prediction, instead of letting each classifier vote for a single class (cited from: [http://scikit-learn.org/stable/modules/ensemble.html](http://scikit-learn.org/stable/modules/ensemble.html)).\n",
    "\n",
    "### Extremely Randomized Trees \n",
    "In extremely randomized trees (see [ExtraTreesClassifier](http://scikit-learn.org/stable/modules/generated/sklearn.ensemble.ExtraTreesClassifier.html#sklearn.ensemble.ExtraTreesClassifier) and [ExtraTreesRegressor](http://scikit-learn.org/stable/modules/generated/sklearn.ensemble.ExtraTreesRegressor.html#sklearn.ensemble.ExtraTreesRegressor) classes), randomness goes one step further in the way splits are computed. As in random forests, a random subset of candidate features is used, but instead of looking for the most discriminative thresholds, thresholds are drawn at random for each candidate feature and the best of these randomly-generated thresholds is picked as the splitting rule. This usually allows to reduce the variance of the model a bit more, at the expense of a slightly greater increase in bias (cited from: [http://scikit-learn.org/stable/modules/ensemble.html](http://scikit-learn.org/stable/modules/ensemble.html))."
   ]
  },
  {
   "cell_type": "markdown",
   "metadata": {},
   "source": [
    "## Boosting\n",
    "Boosting can be considered as a sequential approach. Usually a sequence of weak learners, each using the same learning algorithm, is combined such that each learner focuses on learning those patterns, which were unsufficiently processed by the previous learner. The weak classifiers must only be better than chance. The overall boosting algorithm is a linear combination of the individual weak classifiers.\n",
    "\n",
    "### Adaboost\n",
    "Adaboost has been one of the first boosting algorithms. It is an ensemble classifier and it is still applied in a wide range of applications, e.g. in Face Detection. The idea of Adaboost is sketched in the figure below: In the first stage (leftmost picture) all training samples are weighted equally. A weak learner is trained with this training set. Training samples, which are misclassified by the first learner obtain a larger weight in the training set of the second learner. Thus the learner will be more adapted to these previously missclassified patterns. The patterns, which are missclassified by the second learner obtain a larger weight in the training set for the third learner and so on. "
   ]
  },
  {
   "cell_type": "markdown",
   "metadata": {},
   "source": [
    "<img src=\"https://maucher.home.hdm-stuttgart.de/Pics/boostingSchema.PNG\" style=\"width:800px\" align=\"center\">"
   ]
  },
  {
   "cell_type": "markdown",
   "metadata": {},
   "source": [
    "The final classifier $f_{boost}(x)$ is a linear combination of the weak classifiers $f_m(x)$:\n",
    "\n",
    "$$\n",
    "f_{boost}(x)=\\sum\\limits_{m=1}^M \\alpha_m f_m(x)\n",
    "$$\n",
    "\n",
    "Individual learners $f_m(x)$ with a good performance contribute with a larger weight $\\alpha_m$ to the overall classifier, than weakly performing learners."
   ]
  },
  {
   "cell_type": "markdown",
   "metadata": {
    "run_control": {
     "marked": true
    }
   },
   "source": [
    "<img src=\"https://maucher.home.hdm-stuttgart.de/Pics/adaboostAlg.JPG\" style=\"width:600px\" align=\"center\">"
   ]
  },
  {
   "cell_type": "markdown",
   "metadata": {},
   "source": [
    "### Gradient Tree Boosting\n",
    "Gradient Tree Boosting is a generalization of boosting to arbitrary differentiable loss functions. The base-learners are Regression Trees. In [scikit-learn GradientBoostingClassifier](http://scikit-learn.org/stable/modules/generated/sklearn.ensemble.GradientBoostingClassifier.html#sklearn.ensemble.GradientBoostingClassifier) builds an additive model in a forward stage-wise fashion. It allows for the optimization of arbitrary differentiable loss functions. In each stage *n_classes_* regression trees are fit on the negative gradient of the binomial or multinomial deviance loss function. Binary classification is a special case where only a single regression tree is induced. In [scikit-learn GradientBoostingRegression](http://scikit-learn.org/stable/modules/generated/sklearn.ensemble.GradientBoostingRegressor.html#sklearn.ensemble.GradientBoostingRegressor) in each stage a regression tree is fit on the negative gradient of the given loss function."
   ]
  },
  {
   "cell_type": "code",
   "execution_count": null,
   "metadata": {
    "collapsed": true,
    "jupyter": {
     "outputs_hidden": true
    }
   },
   "outputs": [],
   "source": []
  }
 ],
 "metadata": {
  "anaconda-cloud": {},
  "kernelspec": {
   "display_name": "Python 3",
   "language": "python",
   "name": "python3"
  },
  "language_info": {
   "codemirror_mode": {
    "name": "ipython",
    "version": 3
   },
   "file_extension": ".py",
   "mimetype": "text/x-python",
   "name": "python",
   "nbconvert_exporter": "python",
   "pygments_lexer": "ipython3",
   "version": "3.7.5"
  },
  "nav_menu": {},
  "toc": {
   "base_numbering": 1,
   "nav_menu": {},
   "number_sections": true,
   "sideBar": false,
   "skip_h1_title": false,
   "title_cell": "Table of Contents",
   "title_sidebar": "Contents",
   "toc_cell": false,
   "toc_position": {},
   "toc_section_display": false,
   "toc_window_display": false
  }
 },
 "nbformat": 4,
 "nbformat_minor": 4
}
