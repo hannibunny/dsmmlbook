{
 "cells": [
  {
   "cell_type": "markdown",
   "metadata": {},
   "source": [
    "# Feature Selection and Extraction\n",
    "\n",
    "Algorithms for supervised Machine Learning require labeled training data. Usually the provision of labeled data is *expensive*. The question *How much data do we require to learn a robust model?* is of main interest. There is no unique answer to this question, but the *Curse of Dimensionality* states: *The number of required training data increases exponentially with the number of parameters, that must be learned*. The number of learnable parameters strongly depends on the number of features that are passed to the machine learning algorithm. Hence, one should avoid to pass features to the algorithm, which are not relevant. **Feature Selection** is the task of discriminating irrelevant from relevant features. This task can be realized e.g. by\n",
    "\n",
    "* statistical-tests and correlation analysis\n",
    "* data-visualization\n",
    "* domain-knowledge\n",
    "\n",
    "**Feature Extraction**, like Feature Selection, reduces the number of attributes, that are passed to the ML algorithm. However, feature extraction transforms the original space into a new, lower-dimensional space. The dimensions in the new space are usually not directly interpretable features, but e.g. linear combinations of the original features. Feature extraction methods such as the *Principal Component Analysis (PCA)* try to find a low-dimensional representation, in which a maximum ratio of the original information is retained, while redundancy is removed.   \n"
   ]
  },
  {
   "cell_type": "markdown",
   "metadata": {},
   "source": [
    "## Univariate Feature Selection Tests\n",
    "Goal of univariate feature selection is to select a set of most informative features, based on univariate statistical tests. In scikit-learn the following tests are available:\n",
    "\n",
    "* **Regression:** [Mutual Information for Regression](http://scikit-learn.org/stable/modules/generated/sklearn.feature_selection.mutual_info_regression.html#sklearn.feature_selection.mutual_info_regression), [f-measure for regression](http://scikit-learn.org/stable/modules/generated/sklearn.feature_selection.f_regression.html#sklearn.feature_selection.f_regression)\n",
    "* **Classification:** [Mutual Information for Classification](http://scikit-learn.org/stable/modules/generated/sklearn.feature_selection.mutual_info_classif.html#sklearn.feature_selection.mutual_info_classif), [$ \\chi^2 $-test](http://scikit-learn.org/stable/modules/generated/sklearn.feature_selection.chi2.html#sklearn.feature_selection.chi2), [f-measure for classification](http://scikit-learn.org/stable/modules/generated/sklearn.feature_selection.f_classif.html#sklearn.feature_selection.f_classif).\n",
    "\n",
    "For unsupervised learning for example the [sklearn.feature_selection.VarianceThreshold class](http://scikit-learn.org/stable/modules/generated/sklearn.feature_selection.VarianceThreshold.html#sklearn.feature_selection.VarianceThreshold) can be applied. This method just analysis the variance of a single feature and does not require a class-label or regression target-value.\n",
    "\n",
    "\n",
    "### Entropy\n",
    "\n",
    "The entropy of a discrete random variable $X$ measures the uncertainty of this random variable. It is calculated by\n",
    "\n",
    "\\begin{equation} H(X) = -\\sum_{x \\in X} p(x) \\log_2(p(x)). \n",
    "\\end{equation} \n",
    "\n",
    "The uncertainty is minimal ($H(X)=0$), if the variable has only one value. The uncertainty is maximal ($H(x)=\\log_2(K)$) if each of the $K$ possible values for $x$ appears equaly likely.\n",
    "\n",
    "### Mutual Information, Information Gain, Kullback-Leibler Divergence\n",
    "The **mutual information**  between two random variables measures how much knowing one of these variables reduces uncertainty about the other. For discrete random variables $X$ and $Y$ the mutual information is calculated as follows: \n",
    "\n",
    "\\begin{equation} \n",
    "I(X,Y) = \\sum_{y \\in Y} \\sum_{x \\in X} p(x,y) \\log_2 \\left( \\frac{p(x,y)}{p(x)p(y)} \\right), \n",
    "\\end{equation} \n",
    "\n",
    "and for continuous variables:\n",
    "\n",
    "\\begin{equation} \n",
    "I(X,Y) = \\int_{y \\in Y} \\int_{x \\in X} p(x,y) \\log_2 \\left( \\frac{p(x,y)}{p(x)p(y)} \\right) dx dy, \\end{equation} \n",
    "\n",
    "If $X$ and $Y$ are independent of each other, the mutual information is 0. A higher value indicates a stronger dependency between the pair of variables.\n",
    "Note that the estimated mutual information can also be negative. However, the [scikit-learn mutual_information function](http://scikit-learn.org/stable/modules/generated/sklearn.feature_selection.mutual_info_regression.html#sklearn.feature_selection.mutual_info_regression) returns 0, if the estimate would be negative.\n",
    "\n",
    "As in the example below, the mutual information is calculated between a single feature and the target variable. In the example below the mutual information between the feature `atemp` and `bikerental-count` is maximal. Features with a low mutual information, e.g. `holiday`, could be ignored.\n",
    "\n",
    "#### Relation of Mutual Information to other Metrics\n",
    "\n",
    "* Mutual Information is the same as **Information Gain**, which is an important measure for feature importance in the learning of decision trees and tree-based ensemble machine-learning algorithms.\n",
    "* As already mentioned above: Mutual information defines the uncertainty of a random variable $X$, if the value of another random variable $Y$ is known. The uncertainty-difference between the entropy $H(X)$ and $I(X,Y)$ is the conditional entropy $H(X|Y)$:\n",
    "\n",
    "\\begin{equation} \n",
    "I(X,Y) = H(X)-H(X|Y) = H(X)-\\sum_{y \\in Y} H(X|Y=y) \n",
    "\\end{equation}\n",
    "\n",
    "\\begin{equation} \n",
    "I(Y) = H(Y)-H(Y|X) = H(Y)-\\sum_{x \\in X} H(Y|X=x) \n",
    "\\end{equation}\n",
    "\n",
    "* Mutual information is the expected value of the **Pointwise Mutual Information (PMI):**\n",
    "\n",
    "\\begin{equation} \n",
    "PMI(X,Y) = \\log_2 \\left( \\frac{p(x,y)}{p(x)p(y)} \\right), \n",
    "\\end{equation} \n",
    "\n",
    "* The [Kullback–Leibler divergence](https://en.wikipedia.org/wiki/Kullback%E2%80%93Leibler_divergence) $D_{KL}(p(x)||q(y))$ is a measure of how one probability distribution $p(x)$ diverges from a second, expected probability distribution $q(y)$. Mutual information is the expected Kullback-Leibler divergence between the joint distribution $p(x,y)$ and the product of distributions $p(x)p(y)$.\n",
    "\n",
    "\\begin{equation} \n",
    "I(X,Y)=D_{KL}(p(x,y))||p(x)p(y))\n",
    "\\end{equation}\n"
   ]
  },
  {
   "cell_type": "markdown",
   "metadata": {},
   "source": [
    "#### Example for Mutual Information\n",
    "Import the userbehavior-data file into a pandas frame. The file contains artificial data of 15 persons, which tested a new application. The features are metrics, which have been tracked during the 3-week trial period. The class label `Service Chosen` defines, whether and which service the person purchased after the trial-period. In this example the mutual information of the feature `Read FAQ` with respect to the class label `Service Chosen` shall be calculated. "
   ]
  },
  {
   "cell_type": "code",
   "execution_count": 1,
   "metadata": {
    "ExecuteTime": {
     "end_time": "2018-02-07T07:18:56.084000Z",
     "start_time": "2018-02-07T08:18:54.628000+01:00"
    }
   },
   "outputs": [],
   "source": [
    "import pandas as pd\n",
    "import numpy as np\n",
    "from sklearn import feature_selection as fs"
   ]
  },
  {
   "cell_type": "code",
   "execution_count": 2,
   "metadata": {
    "ExecuteTime": {
     "end_time": "2018-02-07T07:18:56.131000Z",
     "start_time": "2018-02-07T08:18:56.084000+01:00"
    }
   },
   "outputs": [
    {
     "data": {
      "text/html": [
       "<div>\n",
       "<style scoped>\n",
       "    .dataframe tbody tr th:only-of-type {\n",
       "        vertical-align: middle;\n",
       "    }\n",
       "\n",
       "    .dataframe tbody tr th {\n",
       "        vertical-align: top;\n",
       "    }\n",
       "\n",
       "    .dataframe thead th {\n",
       "        text-align: right;\n",
       "    }\n",
       "</style>\n",
       "<table border=\"1\" class=\"dataframe\">\n",
       "  <thead>\n",
       "    <tr style=\"text-align: right;\">\n",
       "      <th></th>\n",
       "      <th>Referrer</th>\n",
       "      <th>Location</th>\n",
       "      <th>Read FAQ</th>\n",
       "      <th>Pages Viewed</th>\n",
       "      <th>Service Chosen</th>\n",
       "    </tr>\n",
       "  </thead>\n",
       "  <tbody>\n",
       "    <tr>\n",
       "      <th>0</th>\n",
       "      <td>Slashdot</td>\n",
       "      <td>USA</td>\n",
       "      <td>Yes</td>\n",
       "      <td>18</td>\n",
       "      <td>None</td>\n",
       "    </tr>\n",
       "    <tr>\n",
       "      <th>1</th>\n",
       "      <td>Google</td>\n",
       "      <td>France</td>\n",
       "      <td>Yes</td>\n",
       "      <td>23</td>\n",
       "      <td>Premium</td>\n",
       "    </tr>\n",
       "    <tr>\n",
       "      <th>2</th>\n",
       "      <td>Digg</td>\n",
       "      <td>USA</td>\n",
       "      <td>Yes</td>\n",
       "      <td>24</td>\n",
       "      <td>Basic</td>\n",
       "    </tr>\n",
       "    <tr>\n",
       "      <th>3</th>\n",
       "      <td>Kiwitobes</td>\n",
       "      <td>France</td>\n",
       "      <td>Yes</td>\n",
       "      <td>23</td>\n",
       "      <td>Basic</td>\n",
       "    </tr>\n",
       "    <tr>\n",
       "      <th>4</th>\n",
       "      <td>Google</td>\n",
       "      <td>UK</td>\n",
       "      <td>No</td>\n",
       "      <td>21</td>\n",
       "      <td>Premium</td>\n",
       "    </tr>\n",
       "    <tr>\n",
       "      <th>5</th>\n",
       "      <td>(direct)</td>\n",
       "      <td>NewZealand</td>\n",
       "      <td>No</td>\n",
       "      <td>12</td>\n",
       "      <td>None</td>\n",
       "    </tr>\n",
       "    <tr>\n",
       "      <th>6</th>\n",
       "      <td>(direct)</td>\n",
       "      <td>UK</td>\n",
       "      <td>No</td>\n",
       "      <td>21</td>\n",
       "      <td>Basic</td>\n",
       "    </tr>\n",
       "    <tr>\n",
       "      <th>7</th>\n",
       "      <td>Google</td>\n",
       "      <td>USA</td>\n",
       "      <td>No</td>\n",
       "      <td>24</td>\n",
       "      <td>Premium</td>\n",
       "    </tr>\n",
       "    <tr>\n",
       "      <th>8</th>\n",
       "      <td>Slashdot</td>\n",
       "      <td>France</td>\n",
       "      <td>Yes</td>\n",
       "      <td>19</td>\n",
       "      <td>None</td>\n",
       "    </tr>\n",
       "    <tr>\n",
       "      <th>9</th>\n",
       "      <td>Digg</td>\n",
       "      <td>USA</td>\n",
       "      <td>No</td>\n",
       "      <td>18</td>\n",
       "      <td>None</td>\n",
       "    </tr>\n",
       "    <tr>\n",
       "      <th>10</th>\n",
       "      <td>Google</td>\n",
       "      <td>UK</td>\n",
       "      <td>No</td>\n",
       "      <td>18</td>\n",
       "      <td>None</td>\n",
       "    </tr>\n",
       "    <tr>\n",
       "      <th>11</th>\n",
       "      <td>Kiwitobes</td>\n",
       "      <td>UK</td>\n",
       "      <td>No</td>\n",
       "      <td>19</td>\n",
       "      <td>None</td>\n",
       "    </tr>\n",
       "    <tr>\n",
       "      <th>12</th>\n",
       "      <td>Digg</td>\n",
       "      <td>NewZealand</td>\n",
       "      <td>Yes</td>\n",
       "      <td>12</td>\n",
       "      <td>Basic</td>\n",
       "    </tr>\n",
       "    <tr>\n",
       "      <th>13</th>\n",
       "      <td>Google</td>\n",
       "      <td>UK</td>\n",
       "      <td>Yes</td>\n",
       "      <td>18</td>\n",
       "      <td>Basic</td>\n",
       "    </tr>\n",
       "    <tr>\n",
       "      <th>14</th>\n",
       "      <td>Kiwitobes</td>\n",
       "      <td>France</td>\n",
       "      <td>Yes</td>\n",
       "      <td>19</td>\n",
       "      <td>Basic</td>\n",
       "    </tr>\n",
       "  </tbody>\n",
       "</table>\n",
       "</div>"
      ],
      "text/plain": [
       "     Referrer    Location Read FAQ  Pages Viewed Service Chosen\n",
       "0    Slashdot         USA      Yes            18           None\n",
       "1      Google      France      Yes            23        Premium\n",
       "2        Digg         USA      Yes            24          Basic\n",
       "3   Kiwitobes      France      Yes            23          Basic\n",
       "4      Google          UK       No            21        Premium\n",
       "5    (direct)  NewZealand       No            12           None\n",
       "6    (direct)          UK       No            21          Basic\n",
       "7      Google         USA       No            24        Premium\n",
       "8    Slashdot      France      Yes            19           None\n",
       "9        Digg         USA       No            18           None\n",
       "10     Google          UK       No            18           None\n",
       "11  Kiwitobes          UK       No            19           None\n",
       "12       Digg  NewZealand      Yes            12          Basic\n",
       "13     Google          UK      Yes            18          Basic\n",
       "14  Kiwitobes      France      Yes            19          Basic"
      ]
     },
     "execution_count": 2,
     "metadata": {},
     "output_type": "execute_result"
    }
   ],
   "source": [
    "userData=pd.read_csv('../Data/userbehavior.txt')\n",
    "header=list(userData.columns)\n",
    "userData"
   ]
  },
  {
   "cell_type": "markdown",
   "metadata": {},
   "source": [
    "First the `crosstab`-method of pandas is applied to calculate the contingency table of the two variables. The entries of this table are the joint frequencies of the values of the considered variables."
   ]
  },
  {
   "cell_type": "code",
   "execution_count": 3,
   "metadata": {
    "ExecuteTime": {
     "end_time": "2018-02-07T07:18:56.224000Z",
     "start_time": "2018-02-07T08:18:56.146000+01:00"
    }
   },
   "outputs": [
    {
     "data": {
      "text/html": [
       "<div>\n",
       "<style scoped>\n",
       "    .dataframe tbody tr th:only-of-type {\n",
       "        vertical-align: middle;\n",
       "    }\n",
       "\n",
       "    .dataframe tbody tr th {\n",
       "        vertical-align: top;\n",
       "    }\n",
       "\n",
       "    .dataframe thead th {\n",
       "        text-align: right;\n",
       "    }\n",
       "</style>\n",
       "<table border=\"1\" class=\"dataframe\">\n",
       "  <thead>\n",
       "    <tr style=\"text-align: right;\">\n",
       "      <th>Service Chosen</th>\n",
       "      <th>Basic</th>\n",
       "      <th>None</th>\n",
       "      <th>Premium</th>\n",
       "    </tr>\n",
       "    <tr>\n",
       "      <th>Read FAQ</th>\n",
       "      <th></th>\n",
       "      <th></th>\n",
       "      <th></th>\n",
       "    </tr>\n",
       "  </thead>\n",
       "  <tbody>\n",
       "    <tr>\n",
       "      <th>No</th>\n",
       "      <td>1</td>\n",
       "      <td>4</td>\n",
       "      <td>2</td>\n",
       "    </tr>\n",
       "    <tr>\n",
       "      <th>Yes</th>\n",
       "      <td>5</td>\n",
       "      <td>2</td>\n",
       "      <td>1</td>\n",
       "    </tr>\n",
       "  </tbody>\n",
       "</table>\n",
       "</div>"
      ],
      "text/plain": [
       "Service Chosen  Basic  None  Premium\n",
       "Read FAQ                            \n",
       "No                  1     4        2\n",
       "Yes                 5     2        1"
      ]
     },
     "metadata": {},
     "output_type": "display_data"
    },
    {
     "data": {
      "text/html": [
       "<div>\n",
       "<style scoped>\n",
       "    .dataframe tbody tr th:only-of-type {\n",
       "        vertical-align: middle;\n",
       "    }\n",
       "\n",
       "    .dataframe tbody tr th {\n",
       "        vertical-align: top;\n",
       "    }\n",
       "\n",
       "    .dataframe thead th {\n",
       "        text-align: right;\n",
       "    }\n",
       "</style>\n",
       "<table border=\"1\" class=\"dataframe\">\n",
       "  <thead>\n",
       "    <tr style=\"text-align: right;\">\n",
       "      <th>Service Chosen</th>\n",
       "      <th>Basic</th>\n",
       "      <th>None</th>\n",
       "      <th>Premium</th>\n",
       "      <th>All</th>\n",
       "    </tr>\n",
       "    <tr>\n",
       "      <th>Read FAQ</th>\n",
       "      <th></th>\n",
       "      <th></th>\n",
       "      <th></th>\n",
       "      <th></th>\n",
       "    </tr>\n",
       "  </thead>\n",
       "  <tbody>\n",
       "    <tr>\n",
       "      <th>No</th>\n",
       "      <td>1</td>\n",
       "      <td>4</td>\n",
       "      <td>2</td>\n",
       "      <td>7</td>\n",
       "    </tr>\n",
       "    <tr>\n",
       "      <th>Yes</th>\n",
       "      <td>5</td>\n",
       "      <td>2</td>\n",
       "      <td>1</td>\n",
       "      <td>8</td>\n",
       "    </tr>\n",
       "    <tr>\n",
       "      <th>All</th>\n",
       "      <td>6</td>\n",
       "      <td>6</td>\n",
       "      <td>3</td>\n",
       "      <td>15</td>\n",
       "    </tr>\n",
       "  </tbody>\n",
       "</table>\n",
       "</div>"
      ],
      "text/plain": [
       "Service Chosen  Basic  None  Premium  All\n",
       "Read FAQ                                 \n",
       "No                  1     4        2    7\n",
       "Yes                 5     2        1    8\n",
       "All                 6     6        3   15"
      ]
     },
     "metadata": {},
     "output_type": "display_data"
    }
   ],
   "source": [
    "freqtab=pd.crosstab(index=userData[\"Read FAQ\"],columns=userData[\"Service Chosen\"])\n",
    "display(freqtab)\n",
    "freqtabMargins=pd.crosstab(index=userData[\"Read FAQ\"],columns=userData[\"Service Chosen\"],margins=True)\n",
    "display(freqtabMargins)"
   ]
  },
  {
   "cell_type": "markdown",
   "metadata": {},
   "source": [
    "**Variant 1:** Manually calculate the mutual information according to the formula \\begin{equation} I(X,Y) = \\sum_{y \\in Y} \\sum_{x \\in X} p(x,y) \\log_2 \\left( \\frac{p(x,y)}{p(x)p(y)} \\right), \\end{equation}"
   ]
  },
  {
   "cell_type": "code",
   "execution_count": 4,
   "metadata": {
    "ExecuteTime": {
     "end_time": "2018-02-07T07:18:56.240000Z",
     "start_time": "2018-02-07T08:18:56.224000+01:00"
    }
   },
   "outputs": [
    {
     "name": "stdout",
     "output_type": "stream",
     "text": [
      "Mutual Information of feature Read FAQ:  0.18580516288960103\n"
     ]
    }
   ],
   "source": [
    "mutualinf=0\n",
    "for row in [\"No\",\"Yes\"]:\n",
    "    for col in [\"Basic\",\"None\",\"Premium\"]:\n",
    "        pxy=float(freqtabMargins.loc[row][col])/freqtabMargins.loc[\"All\"][\"All\"]\n",
    "        px=float(freqtabMargins.loc[\"All\"][col])/freqtabMargins.loc[\"All\"][\"All\"]\n",
    "        py=float(freqtabMargins.loc[row][\"All\"])/freqtabMargins.loc[\"All\"][\"All\"]\n",
    "        mutualinf+=pxy*np.log2(pxy/(px*py))\n",
    "print(\"Mutual Information of feature Read FAQ: \",mutualinf)"
   ]
  },
  {
   "cell_type": "markdown",
   "metadata": {},
   "source": [
    "Knowing the value of `Read FAQ` reduces the uncertainty on the class label by an amount of $0.186$."
   ]
  },
  {
   "cell_type": "markdown",
   "metadata": {},
   "source": [
    "**Variant 2:** Next, we manually calculate the mutual information by applying the information-gain-formula\n",
    "\\begin{equation} I(X,Y) = H(X)-H(X|Y) = H(X)-\\sum_{y \\in Y} H(X|Y=y) \\end{equation} \n",
    "In this approach, we first calculate the uncertainty (entropie) of the class-label, then the uncertainties for given values of `Read FAQ` are calculated. This is the usual formula to calculate *information gain*, which is actually the same as mutual information."
   ]
  },
  {
   "cell_type": "code",
   "execution_count": 5,
   "metadata": {
    "ExecuteTime": {
     "end_time": "2018-02-07T07:18:56.271000Z",
     "start_time": "2018-02-07T08:18:56.240000+01:00"
    }
   },
   "outputs": [
    {
     "name": "stdout",
     "output_type": "stream",
     "text": [
      "Uncertainty of class label:  1.5219280948873621\n"
     ]
    }
   ],
   "source": [
    "EntropieAll=-1*np.sum([float(p)/freqtabMargins.loc[\"All\"][3]\n",
    "                       *np.log2(float(p)/freqtabMargins.loc[\"All\"][3]) \n",
    "                       for p in freqtabMargins.loc[\"All\"]])\n",
    "print(\"Uncertainty of class label: \",EntropieAll)"
   ]
  },
  {
   "cell_type": "code",
   "execution_count": 6,
   "metadata": {
    "ExecuteTime": {
     "end_time": "2018-02-07T07:18:56.334000Z",
     "start_time": "2018-02-07T08:18:56.287000+01:00"
    }
   },
   "outputs": [
    {
     "name": "stdout",
     "output_type": "stream",
     "text": [
      "Uncertainty of class label if READ FAQ = No:  1.3787834934861753\n"
     ]
    }
   ],
   "source": [
    "EntropieNo=-1*np.sum([float(p)/freqtabMargins.loc[\"No\"][3]\n",
    "                      *np.log2(float(p)/freqtabMargins.loc[\"No\"][3]) \n",
    "                      for p in freqtabMargins.loc[\"No\"]])\n",
    "print(\"Uncertainty of class label if READ FAQ = No: \",EntropieNo)"
   ]
  },
  {
   "cell_type": "code",
   "execution_count": 7,
   "metadata": {
    "ExecuteTime": {
     "end_time": "2018-02-07T07:18:56.365000Z",
     "start_time": "2018-02-07T08:18:56.334000+01:00"
    }
   },
   "outputs": [
    {
     "name": "stdout",
     "output_type": "stream",
     "text": [
      "Uncertainty of class label if READ FAQ = Yes:  1.2987949406953985\n"
     ]
    }
   ],
   "source": [
    "EntropieYes=-1*np.sum([float(p)/freqtabMargins.loc[\"Yes\"][3]\n",
    "                       *np.log2(float(p)/freqtabMargins.loc[\"Yes\"][3]) \n",
    "                       for p in freqtabMargins.loc[\"Yes\"]])\n",
    "print(\"Uncertainty of class label if READ FAQ = Yes: \",EntropieYes)"
   ]
  },
  {
   "cell_type": "code",
   "execution_count": 8,
   "metadata": {
    "ExecuteTime": {
     "end_time": "2018-02-07T07:18:56.381000Z",
     "start_time": "2018-02-07T08:18:56.365000+01:00"
    },
    "scrolled": true
   },
   "outputs": [
    {
     "name": "stdout",
     "output_type": "stream",
     "text": [
      "Mutual Information of feature Read FAQ:  0.18580516288960114\n"
     ]
    }
   ],
   "source": [
    "MutualInfReadFAQ=EntropieAll-(7.0/15*EntropieNo+8.0/15*EntropieYes)\n",
    "print(\"Mutual Information of feature Read FAQ: \",MutualInfReadFAQ)"
   ]
  },
  {
   "cell_type": "markdown",
   "metadata": {},
   "source": [
    "**Variant 3:** Apply [scikit-learn function sklearn.feature_selection.mutual_info_classif](http://scikit-learn.org/stable/modules/generated/sklearn.feature_selection.mutual_info_classif.html) for calculation of mutual information. In order to apply this function, the non-numeric variables must first be transformed into a numeric format. For this the `LabelEncoder` of `scikit-learn` is applied: "
   ]
  },
  {
   "cell_type": "code",
   "execution_count": 9,
   "metadata": {
    "ExecuteTime": {
     "end_time": "2018-02-07T07:18:56.474000Z",
     "start_time": "2018-02-07T08:18:56.428000+01:00"
    },
    "scrolled": false
   },
   "outputs": [
    {
     "data": {
      "text/html": [
       "<div>\n",
       "<style scoped>\n",
       "    .dataframe tbody tr th:only-of-type {\n",
       "        vertical-align: middle;\n",
       "    }\n",
       "\n",
       "    .dataframe tbody tr th {\n",
       "        vertical-align: top;\n",
       "    }\n",
       "\n",
       "    .dataframe thead th {\n",
       "        text-align: right;\n",
       "    }\n",
       "</style>\n",
       "<table border=\"1\" class=\"dataframe\">\n",
       "  <thead>\n",
       "    <tr style=\"text-align: right;\">\n",
       "      <th></th>\n",
       "      <th>Referrer</th>\n",
       "      <th>Location</th>\n",
       "      <th>Read FAQ</th>\n",
       "      <th>Pages Viewed</th>\n",
       "      <th>Service Chosen</th>\n",
       "    </tr>\n",
       "  </thead>\n",
       "  <tbody>\n",
       "    <tr>\n",
       "      <th>0</th>\n",
       "      <td>Slashdot</td>\n",
       "      <td>USA</td>\n",
       "      <td>Yes</td>\n",
       "      <td>18</td>\n",
       "      <td>None</td>\n",
       "    </tr>\n",
       "    <tr>\n",
       "      <th>1</th>\n",
       "      <td>Google</td>\n",
       "      <td>France</td>\n",
       "      <td>Yes</td>\n",
       "      <td>23</td>\n",
       "      <td>Premium</td>\n",
       "    </tr>\n",
       "    <tr>\n",
       "      <th>2</th>\n",
       "      <td>Digg</td>\n",
       "      <td>USA</td>\n",
       "      <td>Yes</td>\n",
       "      <td>24</td>\n",
       "      <td>Basic</td>\n",
       "    </tr>\n",
       "    <tr>\n",
       "      <th>3</th>\n",
       "      <td>Kiwitobes</td>\n",
       "      <td>France</td>\n",
       "      <td>Yes</td>\n",
       "      <td>23</td>\n",
       "      <td>Basic</td>\n",
       "    </tr>\n",
       "    <tr>\n",
       "      <th>4</th>\n",
       "      <td>Google</td>\n",
       "      <td>UK</td>\n",
       "      <td>No</td>\n",
       "      <td>21</td>\n",
       "      <td>Premium</td>\n",
       "    </tr>\n",
       "    <tr>\n",
       "      <th>5</th>\n",
       "      <td>(direct)</td>\n",
       "      <td>NewZealand</td>\n",
       "      <td>No</td>\n",
       "      <td>12</td>\n",
       "      <td>None</td>\n",
       "    </tr>\n",
       "    <tr>\n",
       "      <th>6</th>\n",
       "      <td>(direct)</td>\n",
       "      <td>UK</td>\n",
       "      <td>No</td>\n",
       "      <td>21</td>\n",
       "      <td>Basic</td>\n",
       "    </tr>\n",
       "    <tr>\n",
       "      <th>7</th>\n",
       "      <td>Google</td>\n",
       "      <td>USA</td>\n",
       "      <td>No</td>\n",
       "      <td>24</td>\n",
       "      <td>Premium</td>\n",
       "    </tr>\n",
       "    <tr>\n",
       "      <th>8</th>\n",
       "      <td>Slashdot</td>\n",
       "      <td>France</td>\n",
       "      <td>Yes</td>\n",
       "      <td>19</td>\n",
       "      <td>None</td>\n",
       "    </tr>\n",
       "    <tr>\n",
       "      <th>9</th>\n",
       "      <td>Digg</td>\n",
       "      <td>USA</td>\n",
       "      <td>No</td>\n",
       "      <td>18</td>\n",
       "      <td>None</td>\n",
       "    </tr>\n",
       "    <tr>\n",
       "      <th>10</th>\n",
       "      <td>Google</td>\n",
       "      <td>UK</td>\n",
       "      <td>No</td>\n",
       "      <td>18</td>\n",
       "      <td>None</td>\n",
       "    </tr>\n",
       "    <tr>\n",
       "      <th>11</th>\n",
       "      <td>Kiwitobes</td>\n",
       "      <td>UK</td>\n",
       "      <td>No</td>\n",
       "      <td>19</td>\n",
       "      <td>None</td>\n",
       "    </tr>\n",
       "    <tr>\n",
       "      <th>12</th>\n",
       "      <td>Digg</td>\n",
       "      <td>NewZealand</td>\n",
       "      <td>Yes</td>\n",
       "      <td>12</td>\n",
       "      <td>Basic</td>\n",
       "    </tr>\n",
       "    <tr>\n",
       "      <th>13</th>\n",
       "      <td>Google</td>\n",
       "      <td>UK</td>\n",
       "      <td>Yes</td>\n",
       "      <td>18</td>\n",
       "      <td>Basic</td>\n",
       "    </tr>\n",
       "    <tr>\n",
       "      <th>14</th>\n",
       "      <td>Kiwitobes</td>\n",
       "      <td>France</td>\n",
       "      <td>Yes</td>\n",
       "      <td>19</td>\n",
       "      <td>Basic</td>\n",
       "    </tr>\n",
       "  </tbody>\n",
       "</table>\n",
       "</div>"
      ],
      "text/plain": [
       "     Referrer    Location Read FAQ  Pages Viewed Service Chosen\n",
       "0    Slashdot         USA      Yes            18           None\n",
       "1      Google      France      Yes            23        Premium\n",
       "2        Digg         USA      Yes            24          Basic\n",
       "3   Kiwitobes      France      Yes            23          Basic\n",
       "4      Google          UK       No            21        Premium\n",
       "5    (direct)  NewZealand       No            12           None\n",
       "6    (direct)          UK       No            21          Basic\n",
       "7      Google         USA       No            24        Premium\n",
       "8    Slashdot      France      Yes            19           None\n",
       "9        Digg         USA       No            18           None\n",
       "10     Google          UK       No            18           None\n",
       "11  Kiwitobes          UK       No            19           None\n",
       "12       Digg  NewZealand      Yes            12          Basic\n",
       "13     Google          UK      Yes            18          Basic\n",
       "14  Kiwitobes      France      Yes            19          Basic"
      ]
     },
     "metadata": {},
     "output_type": "display_data"
    },
    {
     "data": {
      "text/html": [
       "<div>\n",
       "<style scoped>\n",
       "    .dataframe tbody tr th:only-of-type {\n",
       "        vertical-align: middle;\n",
       "    }\n",
       "\n",
       "    .dataframe tbody tr th {\n",
       "        vertical-align: top;\n",
       "    }\n",
       "\n",
       "    .dataframe thead th {\n",
       "        text-align: right;\n",
       "    }\n",
       "</style>\n",
       "<table border=\"1\" class=\"dataframe\">\n",
       "  <thead>\n",
       "    <tr style=\"text-align: right;\">\n",
       "      <th></th>\n",
       "      <th>Referrer</th>\n",
       "      <th>Location</th>\n",
       "      <th>Read FAQ</th>\n",
       "      <th>Pages Viewed</th>\n",
       "      <th>Service Chosen</th>\n",
       "    </tr>\n",
       "  </thead>\n",
       "  <tbody>\n",
       "    <tr>\n",
       "      <th>0</th>\n",
       "      <td>4</td>\n",
       "      <td>3</td>\n",
       "      <td>1</td>\n",
       "      <td>18</td>\n",
       "      <td>1</td>\n",
       "    </tr>\n",
       "    <tr>\n",
       "      <th>1</th>\n",
       "      <td>2</td>\n",
       "      <td>0</td>\n",
       "      <td>1</td>\n",
       "      <td>23</td>\n",
       "      <td>2</td>\n",
       "    </tr>\n",
       "    <tr>\n",
       "      <th>2</th>\n",
       "      <td>1</td>\n",
       "      <td>3</td>\n",
       "      <td>1</td>\n",
       "      <td>24</td>\n",
       "      <td>0</td>\n",
       "    </tr>\n",
       "    <tr>\n",
       "      <th>3</th>\n",
       "      <td>3</td>\n",
       "      <td>0</td>\n",
       "      <td>1</td>\n",
       "      <td>23</td>\n",
       "      <td>0</td>\n",
       "    </tr>\n",
       "    <tr>\n",
       "      <th>4</th>\n",
       "      <td>2</td>\n",
       "      <td>2</td>\n",
       "      <td>0</td>\n",
       "      <td>21</td>\n",
       "      <td>2</td>\n",
       "    </tr>\n",
       "    <tr>\n",
       "      <th>5</th>\n",
       "      <td>0</td>\n",
       "      <td>1</td>\n",
       "      <td>0</td>\n",
       "      <td>12</td>\n",
       "      <td>1</td>\n",
       "    </tr>\n",
       "    <tr>\n",
       "      <th>6</th>\n",
       "      <td>0</td>\n",
       "      <td>2</td>\n",
       "      <td>0</td>\n",
       "      <td>21</td>\n",
       "      <td>0</td>\n",
       "    </tr>\n",
       "    <tr>\n",
       "      <th>7</th>\n",
       "      <td>2</td>\n",
       "      <td>3</td>\n",
       "      <td>0</td>\n",
       "      <td>24</td>\n",
       "      <td>2</td>\n",
       "    </tr>\n",
       "    <tr>\n",
       "      <th>8</th>\n",
       "      <td>4</td>\n",
       "      <td>0</td>\n",
       "      <td>1</td>\n",
       "      <td>19</td>\n",
       "      <td>1</td>\n",
       "    </tr>\n",
       "    <tr>\n",
       "      <th>9</th>\n",
       "      <td>1</td>\n",
       "      <td>3</td>\n",
       "      <td>0</td>\n",
       "      <td>18</td>\n",
       "      <td>1</td>\n",
       "    </tr>\n",
       "    <tr>\n",
       "      <th>10</th>\n",
       "      <td>2</td>\n",
       "      <td>2</td>\n",
       "      <td>0</td>\n",
       "      <td>18</td>\n",
       "      <td>1</td>\n",
       "    </tr>\n",
       "    <tr>\n",
       "      <th>11</th>\n",
       "      <td>3</td>\n",
       "      <td>2</td>\n",
       "      <td>0</td>\n",
       "      <td>19</td>\n",
       "      <td>1</td>\n",
       "    </tr>\n",
       "    <tr>\n",
       "      <th>12</th>\n",
       "      <td>1</td>\n",
       "      <td>1</td>\n",
       "      <td>1</td>\n",
       "      <td>12</td>\n",
       "      <td>0</td>\n",
       "    </tr>\n",
       "    <tr>\n",
       "      <th>13</th>\n",
       "      <td>2</td>\n",
       "      <td>2</td>\n",
       "      <td>1</td>\n",
       "      <td>18</td>\n",
       "      <td>0</td>\n",
       "    </tr>\n",
       "    <tr>\n",
       "      <th>14</th>\n",
       "      <td>3</td>\n",
       "      <td>0</td>\n",
       "      <td>1</td>\n",
       "      <td>19</td>\n",
       "      <td>0</td>\n",
       "    </tr>\n",
       "  </tbody>\n",
       "</table>\n",
       "</div>"
      ],
      "text/plain": [
       "    Referrer  Location  Read FAQ  Pages Viewed  Service Chosen\n",
       "0          4         3         1            18               1\n",
       "1          2         0         1            23               2\n",
       "2          1         3         1            24               0\n",
       "3          3         0         1            23               0\n",
       "4          2         2         0            21               2\n",
       "5          0         1         0            12               1\n",
       "6          0         2         0            21               0\n",
       "7          2         3         0            24               2\n",
       "8          4         0         1            19               1\n",
       "9          1         3         0            18               1\n",
       "10         2         2         0            18               1\n",
       "11         3         2         0            19               1\n",
       "12         1         1         1            12               0\n",
       "13         2         2         1            18               0\n",
       "14         3         0         1            19               0"
      ]
     },
     "metadata": {},
     "output_type": "display_data"
    }
   ],
   "source": [
    "from sklearn.preprocessing import LabelEncoder\n",
    "X= userData.values\n",
    "display(userData)\n",
    "catCols=[\"Referrer\",\"Location\",\"Read FAQ\",\"Service Chosen\"]\n",
    "for c in catCols:\n",
    "    enclabel= LabelEncoder()\n",
    "    userData[c] = enclabel.fit_transform(userData[c].values)\n",
    "display(userData)"
   ]
  },
  {
   "cell_type": "code",
   "execution_count": 10,
   "metadata": {
    "ExecuteTime": {
     "end_time": "2018-02-07T07:18:56.506000Z",
     "start_time": "2018-02-07T08:18:56.490000+01:00"
    }
   },
   "outputs": [
    {
     "name": "stdout",
     "output_type": "stream",
     "text": [
      "Mutual information of feature Referrer : 0.391\n",
      "Mutual information of feature Location : 0.056\n",
      "Mutual information of feature Read FAQ : 0.129\n",
      "Mutual information of feature Pages Viewed : 0.408\n"
     ]
    }
   ],
   "source": [
    "featureCols=[\"Referrer\",\"Location\",\"Read FAQ\",\"Pages Viewed\"]\n",
    "X=userData[featureCols].values\n",
    "y=userData[\"Service Chosen\"].values\n",
    "mi_all=fs.mutual_info_classif(X,y,discrete_features=True)\n",
    "for i,f in enumerate(featureCols):\n",
    "    print(\"Mutual information of feature %s : %1.3f\"%(f,mi_all[i]))"
   ]
  },
  {
   "cell_type": "markdown",
   "metadata": {},
   "source": [
    "As can be seen the mutual information for `Read FAQ` is not equal to the values calculated manually in variant 1 and 2. This is because [scikit-learn function sklearn.feature_selection.mutual_info_classif](http://scikit-learn.org/stable/modules/generated/sklearn.feature_selection.mutual_info_classif.html) applies an approximation for the mutual-information-calculation."
   ]
  },
  {
   "cell_type": "markdown",
   "metadata": {},
   "source": [
    "### $\\chi^2$-Test\n",
    "If two random variables $X$ and $Y$ are independent, then $P(X \\cap Y)=P(X) \\cdot P(Y)$. Hence, independence can be tested by determining the difference between the joint probability $P(X \\cap Y)$ and the product $P(X) \\cdot P(Y)$. If this difference is small, then the 2 variables can be assumed to be independent. \n",
    "\n",
    "The chi-square test of independence is based on the idea, which has been described above. The test defines a metric for measuring the difference between $P(X \\cap Y)$ and the product $P(X) \\cdot P(Y)$. This metric is\n",
    "\n",
    "$$\n",
    "\\chi^2=\\sum\\limits_{i \\in D_X} \\sum\\limits_{j \\in D_Y} \\frac{(f_{ij}-e_{ij})^2}{e_{ij}},\n",
    "$$\n",
    "\n",
    "where $D_X$ and $D_Y$ are the value ranges of $X$ and $Y$, respectively. $f_{ij}$ is the observed frequency count of events belonging to both $X=i$ and $Y=j$. The values $e_{ij}$ are the corresponding expected count if $X$ and $Y$ are independent. It is assumed that the $\\chi^2$-value is distributed according to a [$\\chi^2$-distribution](https://en.wikipedia.org/wiki/Chi-squared_distribution) with \n",
    "\n",
    "$$\n",
    "k=|D_X-1|\\cdot |D_Y-1|\n",
    "$$ \n",
    "\n",
    "degrees of freedom.\n",
    "\n",
    "The probability-density function of $\\chi^2$-distributions for different degrees of freedom are plotted in the code cell below:\n"
   ]
  },
  {
   "cell_type": "code",
   "execution_count": 11,
   "metadata": {
    "ExecuteTime": {
     "end_time": "2018-02-07T07:18:57.287000Z",
     "start_time": "2018-02-07T08:18:57.068000+01:00"
    }
   },
   "outputs": [],
   "source": [
    "from scipy.stats import chi2\n",
    "import matplotlib.pyplot as plt"
   ]
  },
  {
   "cell_type": "code",
   "execution_count": 12,
   "metadata": {
    "ExecuteTime": {
     "end_time": "2018-02-07T07:18:58.345000Z",
     "start_time": "2018-02-07T08:18:57.287000+01:00"
    }
   },
   "outputs": [
    {
     "data": {
      "image/png": "[encoded data removed]",
      "text/plain": [
       "<Figure size 864x576 with 1 Axes>"
      ]
     },
     "metadata": {
      "filenames": {
       "image/png": "/Users/johannes/gitprojects/dsmmlbook/mlbook/_build/jupyter_execute/Lecture/12FeatureSelection_21_0.png"
      },
      "needs_background": "light"
     },
     "output_type": "display_data"
    }
   ],
   "source": [
    "dfset = [1,3,5,7,9]\n",
    "palette = plt.get_cmap('Set1')\n",
    "x = np.linspace(chi2.ppf(0.01, 9),chi2.ppf(0.99, 9), 100)\n",
    "plt.figure(figsize=(12,8))\n",
    "num=0\n",
    "for df in dfset:\n",
    "    rv = chi2(df)\n",
    "    plt.plot(x, rv.pdf(x), '-',color=palette(num), \n",
    "             lw=2, label=\"df=\"+str(dfset[num]))\n",
    "    num+=1\n",
    "plt.legend()\n",
    "plt.grid(True)\n",
    "plt.title(\"$\\chi^2$-distribution for different degrees of freedom\")\n",
    "plt.xlabel(\"$\\chi^2$-value\")\n",
    "plt.ylabel(\"p\")\n",
    "plt.show()\n"
   ]
  },
  {
   "cell_type": "markdown",
   "metadata": {},
   "source": [
    "The $\\chi^2$-test returns 2 values: the $\\chi^2$-value and the corresponding $p-value$. As can be seen in the $\\chi^2$-distribution plot above, higher values for $\\chi^2$ yield a smaller $p$. Usually for a p-value less than $0.05$, the null-hypotheses, which states that the two variables $X$ and $Y$ are independent, is rejected. In this case the two variables are considered to be dependent."
   ]
  },
  {
   "cell_type": "markdown",
   "metadata": {},
   "source": [
    "#### Example for $\\chi^2$-test\n",
    "Import the insurance-data file into a pandas frame. The file contains data for 1338 clients of an insurance company. In this example the $\\chi^2$-test shall be applied to test whether the variables `sex` and `smoker` are independent.  "
   ]
  },
  {
   "cell_type": "code",
   "execution_count": 13,
   "metadata": {
    "ExecuteTime": {
     "end_time": "2018-02-07T07:18:58.392000Z",
     "start_time": "2018-02-07T08:18:58.345000+01:00"
    }
   },
   "outputs": [
    {
     "data": {
      "text/html": [
       "<div>\n",
       "<style scoped>\n",
       "    .dataframe tbody tr th:only-of-type {\n",
       "        vertical-align: middle;\n",
       "    }\n",
       "\n",
       "    .dataframe tbody tr th {\n",
       "        vertical-align: top;\n",
       "    }\n",
       "\n",
       "    .dataframe thead th {\n",
       "        text-align: right;\n",
       "    }\n",
       "</style>\n",
       "<table border=\"1\" class=\"dataframe\">\n",
       "  <thead>\n",
       "    <tr style=\"text-align: right;\">\n",
       "      <th></th>\n",
       "      <th>age</th>\n",
       "      <th>sex</th>\n",
       "      <th>bmi</th>\n",
       "      <th>children</th>\n",
       "      <th>smoker</th>\n",
       "      <th>region</th>\n",
       "      <th>charges</th>\n",
       "    </tr>\n",
       "  </thead>\n",
       "  <tbody>\n",
       "    <tr>\n",
       "      <th>0</th>\n",
       "      <td>19</td>\n",
       "      <td>female</td>\n",
       "      <td>27.900</td>\n",
       "      <td>0</td>\n",
       "      <td>yes</td>\n",
       "      <td>southwest</td>\n",
       "      <td>16884.92400</td>\n",
       "    </tr>\n",
       "    <tr>\n",
       "      <th>1</th>\n",
       "      <td>18</td>\n",
       "      <td>male</td>\n",
       "      <td>33.770</td>\n",
       "      <td>1</td>\n",
       "      <td>no</td>\n",
       "      <td>southeast</td>\n",
       "      <td>1725.55230</td>\n",
       "    </tr>\n",
       "    <tr>\n",
       "      <th>2</th>\n",
       "      <td>28</td>\n",
       "      <td>male</td>\n",
       "      <td>33.000</td>\n",
       "      <td>3</td>\n",
       "      <td>no</td>\n",
       "      <td>southeast</td>\n",
       "      <td>4449.46200</td>\n",
       "    </tr>\n",
       "    <tr>\n",
       "      <th>3</th>\n",
       "      <td>33</td>\n",
       "      <td>male</td>\n",
       "      <td>22.705</td>\n",
       "      <td>0</td>\n",
       "      <td>no</td>\n",
       "      <td>northwest</td>\n",
       "      <td>21984.47061</td>\n",
       "    </tr>\n",
       "    <tr>\n",
       "      <th>4</th>\n",
       "      <td>32</td>\n",
       "      <td>male</td>\n",
       "      <td>28.880</td>\n",
       "      <td>0</td>\n",
       "      <td>no</td>\n",
       "      <td>northwest</td>\n",
       "      <td>3866.85520</td>\n",
       "    </tr>\n",
       "  </tbody>\n",
       "</table>\n",
       "</div>"
      ],
      "text/plain": [
       "   age     sex     bmi  children smoker     region      charges\n",
       "0   19  female  27.900         0    yes  southwest  16884.92400\n",
       "1   18    male  33.770         1     no  southeast   1725.55230\n",
       "2   28    male  33.000         3     no  southeast   4449.46200\n",
       "3   33    male  22.705         0     no  northwest  21984.47061\n",
       "4   32    male  28.880         0     no  northwest   3866.85520"
      ]
     },
     "execution_count": 13,
     "metadata": {},
     "output_type": "execute_result"
    }
   ],
   "source": [
    "insData=pd.read_csv('../Data/insurance.csv')\n",
    "header=list(insData.columns)\n",
    "insData.head()"
   ]
  },
  {
   "cell_type": "markdown",
   "metadata": {},
   "source": [
    "First the `crosstab`-method of pandas is applied to calculate the contingency table of the two variables. The entries of this table are the joint frequencies of the values of the considered variables."
   ]
  },
  {
   "cell_type": "code",
   "execution_count": 14,
   "metadata": {
    "ExecuteTime": {
     "end_time": "2018-02-07T07:18:58.455000Z",
     "start_time": "2018-02-07T08:18:58.392000+01:00"
    }
   },
   "outputs": [
    {
     "data": {
      "text/html": [
       "<div>\n",
       "<style scoped>\n",
       "    .dataframe tbody tr th:only-of-type {\n",
       "        vertical-align: middle;\n",
       "    }\n",
       "\n",
       "    .dataframe tbody tr th {\n",
       "        vertical-align: top;\n",
       "    }\n",
       "\n",
       "    .dataframe thead th {\n",
       "        text-align: right;\n",
       "    }\n",
       "</style>\n",
       "<table border=\"1\" class=\"dataframe\">\n",
       "  <thead>\n",
       "    <tr style=\"text-align: right;\">\n",
       "      <th>sex</th>\n",
       "      <th>female</th>\n",
       "      <th>male</th>\n",
       "    </tr>\n",
       "    <tr>\n",
       "      <th>smoker</th>\n",
       "      <th></th>\n",
       "      <th></th>\n",
       "    </tr>\n",
       "  </thead>\n",
       "  <tbody>\n",
       "    <tr>\n",
       "      <th>no</th>\n",
       "      <td>547</td>\n",
       "      <td>517</td>\n",
       "    </tr>\n",
       "    <tr>\n",
       "      <th>yes</th>\n",
       "      <td>115</td>\n",
       "      <td>159</td>\n",
       "    </tr>\n",
       "  </tbody>\n",
       "</table>\n",
       "</div>"
      ],
      "text/plain": [
       "sex     female  male\n",
       "smoker              \n",
       "no         547   517\n",
       "yes        115   159"
      ]
     },
     "metadata": {},
     "output_type": "display_data"
    },
    {
     "data": {
      "text/html": [
       "<div>\n",
       "<style scoped>\n",
       "    .dataframe tbody tr th:only-of-type {\n",
       "        vertical-align: middle;\n",
       "    }\n",
       "\n",
       "    .dataframe tbody tr th {\n",
       "        vertical-align: top;\n",
       "    }\n",
       "\n",
       "    .dataframe thead th {\n",
       "        text-align: right;\n",
       "    }\n",
       "</style>\n",
       "<table border=\"1\" class=\"dataframe\">\n",
       "  <thead>\n",
       "    <tr style=\"text-align: right;\">\n",
       "      <th>sex</th>\n",
       "      <th>female</th>\n",
       "      <th>male</th>\n",
       "      <th>All</th>\n",
       "    </tr>\n",
       "    <tr>\n",
       "      <th>smoker</th>\n",
       "      <th></th>\n",
       "      <th></th>\n",
       "      <th></th>\n",
       "    </tr>\n",
       "  </thead>\n",
       "  <tbody>\n",
       "    <tr>\n",
       "      <th>no</th>\n",
       "      <td>547</td>\n",
       "      <td>517</td>\n",
       "      <td>1064</td>\n",
       "    </tr>\n",
       "    <tr>\n",
       "      <th>yes</th>\n",
       "      <td>115</td>\n",
       "      <td>159</td>\n",
       "      <td>274</td>\n",
       "    </tr>\n",
       "    <tr>\n",
       "      <th>All</th>\n",
       "      <td>662</td>\n",
       "      <td>676</td>\n",
       "      <td>1338</td>\n",
       "    </tr>\n",
       "  </tbody>\n",
       "</table>\n",
       "</div>"
      ],
      "text/plain": [
       "sex     female  male   All\n",
       "smoker                    \n",
       "no         547   517  1064\n",
       "yes        115   159   274\n",
       "All        662   676  1338"
      ]
     },
     "metadata": {},
     "output_type": "display_data"
    }
   ],
   "source": [
    "freqtab=pd.crosstab(index=insData[\"smoker\"],columns=insData[\"sex\"])\n",
    "display(freqtab)\n",
    "freqtabMargins=pd.crosstab(index=insData[\"smoker\"],\n",
    "                           columns=insData[\"sex\"],margins=True)\n",
    "display(freqtabMargins)"
   ]
  },
  {
   "cell_type": "markdown",
   "metadata": {},
   "source": [
    "From the contingency-table with margins, the $\\chi^2$-value can easily be calculated as defined in the formula above:"
   ]
  },
  {
   "cell_type": "code",
   "execution_count": 15,
   "metadata": {
    "ExecuteTime": {
     "end_time": "2018-02-07T07:18:58.611000Z",
     "start_time": "2018-02-07T08:18:58.611000+01:00"
    }
   },
   "outputs": [
    {
     "name": "stdout",
     "output_type": "stream",
     "text": [
      "Manually calculated chi2-value:  7.765921028604452\n"
     ]
    }
   ],
   "source": [
    "chi2val=(((547-1064*662/1338.0)**2)/(1064*662/1338.0) #(f11-e11)^2/e11\n",
    " +((517-1064*676/1338.0)**2)/(1064*676/1338.0) #(f12-e12)^2/e12\n",
    " +((115-274*662/1338.0)**2)/(274*662/1338.0) #(f21-e21)^2/e21\n",
    " +((159-274*676/1338.0)**2)/(274*676/1338.0)) #(f22-e22)^2/e22\n",
    "print(\"Manually calculated chi2-value: \",chi2val)"
   ]
  },
  {
   "cell_type": "markdown",
   "metadata": {},
   "source": [
    "Since both variables `X` and `Y`, have only two possible values, the corresponding degree of freedom of the $\\chi^2$-distribution is 1. As can be seen in the $\\chi^2$-plot above the curve for $df=1$ has a value far below $0.05$ at $\\chi^2=7.766$. Hence, the null-hypotheses can be rejected, i.e. the two variables **`sex` and `smoker` are dependent**. "
   ]
  },
  {
   "cell_type": "markdown",
   "metadata": {},
   "source": [
    "Applying [scipy.stats.chi2_contingency](https://docs.scipy.org/doc/scipy-0.15.1/reference/generated/scipy.stats.chi2_contingency.html) the $\\chi^2$-statistic can be calculated as follows:"
   ]
  },
  {
   "cell_type": "code",
   "execution_count": 16,
   "metadata": {
    "ExecuteTime": {
     "end_time": "2018-02-07T07:18:59.236000Z",
     "start_time": "2018-02-07T08:18:59.236000+01:00"
    }
   },
   "outputs": [
    {
     "name": "stdout",
     "output_type": "stream",
     "text": [
      "chi2 value:  7.765921028604452\n",
      "p-value:  0.005324114164320537\n",
      "degrees of freedom:  1\n"
     ]
    }
   ],
   "source": [
    "from scipy.stats import chi2_contingency\n",
    "chi2v,p,df,corr=chi2_contingency(freqtab,correction=False)\n",
    "print(\"chi2 value: \",chi2v)\n",
    "print(\"p-value: \",p)\n",
    "print(\"degrees of freedom: \",df)"
   ]
  },
  {
   "cell_type": "markdown",
   "metadata": {},
   "source": [
    ">**Note:** The [scikit-learn function sklearn.feature_selection.chi2](http://scikit-learn.org/stable/modules/generated/sklearn.feature_selection.chi2.html#sklearn.feature_selection.chi2) seems to apply an approximation for the $\\chi^2$-value calculation. The result differs from the formula above and from the result calculated by the scipy-function. "
   ]
  },
  {
   "cell_type": "markdown",
   "metadata": {},
   "source": [
    "### F-Measure\n",
    "In general a [F-test](https://en.wikipedia.org/wiki/F-test) is a statistical test in which the test-statistic has an [F-distribution](https://en.wikipedia.org/wiki/F-distribution) under the null hypothesis. It is most often used when comparing statistical models that have been fitted to a data set, in order to identify the model that best fits the population from which the data were sampled.\n",
    "\n",
    "> **Note:** The F-test assumes that data is approximately normal-distributed.  \n",
    "\n",
    "In this notebook the F-test is applied for assessing feature importance. For this one must distinguish classification and regression.\n",
    "\n",
    "#### F-test for classification\n",
    "\n",
    "The F-test in one-way analysis of variance (**ANOVA**) is used to assess whether the expected values of a quantitative variable within several pre-defined groups differ from each other. In the contest of feature-assessment for classification, the groups are the different classes and the F-measure is the quotient \n",
    "\n",
    "\\begin{equation} \n",
    "F=\\frac{\\mbox{between-group variability}}{\\mbox{within-group variability}} \n",
    "\\end{equation}\n",
    "\n",
    "If the feature of interest varies significantly between the considered classes (high between-group variability) and varies only slightly within a single class, this feature provides much information for discriminating the classes. In this case the F-value is high.\n",
    "\n",
    "The **between-group variability** is calculated by\n",
    "\n",
    "\\begin{equation} \n",
    "\\frac{1}{K-1} \\sum\\limits_{i=1}^K n_i (\\overline{m}_i -\\overline{m})^2, \n",
    "\\end{equation}\n",
    "\n",
    "where $K$ is the number of classes (groups), $\\overline{m}_i$ is the mean of the considered feature within group $i$, $n_i$ is the number of samples in group $i$ and $\\overline{m}$ is the overall mean of the feature.\n",
    "\n",
    "The **within-group variability** is calculated by\n",
    "\n",
    "\\begin{equation} \n",
    "\\frac{1}{N-K} \\sum\\limits_{i=1}^K \\sum\\limits_{j=1}^{n_i} (x_{i,j}-\\overline{m}_i)^2, \n",
    "\\end{equation}\n",
    "\n",
    "where $x_{i,j}$ is the j.th feature value in the i.th group and N is the overall sample size.\n",
    "\n",
    "This F-statistic follows the F-distribution with degrees of freedom $d_1 = K − 1$ and $d_2 = N − K$ under the null hypothesis. Here, the null-hypothesis states, that there is no significant difference in the variance within the groups and the variance of the entire sample."
   ]
  },
  {
   "cell_type": "markdown",
   "metadata": {},
   "source": [
    "**Example F-measure for classification:** A sample of $N=9$ observations, each described by 3 featues is assigned to the numpy array `X`. The class-labels of the $9$ observations are defined in the vector `y`."
   ]
  },
  {
   "cell_type": "code",
   "execution_count": 17,
   "metadata": {
    "ExecuteTime": {
     "end_time": "2018-02-07T07:19:00.267000Z",
     "start_time": "2018-02-07T08:19:00.252000+01:00"
    }
   },
   "outputs": [
    {
     "name": "stdout",
     "output_type": "stream",
     "text": [
      "[[ 2  3  1]\n",
      " [ 4  4  3]\n",
      " [ 1  1 12]\n",
      " [ 3  2  9]\n",
      " [ 9  5  7]\n",
      " [10  6  8]\n",
      " [12  9 13]\n",
      " [13  7 14]\n",
      " [15  8 11]]\n",
      "[0 0 0 0 1 1 1 1 1]\n"
     ]
    }
   ],
   "source": [
    "X=np.array([\n",
    "    [2,3,1],\n",
    "    [4,4,3],\n",
    "    [1,1,12],\n",
    "    [3,2,9],\n",
    "    [9,5,7],\n",
    "    [10,6,8],\n",
    "    [12,9,13],\n",
    "    [13,7,14],\n",
    "    [15,8,11],\n",
    "])\n",
    "y=np.array([0,0,0,0,1,1,1,1,1])\n",
    "N=9\n",
    "n0=4\n",
    "n1=5\n",
    "K=2\n",
    "print(X)\n",
    "print(y)"
   ]
  },
  {
   "cell_type": "markdown",
   "metadata": {},
   "source": [
    "First, the set of 9 observations is partitioned into $K=2$ groups, according to the class-label as defined in `y`. For each group and for the overall sample the corresponding mean is calculated:"
   ]
  },
  {
   "cell_type": "code",
   "execution_count": 18,
   "metadata": {
    "ExecuteTime": {
     "end_time": "2018-02-07T07:19:00.595000Z",
     "start_time": "2018-02-07T08:19:00.595000+01:00"
    }
   },
   "outputs": [],
   "source": [
    "group0=X[y==0,:] #group 0 is defined by class-label y=0\n",
    "group1=X[y==1,:] #group 1 is defined by class-label y=1\n",
    "m0=np.mean(group0,axis=0) #mean of first group\n",
    "m1=np.mean(group1,axis=0) #mean of second group\n",
    "m=np.mean(X,axis=0) #overall mean"
   ]
  },
  {
   "cell_type": "markdown",
   "metadata": {},
   "source": [
    "Then the between-group variability for the 3 featues is calculated:"
   ]
  },
  {
   "cell_type": "code",
   "execution_count": 19,
   "metadata": {
    "ExecuteTime": {
     "end_time": "2018-02-07T07:19:00.939000Z",
     "start_time": "2018-02-07T08:19:00.939000+01:00"
    }
   },
   "outputs": [
    {
     "name": "stdout",
     "output_type": "stream",
     "text": [
      "between-group variability is:  [192.2   45.    42.05]\n"
     ]
    }
   ],
   "source": [
    "betweenGroupVar=1.0/(K-1) * (n0*(m0-m)**2+n1*(m1-m)**2)\n",
    "print(\"between-group variability is: \",betweenGroupVar)"
   ]
  },
  {
   "cell_type": "markdown",
   "metadata": {},
   "source": [
    "Next, the within-group variability is calculated for each of the 3 features:"
   ]
  },
  {
   "cell_type": "code",
   "execution_count": 20,
   "metadata": {
    "ExecuteTime": {
     "end_time": "2018-02-07T07:19:01.345000Z",
     "start_time": "2018-02-07T08:19:01.345000+01:00"
    }
   },
   "outputs": [
    {
     "name": "stdout",
     "output_type": "stream",
     "text": [
      "within-group variability is:  [ 3.97142857  2.14285714 16.56428571]\n"
     ]
    }
   ],
   "source": [
    "b0=(group0-m0)**2\n",
    "b1=(group1-m1)**2\n",
    "s0=b0.sum(axis=0)\n",
    "s1=b1.sum(axis=0)\n",
    "\n",
    "withinGroupVar=(s0+s1)/float((N-K))\n",
    "print(\"within-group variability is: \",withinGroupVar)"
   ]
  },
  {
   "cell_type": "markdown",
   "metadata": {},
   "source": [
    "From the two variability-values the F-measure can be calculated as follows:"
   ]
  },
  {
   "cell_type": "code",
   "execution_count": 21,
   "metadata": {
    "ExecuteTime": {
     "end_time": "2018-02-07T07:19:01.799000Z",
     "start_time": "2018-02-07T08:19:01.799000+01:00"
    }
   },
   "outputs": [
    {
     "name": "stdout",
     "output_type": "stream",
     "text": [
      "F-measure of feature 1:  48.39568345323742\n",
      "F-measure of feature 2:  21.0\n",
      "F-measure of feature 3:  2.5385942216472617\n"
     ]
    }
   ],
   "source": [
    "F=betweenGroupVar/withinGroupVar\n",
    "print(\"F-measure of feature 1: \",F[0])\n",
    "print(\"F-measure of feature 2: \",F[1])\n",
    "print(\"F-measure of feature 3: \",F[2])"
   ]
  },
  {
   "cell_type": "markdown",
   "metadata": {},
   "source": [
    "We apply the corresponding [scikit-learn method f_classif](http://scikit-learn.org/stable/modules/generated/sklearn.feature_selection.f_classif.html#sklearn.feature_selection.f_classif) in order to verify the result. The sklearn-function not only provides the f-value, but also the corresponding p-value. For all p-values $<0.05$ the null-hypothesis is rejected. In this case the null-hypothesis for feature 3 is not rejected, which means that the variance in the two groups, defined by the class-label, do not differ significantly from the variance of the entire sample. This implies, that feature 3 provides only small information for discriminating the two classes."
   ]
  },
  {
   "cell_type": "code",
   "execution_count": 22,
   "metadata": {
    "ExecuteTime": {
     "end_time": "2018-02-07T07:19:02.189000Z",
     "start_time": "2018-02-07T08:19:02.174000+01:00"
    }
   },
   "outputs": [
    {
     "name": "stdout",
     "output_type": "stream",
     "text": [
      "Feature 1: F-measure=48.40 \t p-value=0.00022\n",
      "Feature 2: F-measure=21.00 \t p-value=0.00254\n",
      "Feature 3: F-measure=2.54 \t p-value=0.15512\n"
     ]
    }
   ],
   "source": [
    "fskl,pskl=fs.f_classif(X,y)\n",
    "i=1\n",
    "for fv,pv in zip(fskl,pskl):\n",
    "    print(\"Feature %d: F-measure=%4.2f \\t p-value=%1.5f\"%(i,fv,pv))\n",
    "    i+=1"
   ]
  },
  {
   "cell_type": "markdown",
   "metadata": {},
   "source": [
    "In order to better understand between-group- and within-group-variability, we visualize each of the 3 features w.r.t. to their group-membership."
   ]
  },
  {
   "cell_type": "code",
   "execution_count": 23,
   "metadata": {
    "ExecuteTime": {
     "end_time": "2018-02-07T07:19:03.237000Z",
     "start_time": "2018-02-07T08:19:02.596000+01:00"
    }
   },
   "outputs": [
    {
     "data": {
      "image/png": "[encoded data removed]",
      "text/plain": [
       "<Figure size 1152x216 with 3 Axes>"
      ]
     },
     "metadata": {
      "filenames": {
       "image/png": "/Users/johannes/gitprojects/dsmmlbook/mlbook/_build/jupyter_execute/Lecture/12FeatureSelection_47_0.png"
      },
      "needs_background": "light"
     },
     "output_type": "display_data"
    }
   ],
   "source": [
    "plt.figure(figsize=(16,3))\n",
    "for feat in range(3):\n",
    "    plt.subplot(1,3,feat+1)\n",
    "    plt.title(\"Feature %d\"%(feat+1))\n",
    "    plt.xlabel(\"Value of feature %d\"%(feat+1))\n",
    "    plt.plot(group0[:,feat],np.zeros(n0),\"bo\",label=\"class 0\")\n",
    "    plt.plot(group1[:,feat],np.zeros(n1),\"rs\",label=\"class 1\")\n",
    "    plt.legend()\n",
    "plt.show()"
   ]
  },
  {
   "cell_type": "markdown",
   "metadata": {},
   "source": [
    "As can be seen in the graphic above:\n",
    "* feature 1 has a high between-group-variability, i.e. there is a quite large distance between the centers of the groups\n",
    "* feature 2 has a relatively small between-group-variability, but a low within-group-variability, resulting in a relatively high F-measure\n",
    "* feature 3 has a relatively small between-group-variability, and a relatively high within-group-variability, resulting in a relatively low F-measure"
   ]
  },
  {
   "cell_type": "markdown",
   "metadata": {},
   "source": [
    "#### F-test for regression\n",
    "In general, an F-test in regression compares the fits of different linear models. In the case that the F-test is applied for assessing feature importance for regression, it compares a **model with no predictors** to the model that you specify (e.g. a linear-regression model). A regression model that contains no predictors is also known as an intercept-only model. I.e. it is just the average over all target-values \n",
    "\n",
    "$$\n",
    "\\overline{y}=\\sum_i y_i.\n",
    "$$\n",
    "\n",
    "The null-hypothesis states that the fit of the intercept-only model and the specified model are equal. If the null-hypothesis is rejected, the feature which is applied as input to the specified model, can be considered to be *informative*.\n",
    "\n",
    "The F-measure itself is calculated as follows:\n",
    "\n",
    "\\begin{equation} \n",
    "F=\\frac{\\frac{RSS_1-RSS_2}{p_2-p_1}}{\\frac{RSS_2}{n-p_2-1}},\n",
    "\\end{equation}\n",
    "\n",
    "where $RSS_i$ is the [Residual Sum of Squares](https://en.wikipedia.org/wiki/Residual_sum_of_squares) of the i.th model, $p_2$ is the number of parameters in the specified model, and $p_1$ is the number of parameters of the simpler model. Note, that in our case, the simpler model is the intercept-only model with $p_1=0$. The number of observations in the sample is $n$.\n",
    "\n",
    "The F-statistic follows an f-distribution with $(p_2-p_1,n-p_2)$ degrees of freedom.\n",
    "\n",
    "**Example:**"
   ]
  },
  {
   "cell_type": "code",
   "execution_count": 24,
   "metadata": {
    "ExecuteTime": {
     "end_time": "2018-02-07T07:19:03.518000Z",
     "start_time": "2018-02-07T08:19:03.518000+01:00"
    }
   },
   "outputs": [
    {
     "name": "stdout",
     "output_type": "stream",
     "text": [
      "[[1 4]\n",
      " [2 2]\n",
      " [3 3]\n",
      " [4 7]\n",
      " [5 3]]\n",
      "[ 3.   5.5  6.   8.5 11.2]\n"
     ]
    }
   ],
   "source": [
    "N=5\n",
    "X=np.array([[1,2,3,4,5],\n",
    "            [4,2,3,7,3]\n",
    "           ]).T\n",
    "y=np.array([3,5.5,6,8.5,11.2])\n",
    "print(X)\n",
    "print(y)"
   ]
  },
  {
   "cell_type": "code",
   "execution_count": 25,
   "metadata": {
    "ExecuteTime": {
     "end_time": "2018-02-07T07:19:03.565000Z",
     "start_time": "2018-02-07T08:19:03.518000+01:00"
    }
   },
   "outputs": [
    {
     "name": "stdout",
     "output_type": "stream",
     "text": [
      "Feature 1: F-measure=82.06 \t p-value=0.00284\n",
      "Feature 2: F-measure=0.09 \t p-value=0.78172\n"
     ]
    }
   ],
   "source": [
    "freg,preg = fs.f_regression(X,y)\n",
    "i=1\n",
    "for fv,pv in zip(freg,preg):\n",
    "    print(\"Feature %d: F-measure=%4.2f \\t p-value=%1.5f\"%(i,fv,pv))\n",
    "    i+=1"
   ]
  },
  {
   "cell_type": "markdown",
   "metadata": {},
   "source": [
    "From this values we conclude, that for feature 1 the null-hypothesis can be rejected, i.e. the linear model, learned from feature 1 is significantly better than the intercept-only model. For feature 2 the null-hypothesis can not be rejected."
   ]
  },
  {
   "cell_type": "markdown",
   "metadata": {},
   "source": [
    "In the code cells below, the concept of the F-test shall be visualized. For both features a linear model is calculated. The plots show, that for the model built from feature 1, the RSS-values (i.e. die distances between the model's prediction and the true target) are much smaller than for the intercept-only model. For feature 2 this is not the case."
   ]
  },
  {
   "cell_type": "code",
   "execution_count": 26,
   "metadata": {
    "ExecuteTime": {
     "end_time": "2018-02-07T07:19:04.409000Z",
     "start_time": "2018-02-07T08:19:04.393000+01:00"
    }
   },
   "outputs": [
    {
     "name": "stdout",
     "output_type": "stream",
     "text": [
      "Intercept-Only model with no parameters:  6.840000000000001\n"
     ]
    }
   ],
   "source": [
    "interceptOnly=np.sum(y)/float(N)\n",
    "print(\"Intercept-Only model with no parameters: \",interceptOnly)"
   ]
  },
  {
   "cell_type": "code",
   "execution_count": 27,
   "metadata": {
    "ExecuteTime": {
     "end_time": "2018-02-07T07:19:04.909000Z",
     "start_time": "2018-02-07T08:19:04.409000+01:00"
    }
   },
   "outputs": [
    {
     "name": "stdout",
     "output_type": "stream",
     "text": [
      "1.0199999999999987\n",
      "[1.94]\n"
     ]
    }
   ],
   "source": [
    "from sklearn.linear_model import LinearRegression\n",
    "linmod=LinearRegression()\n",
    "linmod.fit(np.atleast_2d(X[:,0]).T,y)\n",
    "print(linmod.intercept_)\n",
    "print(linmod.coef_)"
   ]
  },
  {
   "cell_type": "code",
   "execution_count": 28,
   "metadata": {
    "ExecuteTime": {
     "end_time": "2018-02-07T07:19:04.924000Z",
     "start_time": "2018-02-07T08:19:04.909000+01:00"
    }
   },
   "outputs": [
    {
     "name": "stdout",
     "output_type": "stream",
     "text": [
      "5.777027027027028\n",
      "[0.27972973]\n"
     ]
    }
   ],
   "source": [
    "linmod2=LinearRegression()\n",
    "linmod2.fit(np.atleast_2d(X[:,1]).T,y)\n",
    "print(linmod2.intercept_)\n",
    "print(linmod2.coef_)"
   ]
  },
  {
   "cell_type": "code",
   "execution_count": 29,
   "metadata": {
    "ExecuteTime": {
     "end_time": "2018-02-07T07:19:05.549000Z",
     "start_time": "2018-02-07T08:19:04.924000+01:00"
    }
   },
   "outputs": [
    {
     "name": "stderr",
     "output_type": "stream",
     "text": [
      "/Users/johannes/opt/anaconda3/envs/dsmmlbook/lib/python3.8/site-packages/numpy/core/shape_base.py:65: VisibleDeprecationWarning: Creating an ndarray from ragged nested sequences (which is a list-or-tuple of lists-or-tuples-or ndarrays with different lengths or shapes) is deprecated. If you meant to do this, you must specify 'dtype=object' when creating the ndarray.\n",
      "  ary = asanyarray(ary)\n",
      "/Users/johannes/opt/anaconda3/envs/dsmmlbook/lib/python3.8/site-packages/numpy/core/shape_base.py:65: VisibleDeprecationWarning: Creating an ndarray from ragged nested sequences (which is a list-or-tuple of lists-or-tuples-or ndarrays with different lengths or shapes) is deprecated. If you meant to do this, you must specify 'dtype=object' when creating the ndarray.\n",
      "  ary = asanyarray(ary)\n"
     ]
    },
    {
     "data": {
      "image/png": "[encoded data removed]",
      "text/plain": [
       "<Figure size 1152x504 with 2 Axes>"
      ]
     },
     "metadata": {
      "filenames": {
       "image/png": "/Users/johannes/gitprojects/dsmmlbook/mlbook/_build/jupyter_execute/Lecture/12FeatureSelection_57_1.png"
      },
      "needs_background": "light"
     },
     "output_type": "display_data"
    }
   ],
   "source": [
    "plt.figure(figsize=(16,7))\n",
    "plt.subplot(1,2,1)\n",
    "plt.plot(X[:,0],y,\"bo\")\n",
    "plt.title(\"Linear Model from Feature 1\")\n",
    "plt.plot([0,5],[interceptOnly,interceptOnly],\"r-\",label=\"Intercept Only\")\n",
    "plt.plot([0,5],[linmod.intercept_,linmod.intercept_+5*linmod.coef_],\"g-\",label=\"Linear Model\")\n",
    "for i in range(N):\n",
    "    plt.plot([X[i,0],X[i,0]],[y[i],linmod.intercept_+X[i,0]*linmod.coef_],\"g--\")\n",
    "    plt.plot([X[i,0],X[i,0]],[y[i],interceptOnly],\"r--.\")\n",
    "plt.legend()\n",
    "\n",
    "plt.subplot(1,2,2)\n",
    "plt.plot(X[:,1],y,\"bo\")\n",
    "plt.title(\"Linear Model from Feature 2\")\n",
    "plt.plot([0,7],[interceptOnly,interceptOnly],\"r-\",label=\"Intercept Only\")\n",
    "plt.plot([0,7],[linmod2.intercept_,linmod2.intercept_+5*linmod2.coef_],\"g-\",label=\"Linear Model\")\n",
    "for i in range(N):\n",
    "    plt.plot([X[i,1],X[i,1]],[y[i],linmod2.intercept_+X[i,0]*linmod2.coef_],\"g--\")\n",
    "    plt.plot([X[i,1],X[i,1]],[y[i],interceptOnly],\"r--.\")\n",
    "plt.legend()\n",
    "\n",
    "plt.show()"
   ]
  },
  {
   "cell_type": "markdown",
   "metadata": {},
   "source": [
    "### Variance Threshold\n",
    "This test does not require labeled data, i.e. it can be applied for feature selection in the context of unsupervised learning. \n",
    "Features, whose values do not vary significantly for the given datasamples usually provide only marginal information. Such features can then be excluded. The [sklearn.feature_selection.VarianceThreshold class](http://scikit-learn.org/stable/modules/generated/sklearn.feature_selection.VarianceThreshold.html#sklearn.feature_selection.VarianceThreshold) calculates the variance of all features in a given dataset and removes the features with low variance. \n",
    "\n",
    "In the following example the variance of the feature in the last column is below the configured threshold of $0.3$. Hence, it is removed."
   ]
  },
  {
   "cell_type": "code",
   "execution_count": 30,
   "metadata": {
    "ExecuteTime": {
     "end_time": "2018-02-07T07:19:05.565000Z",
     "start_time": "2018-02-07T08:19:05.565000+01:00"
    }
   },
   "outputs": [
    {
     "name": "stdout",
     "output_type": "stream",
     "text": [
      "[[ 1  2  3 40]\n",
      " [ 1  4  1 30]\n",
      " [ 2  7  5 40]\n",
      " [ 1  4  6 30]\n",
      " [ 0  5  4 40]]\n"
     ]
    }
   ],
   "source": [
    "data=np.array([[1,2,3,40],[1,4,1,30],[2,7,5,40],[1,4,6,30],[0,5,4,40]])\n",
    "print(data)"
   ]
  },
  {
   "cell_type": "code",
   "execution_count": 31,
   "metadata": {
    "ExecuteTime": {
     "end_time": "2018-02-07T07:19:05.627000Z",
     "start_time": "2018-02-07T08:19:05.565000+01:00"
    }
   },
   "outputs": [
    {
     "name": "stdout",
     "output_type": "stream",
     "text": [
      "[[ 1  2  3 40]\n",
      " [ 1  4  1 30]\n",
      " [ 2  7  5 40]\n",
      " [ 1  4  6 30]\n",
      " [ 0  5  4 40]]\n"
     ]
    }
   ],
   "source": [
    "featureSelector=fs.VarianceThreshold(threshold=0.3)\n",
    "reducedData=featureSelector.fit_transform(data)\n",
    "print(reducedData)"
   ]
  },
  {
   "cell_type": "markdown",
   "metadata": {},
   "source": [
    "## Feature Selectors in sklearn\n",
    "In the previous chapters feature selection tests have been described: Mutual Information, $\\chi^2$ and F-Measure. These statistical tests are applied by *Sklearn*-feature selectors such as [SelectKBest](http://scikit-learn.org/stable/modules/generated/sklearn.feature_selection.SelectKBest.html#sklearn.feature_selection.SelectKBest) and [SelectPercentile](http://scikit-learn.org/stable/modules/generated/sklearn.feature_selection.SelectPercentile.html#sklearn.feature_selection.SelectPercentile). Based on a univariate selection-text *SelectKBest* selects the $K$ best features. *SelectPercentile* selects features according to a percentile of the highest score. Below, both selectors are demonstrated on the insurance-dataset.  "
   ]
  },
  {
   "cell_type": "code",
   "execution_count": 32,
   "metadata": {
    "ExecuteTime": {
     "end_time": "2018-02-07T07:19:05.690000Z",
     "start_time": "2018-02-07T08:19:05.627000+01:00"
    }
   },
   "outputs": [
    {
     "data": {
      "text/html": [
       "<div>\n",
       "<style scoped>\n",
       "    .dataframe tbody tr th:only-of-type {\n",
       "        vertical-align: middle;\n",
       "    }\n",
       "\n",
       "    .dataframe tbody tr th {\n",
       "        vertical-align: top;\n",
       "    }\n",
       "\n",
       "    .dataframe thead th {\n",
       "        text-align: right;\n",
       "    }\n",
       "</style>\n",
       "<table border=\"1\" class=\"dataframe\">\n",
       "  <thead>\n",
       "    <tr style=\"text-align: right;\">\n",
       "      <th></th>\n",
       "      <th>age</th>\n",
       "      <th>sex</th>\n",
       "      <th>bmi</th>\n",
       "      <th>children</th>\n",
       "      <th>smoker</th>\n",
       "      <th>region</th>\n",
       "      <th>charges</th>\n",
       "    </tr>\n",
       "  </thead>\n",
       "  <tbody>\n",
       "    <tr>\n",
       "      <th>0</th>\n",
       "      <td>19</td>\n",
       "      <td>female</td>\n",
       "      <td>27.900</td>\n",
       "      <td>0</td>\n",
       "      <td>yes</td>\n",
       "      <td>southwest</td>\n",
       "      <td>16884.92400</td>\n",
       "    </tr>\n",
       "    <tr>\n",
       "      <th>1</th>\n",
       "      <td>18</td>\n",
       "      <td>male</td>\n",
       "      <td>33.770</td>\n",
       "      <td>1</td>\n",
       "      <td>no</td>\n",
       "      <td>southeast</td>\n",
       "      <td>1725.55230</td>\n",
       "    </tr>\n",
       "    <tr>\n",
       "      <th>2</th>\n",
       "      <td>28</td>\n",
       "      <td>male</td>\n",
       "      <td>33.000</td>\n",
       "      <td>3</td>\n",
       "      <td>no</td>\n",
       "      <td>southeast</td>\n",
       "      <td>4449.46200</td>\n",
       "    </tr>\n",
       "    <tr>\n",
       "      <th>3</th>\n",
       "      <td>33</td>\n",
       "      <td>male</td>\n",
       "      <td>22.705</td>\n",
       "      <td>0</td>\n",
       "      <td>no</td>\n",
       "      <td>northwest</td>\n",
       "      <td>21984.47061</td>\n",
       "    </tr>\n",
       "    <tr>\n",
       "      <th>4</th>\n",
       "      <td>32</td>\n",
       "      <td>male</td>\n",
       "      <td>28.880</td>\n",
       "      <td>0</td>\n",
       "      <td>no</td>\n",
       "      <td>northwest</td>\n",
       "      <td>3866.85520</td>\n",
       "    </tr>\n",
       "  </tbody>\n",
       "</table>\n",
       "</div>"
      ],
      "text/plain": [
       "   age     sex     bmi  children smoker     region      charges\n",
       "0   19  female  27.900         0    yes  southwest  16884.92400\n",
       "1   18    male  33.770         1     no  southeast   1725.55230\n",
       "2   28    male  33.000         3     no  southeast   4449.46200\n",
       "3   33    male  22.705         0     no  northwest  21984.47061\n",
       "4   32    male  28.880         0     no  northwest   3866.85520"
      ]
     },
     "execution_count": 32,
     "metadata": {},
     "output_type": "execute_result"
    }
   ],
   "source": [
    "insData=pd.read_csv('../Data/insurance.csv')\n",
    "insData.head()"
   ]
  },
  {
   "cell_type": "markdown",
   "metadata": {},
   "source": [
    "Non-numeric features must be transformed into a numeric format. E.g. by applying the `LabelEncoder`: "
   ]
  },
  {
   "cell_type": "code",
   "execution_count": 33,
   "metadata": {
    "ExecuteTime": {
     "end_time": "2018-02-07T07:19:06.080000Z",
     "start_time": "2018-02-07T08:19:06.034000+01:00"
    }
   },
   "outputs": [
    {
     "data": {
      "text/html": [
       "<div>\n",
       "<style scoped>\n",
       "    .dataframe tbody tr th:only-of-type {\n",
       "        vertical-align: middle;\n",
       "    }\n",
       "\n",
       "    .dataframe tbody tr th {\n",
       "        vertical-align: top;\n",
       "    }\n",
       "\n",
       "    .dataframe thead th {\n",
       "        text-align: right;\n",
       "    }\n",
       "</style>\n",
       "<table border=\"1\" class=\"dataframe\">\n",
       "  <thead>\n",
       "    <tr style=\"text-align: right;\">\n",
       "      <th></th>\n",
       "      <th>age</th>\n",
       "      <th>sex</th>\n",
       "      <th>bmi</th>\n",
       "      <th>children</th>\n",
       "      <th>smoker</th>\n",
       "      <th>region</th>\n",
       "      <th>charges</th>\n",
       "    </tr>\n",
       "  </thead>\n",
       "  <tbody>\n",
       "    <tr>\n",
       "      <th>0</th>\n",
       "      <td>19</td>\n",
       "      <td>female</td>\n",
       "      <td>27.900</td>\n",
       "      <td>0</td>\n",
       "      <td>yes</td>\n",
       "      <td>southwest</td>\n",
       "      <td>16884.92400</td>\n",
       "    </tr>\n",
       "    <tr>\n",
       "      <th>1</th>\n",
       "      <td>18</td>\n",
       "      <td>male</td>\n",
       "      <td>33.770</td>\n",
       "      <td>1</td>\n",
       "      <td>no</td>\n",
       "      <td>southeast</td>\n",
       "      <td>1725.55230</td>\n",
       "    </tr>\n",
       "    <tr>\n",
       "      <th>2</th>\n",
       "      <td>28</td>\n",
       "      <td>male</td>\n",
       "      <td>33.000</td>\n",
       "      <td>3</td>\n",
       "      <td>no</td>\n",
       "      <td>southeast</td>\n",
       "      <td>4449.46200</td>\n",
       "    </tr>\n",
       "    <tr>\n",
       "      <th>3</th>\n",
       "      <td>33</td>\n",
       "      <td>male</td>\n",
       "      <td>22.705</td>\n",
       "      <td>0</td>\n",
       "      <td>no</td>\n",
       "      <td>northwest</td>\n",
       "      <td>21984.47061</td>\n",
       "    </tr>\n",
       "    <tr>\n",
       "      <th>4</th>\n",
       "      <td>32</td>\n",
       "      <td>male</td>\n",
       "      <td>28.880</td>\n",
       "      <td>0</td>\n",
       "      <td>no</td>\n",
       "      <td>northwest</td>\n",
       "      <td>3866.85520</td>\n",
       "    </tr>\n",
       "  </tbody>\n",
       "</table>\n",
       "</div>"
      ],
      "text/plain": [
       "   age     sex     bmi  children smoker     region      charges\n",
       "0   19  female  27.900         0    yes  southwest  16884.92400\n",
       "1   18    male  33.770         1     no  southeast   1725.55230\n",
       "2   28    male  33.000         3     no  southeast   4449.46200\n",
       "3   33    male  22.705         0     no  northwest  21984.47061\n",
       "4   32    male  28.880         0     no  northwest   3866.85520"
      ]
     },
     "metadata": {},
     "output_type": "display_data"
    },
    {
     "data": {
      "text/html": [
       "<div>\n",
       "<style scoped>\n",
       "    .dataframe tbody tr th:only-of-type {\n",
       "        vertical-align: middle;\n",
       "    }\n",
       "\n",
       "    .dataframe tbody tr th {\n",
       "        vertical-align: top;\n",
       "    }\n",
       "\n",
       "    .dataframe thead th {\n",
       "        text-align: right;\n",
       "    }\n",
       "</style>\n",
       "<table border=\"1\" class=\"dataframe\">\n",
       "  <thead>\n",
       "    <tr style=\"text-align: right;\">\n",
       "      <th></th>\n",
       "      <th>age</th>\n",
       "      <th>sex</th>\n",
       "      <th>bmi</th>\n",
       "      <th>children</th>\n",
       "      <th>smoker</th>\n",
       "      <th>region</th>\n",
       "      <th>charges</th>\n",
       "    </tr>\n",
       "  </thead>\n",
       "  <tbody>\n",
       "    <tr>\n",
       "      <th>0</th>\n",
       "      <td>19</td>\n",
       "      <td>0</td>\n",
       "      <td>27.900</td>\n",
       "      <td>0</td>\n",
       "      <td>1</td>\n",
       "      <td>3</td>\n",
       "      <td>16884.92400</td>\n",
       "    </tr>\n",
       "    <tr>\n",
       "      <th>1</th>\n",
       "      <td>18</td>\n",
       "      <td>1</td>\n",
       "      <td>33.770</td>\n",
       "      <td>1</td>\n",
       "      <td>0</td>\n",
       "      <td>2</td>\n",
       "      <td>1725.55230</td>\n",
       "    </tr>\n",
       "    <tr>\n",
       "      <th>2</th>\n",
       "      <td>28</td>\n",
       "      <td>1</td>\n",
       "      <td>33.000</td>\n",
       "      <td>3</td>\n",
       "      <td>0</td>\n",
       "      <td>2</td>\n",
       "      <td>4449.46200</td>\n",
       "    </tr>\n",
       "    <tr>\n",
       "      <th>3</th>\n",
       "      <td>33</td>\n",
       "      <td>1</td>\n",
       "      <td>22.705</td>\n",
       "      <td>0</td>\n",
       "      <td>0</td>\n",
       "      <td>1</td>\n",
       "      <td>21984.47061</td>\n",
       "    </tr>\n",
       "    <tr>\n",
       "      <th>4</th>\n",
       "      <td>32</td>\n",
       "      <td>1</td>\n",
       "      <td>28.880</td>\n",
       "      <td>0</td>\n",
       "      <td>0</td>\n",
       "      <td>1</td>\n",
       "      <td>3866.85520</td>\n",
       "    </tr>\n",
       "  </tbody>\n",
       "</table>\n",
       "</div>"
      ],
      "text/plain": [
       "   age  sex     bmi  children  smoker  region      charges\n",
       "0   19    0  27.900         0       1       3  16884.92400\n",
       "1   18    1  33.770         1       0       2   1725.55230\n",
       "2   28    1  33.000         3       0       2   4449.46200\n",
       "3   33    1  22.705         0       0       1  21984.47061\n",
       "4   32    1  28.880         0       0       1   3866.85520"
      ]
     },
     "metadata": {},
     "output_type": "display_data"
    }
   ],
   "source": [
    "from sklearn.preprocessing import LabelEncoder, OneHotEncoder\n",
    "X= insData.values\n",
    "display(insData.head())\n",
    "enclabel_sex= LabelEncoder()\n",
    "insData['sex'] = enclabel_sex.fit_transform(X[:,1])\n",
    "enclabel_smoker= LabelEncoder()\n",
    "insData['smoker'] = enclabel_smoker.fit_transform(X[:,4])\n",
    "enclabel_region= LabelEncoder()\n",
    "insData['region'] = enclabel_region.fit_transform(X[:,5])\n",
    "display(insData.head())"
   ]
  },
  {
   "cell_type": "code",
   "execution_count": 34,
   "metadata": {
    "ExecuteTime": {
     "end_time": "2018-02-07T07:19:06.096000Z",
     "start_time": "2018-02-07T08:19:06.080000+01:00"
    }
   },
   "outputs": [
    {
     "name": "stdout",
     "output_type": "stream",
     "text": [
      "['female' 'male']\n",
      "['no' 'yes']\n",
      "['northeast' 'northwest' 'southeast' 'southwest']\n"
     ]
    }
   ],
   "source": [
    "print(enclabel_sex.classes_)\n",
    "print(enclabel_smoker.classes_)\n",
    "print(enclabel_region.classes_)"
   ]
  },
  {
   "cell_type": "code",
   "execution_count": 35,
   "metadata": {
    "ExecuteTime": {
     "end_time": "2018-02-07T07:19:06.112000Z",
     "start_time": "2018-02-07T08:19:06.096000+01:00"
    }
   },
   "outputs": [],
   "source": [
    "X=insData.iloc[:,:-1].values\n",
    "y=insData.iloc[:,-1].values"
   ]
  },
  {
   "cell_type": "markdown",
   "metadata": {},
   "source": [
    "Next a new data matrix, which contains only the $k=3$ best features is determined:"
   ]
  },
  {
   "cell_type": "code",
   "execution_count": 36,
   "metadata": {
    "ExecuteTime": {
     "end_time": "2018-02-07T07:19:06.815000Z",
     "start_time": "2018-02-07T08:19:06.565000+01:00"
    }
   },
   "outputs": [
    {
     "name": "stdout",
     "output_type": "stream",
     "text": [
      "[[19.  0.  1.]\n",
      " [18.  1.  0.]\n",
      " [28.  1.  0.]\n",
      " ...\n",
      " [18.  0.  0.]\n",
      " [21.  0.  0.]\n",
      " [61.  0.  1.]]\n"
     ]
    }
   ],
   "source": [
    "selectK=fs.SelectKBest(score_func=fs.mutual_info_regression,k=3)\n",
    "reducedFeatureMatrix=selectK.fit_transform(X,y)\n",
    "print(reducedFeatureMatrix)"
   ]
  },
  {
   "cell_type": "markdown",
   "metadata": {},
   "source": [
    "The names of the remaining k best features can be obtained as follows:"
   ]
  },
  {
   "cell_type": "code",
   "execution_count": 37,
   "metadata": {
    "ExecuteTime": {
     "end_time": "2018-02-07T07:19:07.065000Z",
     "start_time": "2018-02-07T08:19:07.065000+01:00"
    }
   },
   "outputs": [
    {
     "data": {
      "text/plain": [
       "Index(['age', 'sex', 'smoker'], dtype='object')"
      ]
     },
     "execution_count": 37,
     "metadata": {},
     "output_type": "execute_result"
    }
   ],
   "source": [
    "relFeats=selectK.get_support()\n",
    "insData.columns[:-1][relFeats]"
   ]
  },
  {
   "cell_type": "markdown",
   "metadata": {},
   "source": [
    "Finally, we verify, that the obtained best features are actually the ones with the highest mutual information. In addition also the F-measure for regression is calculated in the code cell below. However, the F-measure shall be applied only for normally-distributed features, which is certainly not the case for *sex, smoker* and *region*:"
   ]
  },
  {
   "cell_type": "code",
   "execution_count": 38,
   "metadata": {
    "ExecuteTime": {
     "end_time": "2018-02-07T07:19:07.783000Z",
     "start_time": "2018-02-07T08:19:07.565000+01:00"
    }
   },
   "outputs": [
    {
     "data": {
      "text/html": [
       "<div>\n",
       "<style scoped>\n",
       "    .dataframe tbody tr th:only-of-type {\n",
       "        vertical-align: middle;\n",
       "    }\n",
       "\n",
       "    .dataframe tbody tr th {\n",
       "        vertical-align: top;\n",
       "    }\n",
       "\n",
       "    .dataframe thead th {\n",
       "        text-align: right;\n",
       "    }\n",
       "</style>\n",
       "<table border=\"1\" class=\"dataframe\">\n",
       "  <thead>\n",
       "    <tr style=\"text-align: right;\">\n",
       "      <th></th>\n",
       "      <th>Mutual Information</th>\n",
       "      <th>F Regression</th>\n",
       "      <th>p-value for F</th>\n",
       "    </tr>\n",
       "  </thead>\n",
       "  <tbody>\n",
       "    <tr>\n",
       "      <th>age</th>\n",
       "      <td>1.495426</td>\n",
       "      <td>131.174013</td>\n",
       "      <td>4.886693e-29</td>\n",
       "    </tr>\n",
       "    <tr>\n",
       "      <th>smoker</th>\n",
       "      <td>0.369171</td>\n",
       "      <td>2177.614868</td>\n",
       "      <td>8.271436e-283</td>\n",
       "    </tr>\n",
       "    <tr>\n",
       "      <th>sex</th>\n",
       "      <td>0.176660</td>\n",
       "      <td>4.399702</td>\n",
       "      <td>3.613272e-02</td>\n",
       "    </tr>\n",
       "    <tr>\n",
       "      <th>children</th>\n",
       "      <td>0.162154</td>\n",
       "      <td>6.206037</td>\n",
       "      <td>1.285213e-02</td>\n",
       "    </tr>\n",
       "    <tr>\n",
       "      <th>region</th>\n",
       "      <td>0.076324</td>\n",
       "      <td>0.051494</td>\n",
       "      <td>8.205178e-01</td>\n",
       "    </tr>\n",
       "    <tr>\n",
       "      <th>bmi</th>\n",
       "      <td>0.073331</td>\n",
       "      <td>54.709308</td>\n",
       "      <td>2.459086e-13</td>\n",
       "    </tr>\n",
       "  </tbody>\n",
       "</table>\n",
       "</div>"
      ],
      "text/plain": [
       "          Mutual Information  F Regression  p-value for F\n",
       "age                 1.495426    131.174013   4.886693e-29\n",
       "smoker              0.369171   2177.614868  8.271436e-283\n",
       "sex                 0.176660      4.399702   3.613272e-02\n",
       "children            0.162154      6.206037   1.285213e-02\n",
       "region              0.076324      0.051494   8.205178e-01\n",
       "bmi                 0.073331     54.709308   2.459086e-13"
      ]
     },
     "metadata": {},
     "output_type": "display_data"
    }
   ],
   "source": [
    "mi_all = fs.mutual_info_regression(X,y,discrete_features=np.array([1,3,4,5]))\n",
    "f_all,p_all = fs.f_regression(X,y)\n",
    "midf=pd.DataFrame(index=insData.columns[:-1],columns=[\"Mutual Information\",\"F Regression\",\"p-value for F\"])\n",
    "midf[\"Mutual Information\"]=mi_all\n",
    "midf[\"F Regression\"]=f_all\n",
    "midf[\"p-value for F\"]=p_all\n",
    "midf=midf.sort_values('Mutual Information',ascending=False)\n",
    "display(midf)"
   ]
  },
  {
   "cell_type": "markdown",
   "metadata": {},
   "source": [
    "Application of [SelectPercentile](http://scikit-learn.org/stable/modules/generated/sklearn.feature_selection.SelectPercentile.html#sklearn.feature_selection.SelectPercentile) with a percentile of $10\\%$ returns only a single feature, which is *age*. This is plausible because *age* has a much higher mutual information than the next best feature.  "
   ]
  },
  {
   "cell_type": "code",
   "execution_count": 39,
   "metadata": {
    "ExecuteTime": {
     "end_time": "2018-02-07T07:19:08.361000Z",
     "start_time": "2018-02-07T08:19:08.127000+01:00"
    }
   },
   "outputs": [
    {
     "name": "stdout",
     "output_type": "stream",
     "text": [
      "[[19.]\n",
      " [18.]\n",
      " [28.]\n",
      " ...\n",
      " [18.]\n",
      " [21.]\n",
      " [61.]]\n"
     ]
    }
   ],
   "source": [
    "selectPerc=fs.SelectPercentile(score_func=fs.mutual_info_regression,percentile=10)\n",
    "reducedFeatureMatrix2=selectPerc.fit_transform(X,y)\n",
    "print(reducedFeatureMatrix2)"
   ]
  },
  {
   "cell_type": "code",
   "execution_count": 40,
   "metadata": {
    "ExecuteTime": {
     "end_time": "2018-02-07T07:19:08.361000Z",
     "start_time": "2018-02-07T08:19:08.361000+01:00"
    }
   },
   "outputs": [
    {
     "data": {
      "text/plain": [
       "Index(['age'], dtype='object')"
      ]
     },
     "execution_count": 40,
     "metadata": {},
     "output_type": "execute_result"
    }
   ],
   "source": [
    "relFeatsP=selectPerc.get_support()\n",
    "insData.columns[:-1][relFeatsP]"
   ]
  },
  {
   "cell_type": "markdown",
   "metadata": {},
   "source": [
    "> **Remark:** In the mutual-information calculation above, the region-feature has been declared to be discrete. That's why no One-Hot Encoding is required here.    "
   ]
  },
  {
   "cell_type": "markdown",
   "metadata": {},
   "source": [
    "## Principal Component Analysis (PCA) and Linear Discriminant Analysis (LDA)\n",
    "### PCA\n",
    "PCA is applied to transform the data, which is described by $N$ features, from the $N$-dimensional into a $K<N$-dimensional space. The axes in the new space are linear combinations of the axes in the original spaces (i.e. linear combinations of the original features). Data-transformations from a higher- into a lower dimensional space usually imply a loss of information. PCA guarantees that the loss of information is minimal, if *information* is measured by *variance* of the data. For given $N$ and $K$, the amount of information-loss depends on the correlations between the features in the original space. If there are strong correlations, the information-loss is small. Without such correlations PCA shall not be applied.\n",
    "\n",
    "#### Step-by-Step Explanation of PCA\n",
    "This subsection demonstrates how PCA transforms data into a lower-dimensional space. The steps of this demo are:\n",
    "1. Generate an artificial dataset of 2-dimensional points. I.e. the dimension of the *high*-dimensional original space is $N=2$. \n",
    "2. Data is normalized in the sense that the mean of both features is subtracted. \n",
    "3. The $NxN$ covariance matrix of the given data is calculated.\n",
    "4. The *Eigenvectors* and *Eigenvalues* of the covariance matrix are calculated. The Eigenvector with the highest Eigenvalue is the axis along which the variance of the data is maximal. The Eigenvector with the 2nd highest Eigenvalue is the axis, which is orthogonal to the first Eigenvector and along which the variance of the data is 2nd.\n",
    "5. The Eigenvector with the highest Eigenvalue defines the new $K=1$-dimensional space.\n",
    "6. Data is projected in the new $K=1$-dimensional space.\n"
   ]
  },
  {
   "cell_type": "code",
   "execution_count": 41,
   "metadata": {
    "ExecuteTime": {
     "end_time": "2018-02-07T07:19:09.283000Z",
     "start_time": "2018-02-07T08:19:09.283000+01:00"
    }
   },
   "outputs": [],
   "source": [
    "%matplotlib inline\n",
    "from matplotlib import pyplot as plt\n",
    "import numpy as np\n",
    "np.set_printoptions(precision=3)\n",
    "np.random.seed(12345) #set random seed in order to provide reproducability"
   ]
  },
  {
   "cell_type": "markdown",
   "metadata": {},
   "source": [
    "Generate a set of random 2-D points according to a 2-D Gaussian Normal distribution. Mean vector and the covariance matrix of the distribution must be defined before."
   ]
  },
  {
   "cell_type": "code",
   "execution_count": 42,
   "metadata": {
    "ExecuteTime": {
     "end_time": "2018-02-07T07:19:09.877000Z",
     "start_time": "2018-02-07T08:19:09.861000+01:00"
    }
   },
   "outputs": [
    {
     "name": "stdout",
     "output_type": "stream",
     "text": [
      "[[ 2.025  2.86 ]\n",
      " [ 2.681  2.683]\n",
      " [-0.329  1.514]\n",
      " [ 1.815  2.542]\n",
      " [ 0.844  2.403]\n",
      " [ 1.509  1.166]\n",
      " [ 1.662  2.376]\n",
      " [ 0.423  1.791]\n",
      " [ 4.006  3.936]\n",
      " [ 0.589  0.994]\n",
      " [ 2.339  3.125]\n",
      " [-0.688 -0.5  ]\n",
      " [ 2.497  3.009]\n",
      " [ 1.534  2.476]\n",
      " [ 1.53   3.053]\n",
      " [ 2.959  2.724]\n",
      " [ 4.871  3.615]\n",
      " [ 2.611  3.414]\n",
      " [ 3.144  3.554]\n",
      " [ 2.88   3.481]\n",
      " [ 4.281  4.291]\n",
      " [ 3.784  3.324]\n",
      " [ 3.125  3.656]\n",
      " [ 1.909  1.889]\n",
      " [ 1.218  2.793]]\n"
     ]
    }
   ],
   "source": [
    "meanVec=[2.0,2.5]\n",
    "covMat=[[1,0.6],[0.6,0.8]]\n",
    "numPoints=25\n",
    "pointlist=np.random.multivariate_normal(mean=meanVec,cov=covMat,size=numPoints)\n",
    "print(pointlist)"
   ]
  },
  {
   "cell_type": "markdown",
   "metadata": {},
   "source": [
    "Calculate the actual mean and the actual covariance of the generated set of random points."
   ]
  },
  {
   "cell_type": "code",
   "execution_count": 43,
   "metadata": {
    "ExecuteTime": {
     "end_time": "2018-02-07T07:19:10.408000Z",
     "start_time": "2018-02-07T08:19:10.408000+01:00"
    }
   },
   "outputs": [
    {
     "name": "stdout",
     "output_type": "stream",
     "text": [
      "Mean of points :     [2.129 2.647]\n",
      "Covariance of points   \n",
      " [[1.9   1.245]\n",
      " [1.245 1.128]]\n"
     ]
    }
   ],
   "source": [
    "mPoint=np.mean(pointlist,axis=0)\n",
    "print('Mean of points :    ',mPoint)\n",
    "coPoint=np.cov(np.transpose(pointlist))\n",
    "print('Covariance of points   \\n',coPoint)"
   ]
  },
  {
   "cell_type": "markdown",
   "metadata": {},
   "source": [
    "Normalize the set of random points by subtracting the actual mean vector from all points in the pointset. The resulting normalized pointset has a mean of $[0.0 , 0.0]$."
   ]
  },
  {
   "cell_type": "code",
   "execution_count": 44,
   "metadata": {
    "ExecuteTime": {
     "end_time": "2018-02-07T07:19:11.179000Z",
     "start_time": "2018-02-07T08:19:11.179000+01:00"
    }
   },
   "outputs": [],
   "source": [
    "Normedpointlist = pointlist - mPoint"
   ]
  },
  {
   "cell_type": "markdown",
   "metadata": {},
   "source": [
    "Plot original set of random points and the normalized representation of this point set:"
   ]
  },
  {
   "cell_type": "code",
   "execution_count": 45,
   "metadata": {
    "ExecuteTime": {
     "end_time": "2018-02-07T07:19:12.179000Z",
     "start_time": "2018-02-07T08:19:11.742000+01:00"
    }
   },
   "outputs": [
    {
     "data": {
      "image/png": "[encoded data removed]",
      "text/plain": [
       "<Figure size 1008x576 with 2 Axes>"
      ]
     },
     "metadata": {
      "filenames": {
       "image/png": "/Users/johannes/gitprojects/dsmmlbook/mlbook/_build/jupyter_execute/Lecture/12FeatureSelection_86_0.png"
      },
      "needs_background": "light"
     },
     "output_type": "display_data"
    }
   ],
   "source": [
    "plt.figure(figsize=(14,8))\n",
    "plt.subplot(1,2,1)\n",
    "plt.axis([-5,5,-5,5])\n",
    "plt.plot(pointlist[:,0],pointlist[:,1],'bs')\n",
    "plt.grid(True)\n",
    "plt.title('Original Data')\n",
    "plt.xlabel('x1')\n",
    "plt.ylabel('x2')\n",
    "plt.subplot(1,2,2)\n",
    "plt.axis([-5,5,-5,5])\n",
    "plt.plot(Normedpointlist[:,0],Normedpointlist[:,1],'bs')\n",
    "plt.grid(True)\n",
    "plt.title('Normed Representation of Original Data')\n",
    "plt.xlabel('x1')\n",
    "plt.ylabel('x2')\n",
    "plt.show()"
   ]
  },
  {
   "cell_type": "markdown",
   "metadata": {},
   "source": [
    "Calculate Eigenvectors and Eigenvalues"
   ]
  },
  {
   "cell_type": "code",
   "execution_count": 46,
   "metadata": {
    "ExecuteTime": {
     "end_time": "2018-02-07T07:19:12.539000Z",
     "start_time": "2018-02-07T08:19:12.523000+01:00"
    }
   },
   "outputs": [
    {
     "name": "stdout",
     "output_type": "stream",
     "text": [
      "Eigenvectors of covariance matrix:\n",
      "[[ 0.805 -0.593]\n",
      " [ 0.593  0.805]]\n",
      "Eigenvalues of covariance matrix:\n",
      "[2.818 0.211]\n"
     ]
    }
   ],
   "source": [
    "eigVal,eigVec=np.linalg.eig(coPoint)\n",
    "print('Eigenvectors of covariance matrix:')\n",
    "print(eigVec)\n",
    "print('Eigenvalues of covariance matrix:')\n",
    "print(eigVal)"
   ]
  },
  {
   "cell_type": "markdown",
   "metadata": {},
   "source": [
    "Reorder Eigenvectors and Eigenvalues according to descending Eigenvalues"
   ]
  },
  {
   "cell_type": "code",
   "execution_count": 47,
   "metadata": {
    "ExecuteTime": {
     "end_time": "2018-02-07T07:19:13.205000Z",
     "start_time": "2018-02-07T08:19:13.205000+01:00"
    }
   },
   "outputs": [
    {
     "name": "stdout",
     "output_type": "stream",
     "text": [
      "Eigenvectors of covariance matrix after reordering:\n",
      "[[ 0.805 -0.593]\n",
      " [ 0.593  0.805]]\n",
      "Eigenvalues of covariance matrix: after reordering\n",
      "[2.818 0.211]\n"
     ]
    }
   ],
   "source": [
    "ind = eigVal.argsort()\n",
    "ind = np.fliplr([ind])[0,:]#fliplr requires a 2-dim Matrix. \n",
    "eigVal = eigVal[ind]\n",
    "eigVec = eigVec.transpose()[ind].transpose()#matrix is first transposed in order to reorder columns not rows. After reordering it is again transposed\n",
    "print('Eigenvectors of covariance matrix after reordering:')\n",
    "print(eigVec)\n",
    "print('Eigenvalues of covariance matrix: after reordering')\n",
    "print(eigVal)"
   ]
  },
  {
   "cell_type": "markdown",
   "metadata": {},
   "source": [
    "Visualize Eigenvectors and Eigenvalues in plot of normalized data."
   ]
  },
  {
   "cell_type": "code",
   "execution_count": 48,
   "metadata": {
    "ExecuteTime": {
     "end_time": "2018-02-07T07:19:14.127000Z",
     "start_time": "2018-02-07T08:19:13.768000+01:00"
    }
   },
   "outputs": [
    {
     "name": "stdout",
     "output_type": "stream",
     "text": [
      "[-3.684 -2.947 -2.21  -1.474 -0.737  0.     0.737  1.474  2.21   2.947]\n"
     ]
    },
    {
     "data": {
      "image/png": "[encoded data removed]",
      "text/plain": [
       "<Figure size 576x576 with 1 Axes>"
      ]
     },
     "metadata": {
      "filenames": {
       "image/png": "/Users/johannes/gitprojects/dsmmlbook/mlbook/_build/jupyter_execute/Lecture/12FeatureSelection_92_1.png"
      },
      "needs_background": "light"
     },
     "output_type": "display_data"
    }
   ],
   "source": [
    "plt.figure(figsize=(8,8))\n",
    "x=np.arange(-5,5)\n",
    "O=[0,0]\n",
    "P1=[eigVal[0]*eigVec[0,0],eigVal[0]*eigVec[1,0]]\n",
    "P2=[eigVal[1]*eigVec[0,1],eigVal[1]*eigVec[1,1]]\n",
    "print(x*eigVec[1,0]/eigVec[0,0])\n",
    "y1=x*eigVec[1,0]/eigVec[0,0]\n",
    "y2=x*eigVec[1,1]/eigVec[0,1]\n",
    "plt.axis([-5,5,-5,5])\n",
    "# Plot the normalized pointset\n",
    "plt.plot(Normedpointlist[:,0],Normedpointlist[:,1],'bs')\n",
    "plt.grid(True)\n",
    "plt.title('Normed Representation of Original Data')\n",
    "plt.xlabel('x1')\n",
    "plt.ylabel('x2')\n",
    "# Plot the Eigenvectors\n",
    "plt.plot(x,y1,'k--',label='Principal Component: Direction of 1st Eigenvector')\n",
    "plt.plot(x,y2,'k:',label='Direction of 2nd Eigenvector')\n",
    "plt.plot([O[0],P1[0]],[O[1],P1[1]],'r',linewidth=3,label='Length of 1st Eigenvalue')\n",
    "plt.plot([O[0],P2[0]],[O[1],P2[1]],'g',linewidth=3,label='Length of 2nd Eigenvalue')\n",
    "plt.legend()\n",
    "plt.show()"
   ]
  },
  {
   "cell_type": "markdown",
   "metadata": {},
   "source": [
    "The figure above demonstrates, that the direction of the principal component (i.e. the Eigenvector whose Eigenvalue is maximal) is the direction of maximum variance in the data. The second Eigenvector is orthogonal to the first Eigenvector. "
   ]
  },
  {
   "cell_type": "markdown",
   "metadata": {},
   "source": [
    "Transform the normalized data into\n",
    "\n",
    "  * 2-dimensional Eigenspace (corresponding transformation matrix contains both Eigenvectors as columns)\n",
    "  * 1-dimensional Eigenspace (corresponding transformation matrix contains only 1st Eigenvector as column)\n",
    "\n"
   ]
  },
  {
   "cell_type": "code",
   "execution_count": 49,
   "metadata": {
    "ExecuteTime": {
     "end_time": "2018-02-07T07:19:15.565000Z",
     "start_time": "2018-02-07T08:19:15.065000+01:00"
    }
   },
   "outputs": [
    {
     "name": "stdout",
     "output_type": "stream",
     "text": [
      "Transformed Data in 2-dimensional Eigenspace:\n",
      "[[ 0.043  0.466 -2.65  -0.315 -1.179 -1.377 -0.536 -1.881  2.275 -2.22\n",
      "   0.453 -4.134  0.512 -0.581 -0.241  0.714  2.782  0.843  1.356  1.1\n",
      "   2.708  1.734  1.4   -0.626 -0.646]\n",
      " [ 0.233 -0.298  0.545  0.102  0.566 -0.824  0.059  0.323 -0.076 -0.417\n",
      "   0.26  -0.862  0.073  0.215  0.682 -0.43  -0.847  0.332  0.128  0.226\n",
      "   0.047 -0.437  0.221 -0.48   0.658]]\n",
      "Transformed Data in 1-dimensional Eigenspace:\n",
      "[ 0.043  0.466 -2.65  -0.315 -1.179 -1.377 -0.536 -1.881  2.275 -2.22\n",
      "  0.453 -4.134  0.512 -0.581 -0.241  0.714  2.782  0.843  1.356  1.1\n",
      "  2.708  1.734  1.4   -0.626 -0.646]\n"
     ]
    },
    {
     "data": {
      "text/plain": [
       "Text(0.5, 0, 'y1')"
      ]
     },
     "execution_count": 49,
     "metadata": {},
     "output_type": "execute_result"
    },
    {
     "data": {
      "image/png": "[encoded data removed]",
      "text/plain": [
       "<Figure size 1152x576 with 2 Axes>"
      ]
     },
     "metadata": {
      "filenames": {
       "image/png": "/Users/johannes/gitprojects/dsmmlbook/mlbook/_build/jupyter_execute/Lecture/12FeatureSelection_95_2.png"
      },
      "needs_background": "light"
     },
     "output_type": "display_data"
    }
   ],
   "source": [
    "Y=np.dot(eigVec.transpose(),Normedpointlist.transpose())\n",
    "print('Transformed Data in 2-dimensional Eigenspace:')\n",
    "print(Y)\n",
    "plt.figure(figsize=(16,8))\n",
    "plt.subplot(1,2,1)\n",
    "plt.axis([-5,5,-5,5])\n",
    "plt.grid(True)\n",
    "plt.axhline(linewidth=3,color='r',label='Principal Component')\n",
    "plt.axvline(linewidth=3,color='g',label='Direction of 2nd Eigenvector')\n",
    "plt.plot(Y[0,:].round(3),Y[1,:].round(3),'sb')\n",
    "plt.title('Transformed data in w=d=2-dimensional Eigenspace: \\n Normed data according to new coordinate system')\n",
    "plt.xlabel('y1')\n",
    "plt.ylabel('y2')\n",
    "\n",
    "Y1=np.dot(eigVec[:,0].transpose(),Normedpointlist.transpose())\n",
    "print('Transformed Data in 1-dimensional Eigenspace:')\n",
    "print(Y1)\n",
    "yvals=np.zeros(Y1.shape[0])\n",
    "plt.subplot(1,2,2)\n",
    "plt.axis([-5,5,-5,5])\n",
    "plt.grid(True)\n",
    "plt.axhline(linewidth=3,color='r',label='Hauptachse')\n",
    "plt.plot(Y1.round(3),yvals.round(3),'sb')\n",
    "plt.title('Transformed data in w=d-1=1-dimensional Eigenspace: \\n Normed data according to new coordinate system')\n",
    "plt.xlabel('y1')"
   ]
  },
  {
   "cell_type": "markdown",
   "metadata": {},
   "source": [
    "### LDA\n",
    "LDA is similar to PCA in the sense that it transforms data into a lower-dimensional space, such that a maximum amount of *information* is retained. The main differences are:\n",
    "* In contrast to PCA LDA requires **labeled data**\n",
    "* PCA finds a subspace, such that a maximum of the **variance** of the original data is retained. LDA finds a subspace, such that the class-separability is retained as much as possible."
   ]
  },
  {
   "cell_type": "markdown",
   "metadata": {},
   "source": [
    "### PCA and LDA in scikit-learn\n",
    "The following code-cell demonstrates the application of the [scikit-learn PCA module](http://scikit-learn.org/stable/modules/generated/sklearn.decomposition.PCA.html#sklearn.decomposition.PCA) and the [scikit-learn LDA module](http://scikit-learn.org/stable/modules/generated/sklearn.discriminant_analysis.LinearDiscriminantAnalysis.html#sklearn.discriminant_analysis.LinearDiscriminantAnalysis). In this demonstration the 4-dimensional Iris-dataset is transformed into a 2-dimensional space. "
   ]
  },
  {
   "cell_type": "code",
   "execution_count": 50,
   "metadata": {
    "ExecuteTime": {
     "end_time": "2018-02-07T07:19:18.816000Z",
     "start_time": "2018-02-07T08:19:16.518000+01:00"
    }
   },
   "outputs": [
    {
     "name": "stdout",
     "output_type": "stream",
     "text": [
      "Size of feature matrix: (150, 4)\n",
      "First 10 instances:\n",
      "[[5.1 3.5 1.4 0.2]\n",
      " [4.9 3.  1.4 0.2]\n",
      " [4.7 3.2 1.3 0.2]\n",
      " [4.6 3.1 1.5 0.2]\n",
      " [5.  3.6 1.4 0.2]\n",
      " [5.4 3.9 1.7 0.4]\n",
      " [4.6 3.4 1.4 0.3]\n",
      " [5.  3.4 1.5 0.2]\n",
      " [4.4 2.9 1.4 0.2]\n",
      " [4.9 3.1 1.5 0.1]]\n"
     ]
    }
   ],
   "source": [
    "from sklearn import datasets\n",
    "from sklearn.decomposition import PCA\n",
    "from sklearn.discriminant_analysis import LinearDiscriminantAnalysis\n",
    "\n",
    "iris = datasets.load_iris()\n",
    "\n",
    "X = iris.data\n",
    "y = iris.target\n",
    "target_names = iris.target_names\n",
    "print(\"Size of feature matrix:\",X.shape)\n",
    "print(\"First 10 instances:\")\n",
    "print(X[:10])"
   ]
  },
  {
   "cell_type": "code",
   "execution_count": 51,
   "metadata": {
    "ExecuteTime": {
     "end_time": "2018-02-07T07:19:18.816000Z",
     "start_time": "2018-02-07T08:19:16.518000+01:00"
    }
   },
   "outputs": [
    {
     "name": "stdout",
     "output_type": "stream",
     "text": [
      "Size of matrix: (150, 2)\n",
      "First 10 instances:\n",
      "[[-2.684  0.319]\n",
      " [-2.714 -0.177]\n",
      " [-2.889 -0.145]\n",
      " [-2.745 -0.318]\n",
      " [-2.729  0.327]\n",
      " [-2.281  0.741]\n",
      " [-2.821 -0.089]\n",
      " [-2.626  0.163]\n",
      " [-2.886 -0.578]\n",
      " [-2.673 -0.114]]\n"
     ]
    }
   ],
   "source": [
    "pca = PCA(n_components=2)\n",
    "X_r = pca.fit_transform(X)\n",
    "print(\"Size of matrix:\",X_r.shape)\n",
    "print(\"First 10 instances:\")\n",
    "print(X_r[:10])"
   ]
  },
  {
   "cell_type": "code",
   "execution_count": 52,
   "metadata": {
    "ExecuteTime": {
     "end_time": "2018-02-07T07:19:18.816000Z",
     "start_time": "2018-02-07T08:19:16.518000+01:00"
    }
   },
   "outputs": [
    {
     "name": "stdout",
     "output_type": "stream",
     "text": [
      "explained variance ratio (first two components): [0.925 0.053]\n",
      "First principal component explains 0.925 of the original variance\n",
      "Second principal component explains 0.053 of the original variance\n"
     ]
    },
    {
     "data": {
      "text/plain": [
       "<Figure size 864x576 with 0 Axes>"
      ]
     },
     "metadata": {},
     "output_type": "display_data"
    }
   ],
   "source": [
    "lda = LinearDiscriminantAnalysis(n_components=2)\n",
    "X_r2 = lda.fit(X, y).transform(X)\n",
    "\n",
    "# Percentage of variance explained for each components\n",
    "print('explained variance ratio (first two components): %s'\n",
    "      % str(pca.explained_variance_ratio_))\n",
    "print('First principal component explains %2.3f of the original variance'%pca.explained_variance_ratio_[0])\n",
    "print('Second principal component explains %2.3f of the original variance'%pca.explained_variance_ratio_[1])\n",
    "plt.figure(figsize=(12,8))\n",
    "colors = ['navy', 'turquoise', 'darkorange']\n",
    "lw = 2"
   ]
  },
  {
   "cell_type": "code",
   "execution_count": 53,
   "metadata": {
    "ExecuteTime": {
     "end_time": "2018-02-07T07:19:18.816000Z",
     "start_time": "2018-02-07T08:19:16.518000+01:00"
    }
   },
   "outputs": [
    {
     "data": {
      "image/png": "[encoded data removed]",
      "text/plain": [
       "<Figure size 864x576 with 1 Axes>"
      ]
     },
     "metadata": {
      "filenames": {
       "image/png": "/Users/johannes/gitprojects/dsmmlbook/mlbook/_build/jupyter_execute/Lecture/12FeatureSelection_101_0.png"
      },
      "needs_background": "light"
     },
     "output_type": "display_data"
    },
    {
     "data": {
      "image/png": "[encoded data removed]",
      "text/plain": [
       "<Figure size 864x576 with 1 Axes>"
      ]
     },
     "metadata": {
      "filenames": {
       "image/png": "/Users/johannes/gitprojects/dsmmlbook/mlbook/_build/jupyter_execute/Lecture/12FeatureSelection_101_1.png"
      },
      "needs_background": "light"
     },
     "output_type": "display_data"
    }
   ],
   "source": [
    "plt.figure(figsize=(12,8))\n",
    "for color, i, target_name in zip(colors, [0, 1, 2], target_names):\n",
    "    plt.scatter(X_r[y == i, 0], X_r[y == i, 1], color=color, alpha=.8, lw=lw,\n",
    "                label=target_name)\n",
    "plt.legend(loc='best', shadow=False, scatterpoints=1)\n",
    "plt.title('PCA of IRIS dataset')\n",
    "\n",
    "plt.figure(figsize=(12,8))\n",
    "for color, i, target_name in zip(colors, [0, 1, 2], target_names):\n",
    "    plt.scatter(X_r2[y == i, 0], X_r2[y == i, 1], alpha=.8, color=color,\n",
    "                label=target_name)\n",
    "plt.legend(loc='best', shadow=False, scatterpoints=1)\n",
    "plt.title('LDA of IRIS dataset')\n",
    "\n",
    "plt.show()"
   ]
  }
 ],
 "metadata": {
  "kernelspec": {
   "display_name": "Python 3",
   "language": "python",
   "name": "python3"
  },
  "language_info": {
   "codemirror_mode": {
    "name": "ipython",
    "version": 3
   },
   "file_extension": ".py",
   "mimetype": "text/x-python",
   "name": "python",
   "nbconvert_exporter": "python",
   "pygments_lexer": "ipython3",
   "version": "3.8.12"
  },
  "nav_menu": {},
  "toc": {
   "base_numbering": 1,
   "nav_menu": {},
   "number_sections": true,
   "sideBar": false,
   "skip_h1_title": false,
   "title_cell": "Table of Contents",
   "title_sidebar": "Contents",
   "toc_cell": false,
   "toc_position": {},
   "toc_section_display": false,
   "toc_window_display": false
  },
  "toc_position": {
   "height": "683px",
   "left": "0px",
   "right": "1484px",
   "top": "125.233px",
   "width": "212px"
  }
 },
 "nbformat": 4,
 "nbformat_minor": 4
}